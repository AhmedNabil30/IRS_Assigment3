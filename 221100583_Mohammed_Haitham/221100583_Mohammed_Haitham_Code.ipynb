{
  "cells": [
    {
      "cell_type": "markdown",
      "metadata": {
        "id": "ByRDRBiFH-Ib"
      },
      "source": [
        "# General Requirements"
      ]
    },
    {
      "cell_type": "markdown",
      "metadata": {
        "id": "uChWNc95H-Ib"
      },
      "source": [
        "#### Import Libraries and Load Dataset"
      ]
    },
    {
      "cell_type": "code",
      "execution_count": 2,
      "metadata": {
        "colab": {
          "base_uri": "https://localhost:8080/"
        },
        "id": "4GrpKyGwH-Ic",
        "outputId": "c1af7ff4-38af-444e-c581-d16f570733c6"
      },
      "outputs": [
        {
          "output_type": "stream",
          "name": "stdout",
          "text": [
            "Loaded Dataset Preview:\n",
            "   user_id  media_id  rating                   title\n",
            "0        1     27205     8.3               Inception\n",
            "1        1    157336     8.1            Interstellar\n",
            "2        1       155     8.5         The Dark Knight\n",
            "3        1    299536     8.3  Avengers: Infinity War\n",
            "4        1       550     7.9              Fight Club\n"
          ]
        }
      ],
      "source": [
        "import pandas as pd\n",
        "import numpy as np\n",
        "import matplotlib.pyplot as plt\n",
        "import seaborn as sns\n",
        "\n",
        "dataset_path = r'/content/user_movie_ratings_data.csv'\n",
        "\n",
        "data = pd.read_csv(dataset_path)\n",
        "\n",
        "print(\"Loaded Dataset Preview:\")\n",
        "print(data.head())"
      ]
    },
    {
      "cell_type": "markdown",
      "metadata": {
        "id": "NZfysEyKH-Ic"
      },
      "source": [
        "#### Adjust Ratings to a 1-to-5 Scale"
      ]
    },
    {
      "cell_type": "code",
      "execution_count": 3,
      "metadata": {
        "colab": {
          "base_uri": "https://localhost:8080/"
        },
        "id": "mogmnh1wH-Ic",
        "outputId": "3f53928a-16d7-4717-edc7-a7b4d07a400b"
      },
      "outputs": [
        {
          "output_type": "stream",
          "name": "stdout",
          "text": [
            "\n",
            "Adjusting Ratings to a 1-to-5 Scale...\n",
            "Adjusted Ratings Preview:\n",
            "   user_id  media_id    rating                   title\n",
            "0        1     27205  4.278351               Inception\n",
            "1        1    157336  4.175258            Interstellar\n",
            "2        1       155  4.381443         The Dark Knight\n",
            "3        1    299536  4.278351  Avengers: Infinity War\n",
            "4        1       550  4.072165              Fight Club\n"
          ]
        }
      ],
      "source": [
        "print(\"\\nAdjusting Ratings to a 1-to-5 Scale...\")\n",
        "data['rating'] = data['rating'] * (5 / data['rating'].max())\n",
        "print(\"Adjusted Ratings Preview:\")\n",
        "print(data.head())"
      ]
    },
    {
      "cell_type": "markdown",
      "metadata": {
        "id": "hvRHen15H-Id"
      },
      "source": [
        "#### Count Total Number of Users (Tnu)"
      ]
    },
    {
      "cell_type": "code",
      "execution_count": 4,
      "metadata": {
        "colab": {
          "base_uri": "https://localhost:8080/"
        },
        "id": "4BH4lc7-H-Id",
        "outputId": "3e2d49ee-0b47-4f6e-cb8a-41676024c571"
      },
      "outputs": [
        {
          "output_type": "stream",
          "name": "stdout",
          "text": [
            "Total Number of Users (Tnu): 100\n"
          ]
        }
      ],
      "source": [
        "Tnu = data['user_id'].nunique()\n",
        "print(f\"Total Number of Users (Tnu): {Tnu}\")"
      ]
    },
    {
      "cell_type": "markdown",
      "metadata": {
        "id": "iC2MfF-LH-Id"
      },
      "source": [
        "#### Count Total Number of Items (Tni)"
      ]
    },
    {
      "cell_type": "code",
      "execution_count": 5,
      "metadata": {
        "colab": {
          "base_uri": "https://localhost:8080/"
        },
        "id": "bsmnXXjbH-Id",
        "outputId": "9756af04-711a-4e4b-af02-aedcdcbe6485"
      },
      "outputs": [
        {
          "output_type": "stream",
          "name": "stdout",
          "text": [
            "Total Number of Items (Tni): 86\n"
          ]
        }
      ],
      "source": [
        "Tni = data['media_id'].nunique()\n",
        "print(f\"Total Number of Items (Tni): {Tni}\")"
      ]
    },
    {
      "cell_type": "markdown",
      "metadata": {
        "id": "221pUV5IH-Ie"
      },
      "source": [
        "#### Count Ratings for Every Product"
      ]
    },
    {
      "cell_type": "code",
      "execution_count": 6,
      "metadata": {
        "colab": {
          "base_uri": "https://localhost:8080/"
        },
        "id": "zpPDGtqpH-Ie",
        "outputId": "eb2c2200-6bfd-4c35-a189-26fc3abddf10"
      },
      "outputs": [
        {
          "output_type": "stream",
          "name": "stdout",
          "text": [
            "\n",
            "Ratings Count for Each Product (Top 5):\n",
            "media_id\n",
            "13     19\n",
            "28     14\n",
            "73     17\n",
            "101    16\n",
            "105    19\n",
            "Name: rating, dtype: int64\n"
          ]
        }
      ],
      "source": [
        "ratings_count = data.groupby('media_id')['rating'].count()\n",
        "print(\"\\nRatings Count for Each Product (Top 5):\")\n",
        "print(ratings_count.head())"
      ]
    },
    {
      "cell_type": "markdown",
      "metadata": {
        "id": "YksfGMc-H-Ie"
      },
      "source": [
        "#### Draw Distribution of Ratings"
      ]
    },
    {
      "cell_type": "code",
      "execution_count": 7,
      "metadata": {
        "colab": {
          "base_uri": "https://localhost:8080/",
          "height": 599
        },
        "id": "Mv0nAJ6OH-Ie",
        "outputId": "893b90a5-5c68-464b-8241-e4696059fe84"
      },
      "outputs": [
        {
          "output_type": "stream",
          "name": "stdout",
          "text": [
            "\n",
            "Drawing Distribution of Ratings...\n"
          ]
        },
        {
          "output_type": "display_data",
          "data": {
            "text/plain": [
              "<Figure size 800x600 with 1 Axes>"
            ],
            "image/png": "[encoded data removed]"
          },
          "metadata": {}
        }
      ],
      "source": [
        "print(\"\\nDrawing Distribution of Ratings...\")\n",
        "plt.figure(figsize=(8, 6))\n",
        "sns.histplot(data['rating'], bins=10, kde=True, color='blue')\n",
        "plt.title(\"Distribution of Ratings\")\n",
        "plt.xlabel(\"Ratings\")\n",
        "plt.ylabel(\"Frequency\")\n",
        "plt.grid()\n",
        "plt.show()"
      ]
    },
    {
      "cell_type": "markdown",
      "metadata": {
        "id": "9jMvrN6LH-Ie"
      },
      "source": [
        "#### Check for Matrix Sparsity or Bias"
      ]
    },
    {
      "cell_type": "code",
      "execution_count": 8,
      "metadata": {
        "colab": {
          "base_uri": "https://localhost:8080/"
        },
        "id": "6ZlInUmRH-Ie",
        "outputId": "f13e6b43-5c43-4ffe-ccc9-60d738821b36"
      },
      "outputs": [
        {
          "output_type": "stream",
          "name": "stdout",
          "text": [
            "\n",
            "Checking for Matrix Sparsity...\n",
            "Matrix Sparsity: 0.00%\n"
          ]
        }
      ],
      "source": [
        "print(\"\\nChecking for Matrix Sparsity...\")\n",
        "user_item_matrix = data.pivot(index='user_id', columns='media_id', values='rating')\n",
        "sparsity = 1.0 - np.count_nonzero(user_item_matrix) / user_item_matrix.size\n",
        "print(f\"Matrix Sparsity: {sparsity:.2%}\")"
      ]
    },
    {
      "cell_type": "markdown",
      "metadata": {
        "id": "5ASrir9pH-If"
      },
      "source": [
        "#### Matrix Sparsity Bias Check"
      ]
    },
    {
      "cell_type": "code",
      "execution_count": 9,
      "metadata": {
        "colab": {
          "base_uri": "https://localhost:8080/",
          "height": 1000
        },
        "id": "mu1e1uZ9H-If",
        "outputId": "bb33dd13-7025-4680-d127-2979edb9687d"
      },
      "outputs": [
        {
          "output_type": "stream",
          "name": "stdout",
          "text": [
            "\n",
            "=== Sparsity and Bias Analysis ===\n",
            "Dataset loaded successfully!\n",
            "   user_id  media_id  rating                   title\n",
            "0        1     27205     8.3               Inception\n",
            "1        1    157336     8.1            Interstellar\n",
            "2        1       155     8.5         The Dark Knight\n",
            "3        1    299536     8.3  Avengers: Infinity War\n",
            "4        1       550     7.9              Fight Club\n",
            "\n",
            "=== Sparsity and Bias Analysis ===\n",
            "Total entries in the ratings matrix: 8600\n",
            "Non-zero ratings: 1478\n",
            "Matrix sparsity: 0.8281\n"
          ]
        },
        {
          "output_type": "display_data",
          "data": {
            "text/plain": [
              "<Figure size 1200x800 with 1 Axes>"
            ],
            "image/png": "[encoded data removed]"
          },
          "metadata": {}
        }
      ],
      "source": [
        "import pandas as pd\n",
        "import numpy as np\n",
        "import seaborn as sns\n",
        "import matplotlib.pyplot as plt\n",
        "\n",
        "print(\"\\n=== Sparsity and Bias Analysis ===\")\n",
        "\n",
        "file_path = r'/content/user_movie_ratings_data.csv'\n",
        "df = pd.read_csv(file_path)\n",
        "\n",
        "print(\"Dataset loaded successfully!\")\n",
        "print(df.head())\n",
        "\n",
        "ratings_matrix = df.pivot(index='user_id', columns='media_id', values='rating')\n",
        "\n",
        "num_total_entries = ratings_matrix.shape[0] * ratings_matrix.shape[1]\n",
        "num_non_zero_entries = np.count_nonzero(~ratings_matrix.isnull())\n",
        "sparsity_ratio = 1 - (num_non_zero_entries / num_total_entries)\n",
        "\n",
        "print(\"\\n=== Sparsity and Bias Analysis ===\")\n",
        "print(f\"Total entries in the ratings matrix: {num_total_entries}\")\n",
        "print(f\"Non-zero ratings: {num_non_zero_entries}\")\n",
        "print(f\"Matrix sparsity: {sparsity_ratio:.4f}\")\n",
        "\n",
        "plt.figure(figsize=(12, 8))\n",
        "sns.heatmap(\n",
        "    ratings_matrix.isnull(),\n",
        "    cbar=False,\n",
        "    cmap=\"viridis\",\n",
        "    yticklabels=False\n",
        ")\n",
        "plt.title(\"Heatmap of Missing Ratings (Sparsity)\")\n",
        "plt.xlabel(\"Items\")\n",
        "plt.ylabel(\"Users\")\n",
        "plt.show()"
      ]
    },
    {
      "cell_type": "markdown",
      "metadata": {
        "id": "WaMSoYUQH-If"
      },
      "source": [
        "#### Choose Two Lowest-Rated Items"
      ]
    },
    {
      "cell_type": "code",
      "execution_count": 10,
      "metadata": {
        "colab": {
          "base_uri": "https://localhost:8080/"
        },
        "id": "l8WtmV3aH-If",
        "outputId": "631dc375-29df-4251-c851-c47d90302a0a"
      },
      "outputs": [
        {
          "output_type": "stream",
          "name": "stdout",
          "text": [
            "\n",
            "Identifying Two Lowest-Rated Items...\n",
            "Lowest-Rated Items: I1 = 504253, I2 = 8587\n"
          ]
        }
      ],
      "source": [
        "print(\"\\nIdentifying Two Lowest-Rated Items...\")\n",
        "item_avg_ratings = data.groupby('media_id')['rating'].mean()\n",
        "lowest_rated_items = item_avg_ratings.nsmallest(2).index.tolist()\n",
        "I1, I2 = lowest_rated_items[0], lowest_rated_items[1]\n",
        "print(f\"Lowest-Rated Items: I1 = {I1}, I2 = {I2}\")"
      ]
    },
    {
      "cell_type": "markdown",
      "metadata": {
        "id": "heWi-XsgH-If"
      },
      "source": [
        "#### Save Results"
      ]
    },
    {
      "cell_type": "code",
      "execution_count": 11,
      "metadata": {
        "colab": {
          "base_uri": "https://localhost:8080/"
        },
        "id": "fpt_A1szH-If",
        "outputId": "9638c725-9cb9-400e-de58-474c6a45b5ef"
      },
      "outputs": [
        {
          "output_type": "stream",
          "name": "stdout",
          "text": [
            "\n",
            "Saving Key Results...\n",
            "Total Users (Tnu): 100\n",
            "Total Items (Tni): 86\n",
            "Matrix Sparsity (%): 0.0\n",
            "Lowest Rated Items: [504253, 8587]\n"
          ]
        }
      ],
      "source": [
        "print(\"\\nSaving Key Results...\")\n",
        "results = {\n",
        "    'Total Users (Tnu)': Tnu,\n",
        "    'Total Items (Tni)': Tni,\n",
        "    'Matrix Sparsity (%)': sparsity * 100,\n",
        "    'Lowest Rated Items': [I1, I2]\n",
        "}\n",
        "\n",
        "for key, value in results.items():\n",
        "    print(f\"{key}: {value}\")\n"
      ]
    },
    {
      "cell_type": "markdown",
      "metadata": {
        "id": "FF0AQ1LMH-Ig"
      },
      "source": [
        "-------------------------------------------------------------------------------------"
      ]
    },
    {
      "cell_type": "markdown",
      "metadata": {
        "id": "sjTnLBqBH-Ig"
      },
      "source": [
        "# Part 1: PCA Method with Mean-Filling"
      ]
    },
    {
      "cell_type": "markdown",
      "metadata": {
        "id": "gzD51pezH-Ig"
      },
      "source": [
        "#### Calculate the Average Rating for Each Target Item"
      ]
    },
    {
      "cell_type": "code",
      "execution_count": 12,
      "metadata": {
        "colab": {
          "base_uri": "https://localhost:8080/"
        },
        "id": "AnVmTJrvH-Ig",
        "outputId": "4cd8b023-53bb-4313-fc13-65d6e7d2606c"
      },
      "outputs": [
        {
          "output_type": "stream",
          "name": "stdout",
          "text": [
            "\n",
            "=== Average Ratings for Target Items ===\n",
            "Item 40096: Average Rating = 4.26\n",
            "Item 504253: Average Rating = 4.05\n"
          ]
        }
      ],
      "source": [
        "print(\"\\n=== Average Ratings for Target Items ===\")\n",
        "target_items = [40096, 504253]\n",
        "average_ratings = data[data['media_id'].isin(target_items)].groupby('media_id')['rating'].mean()\n",
        "for item, avg in average_ratings.items():\n",
        "    print(f\"Item {item}: Average Rating = {avg:.2f}\")"
      ]
    },
    {
      "cell_type": "markdown",
      "metadata": {
        "id": "YGDzCoxxH-Ig"
      },
      "source": [
        "#### Replace Missing Ratings with Mean-Filling"
      ]
    },
    {
      "cell_type": "code",
      "execution_count": 13,
      "metadata": {
        "colab": {
          "base_uri": "https://localhost:8080/"
        },
        "id": "peyBW0L5H-Ig",
        "outputId": "3b31979b-79b4-4bfb-a407-c7c22f904109"
      },
      "outputs": [
        {
          "output_type": "stream",
          "name": "stdout",
          "text": [
            "\n",
            "=== Matrix with Mean-Filled Values ===\n",
            "media_id   13        28        73        101       105       120       121       122       128       129       155       207       238       240       274       278       311       335       346       389       423       424       429      497       510       539       550       567       598       599      637       670       680       769       807       901       914       975       1585     1891      3082      3782      4935      8587      10376     10494     11216     12477     12493     14537     18491     19404     25237     27205     40096     42269    77338     92321     110420    157336   244786    255709    265177    283566    299534    299536    324857    372058   378064    447362    490132    496243    504253    508965    527641    569094    572154    630566    637920    644479    696374    724089    761053    995133    1084736  1184918\n",
            "user_id                                                                                                                                                                                                                                                                                                                                                                                                                                                                                                                                                                                                                                                                                                                                                                                                                                                                                      \n",
            "1         4.587629  4.421944  4.345058  4.278351  4.338036  4.175258  4.249356  4.381443  4.371778  4.251221  4.381443  4.390815  4.516753  4.280928  4.175258  4.845361  4.278351  4.314736  4.377148  4.366716  4.405234  4.400773  4.422138  4.36325  4.370591  4.343955  4.072165  4.392898  4.261949  4.304124  4.35567  4.358013  3.917526  4.226804  4.396171  4.248895  4.289805  4.203013  4.353327   4.4057  4.257263  4.349227  4.347079  4.127148  4.229517  4.206758  4.455081  4.379296  4.281214  4.352806  4.312715  4.323454  4.177835  4.278351  4.263623  4.183188  4.29628  4.306271  4.264292  4.175258  4.41008  4.381443  4.193451  4.222118  3.969072  4.278351  4.372347  4.442362  4.33634  4.278351  4.151203  4.437285  4.050074  4.172394  4.197349  4.300902  4.368557  4.294211  4.262887  4.311153  4.263623  4.466495  4.264605  4.384475  4.378007  4.43299\n",
            "2         4.175258  4.421944  4.345058  4.278351  4.338036  4.639175  4.249356  4.381443  4.371778  4.251221  4.278351  4.390815  4.516753  4.280928  4.175258  4.432990  4.278351  4.314736  4.377148  4.366716  4.405234  4.400773  4.422138  4.36325  4.370591  4.343955  4.278351  4.392898  4.261949  4.304124  4.35567  4.358013  4.226804  4.226804  4.396171  4.248895  4.289805  4.203013  4.353327   4.4057  4.257263  4.349227  4.347079  4.127148  4.229517  4.206758  4.455081  4.379296  4.281214  4.352806  4.312715  4.323454  4.177835  4.587629  4.263623  4.183188  4.29628  4.306271  4.264292  4.175258  4.41008  4.381443  4.193451  4.222118  4.329897  4.432990  4.372347  4.442362  4.33634  4.278351  4.151203  4.437285  4.050074  4.172394  4.197349  4.300902  4.368557  4.294211  4.262887  4.311153  4.263623  4.466495  4.264605  4.384475  4.378007  4.43299\n",
            "3         4.072165  4.421944  4.345058  4.278351  4.338036  4.123711  4.249356  4.381443  4.371778  4.251221  4.175258  4.390815  4.516753  4.280928  4.175258  4.896907  4.278351  4.314736  4.377148  4.366716  4.405234  4.400773  4.422138  4.36325  4.370591  4.343955  4.793814  4.392898  4.261949  4.304124  4.35567  4.358013  4.072165  4.226804  4.396171  4.248895  4.289805  4.203013  4.353327   4.4057  4.257263  4.349227  4.347079  4.127148  4.229517  4.206758  4.455081  4.379296  4.281214  4.352806  4.312715  4.323454  4.177835  4.587629  4.263623  4.183188  4.29628  4.306271  4.264292  4.226804  4.41008  4.381443  4.193451  4.222118  4.123711  4.432990  4.372347  4.442362  4.33634  4.278351  4.151203  4.437285  4.050074  4.172394  4.197349  4.300902  4.368557  4.294211  4.262887  4.311153  4.263623  4.466495  4.264605  4.384475  4.378007  4.43299\n",
            "4         4.639175  4.421944  4.345058  4.278351  4.338036  4.587629  4.249356  4.381443  4.371778  4.251221  4.072165  4.390815  4.516753  4.280928  4.175258  4.484536  4.278351  4.314736  4.377148  4.366716  4.405234  4.400773  4.422138  4.36325  4.370591  4.343955  4.845361  4.392898  4.261949  4.304124  4.35567  4.358013  4.123711  4.226804  4.396171  4.248895  4.289805  4.203013  4.353327   4.4057  4.257263  4.349227  4.347079  4.127148  4.229517  4.206758  4.455081  4.379296  4.281214  4.352806  4.312715  4.323454  4.177835  4.329897  4.263623  4.183188  4.29628  4.306271  4.264292  4.278351  4.41008  4.381443  4.193451  4.222118  4.742268  4.484536  4.372347  4.442362  4.33634  4.278351  4.151203  4.437285  4.050074  4.172394  4.197349  4.300902  4.368557  4.294211  4.262887  4.311153  4.263623  4.466495  4.264605  4.384475  4.378007  4.43299\n",
            "5         4.587629  4.421944  4.345058  4.278351  4.338036  4.020619  4.249356  4.381443  4.371778  4.251221  4.896907  4.390815  4.516753  4.280928  4.175258  4.278351  4.278351  4.314736  4.377148  4.366716  4.405234  4.400773  4.422138  4.36325  4.370591  4.343955  4.226804  4.392898  4.261949  4.304124  4.35567  4.358013  4.793814  4.226804  4.396171  4.248895  4.289805  4.203013  4.353327   4.4057  4.257263  4.349227  4.347079  4.127148  4.229517  4.206758  4.455081  4.379296  4.281214  4.352806  4.312715  4.323454  4.177835  4.175258  4.263623  4.183188  4.29628  4.306271  4.264292  4.432990  4.41008  4.381443  4.193451  4.222118  4.020619  4.432990  4.372347  4.442362  4.33634  4.278351  4.151203  4.437285  4.050074  4.172394  4.197349  4.300902  4.368557  4.294211  4.262887  4.311153  4.263623  4.466495  4.264605  4.384475  4.378007  4.43299\n"
          ]
        }
      ],
      "source": [
        "print(\"\\n=== Matrix with Mean-Filled Values ===\")\n",
        "user_item_matrix = data.pivot(index='user_id', columns='media_id', values='rating')\n",
        "mean_filled_matrix = user_item_matrix.apply(lambda col: col.fillna(col.mean()), axis=0)\n",
        "\n",
        "sample_matrix = mean_filled_matrix.head()\n",
        "print(sample_matrix.to_string())"
      ]
    },
    {
      "cell_type": "markdown",
      "metadata": {
        "id": "p_o50ghEH-Ig"
      },
      "source": [
        "#### Generate Covariance Matrix"
      ]
    },
    {
      "cell_type": "code",
      "execution_count": 14,
      "metadata": {
        "colab": {
          "base_uri": "https://localhost:8080/"
        },
        "id": "n6XJqUgjH-Ig",
        "outputId": "7da8fec3-c9fc-4fc2-af92-380c71f77ba7"
      },
      "outputs": [
        {
          "output_type": "stream",
          "name": "stdout",
          "text": [
            "\n",
            "=== Covariance Matrix ===\n",
            "Covariance Matrix (Sample):\n",
            "media_id       13            28        73        101           105\n",
            "media_id                                                          \n",
            "13        0.012741  1.755614e-03  0.001825  0.001822  7.575054e-04\n",
            "28        0.001756  1.552235e-02  0.004247  0.001001 -8.725280e-31\n",
            "73        0.001825  4.246941e-03  0.018345  0.000739 -1.597858e-04\n",
            "101       0.001822  1.000700e-03  0.000739  0.010306 -3.757417e-04\n",
            "105       0.000758 -8.725280e-31 -0.000160 -0.000376  1.617102e-02\n"
          ]
        }
      ],
      "source": [
        "print(\"\\n=== Covariance Matrix ===\")\n",
        "cov_matrix = mean_filled_matrix.cov()\n",
        "\n",
        "print(\"Covariance Matrix (Sample):\")\n",
        "print(cov_matrix.iloc[:5, :5].to_string())"
      ]
    },
    {
      "cell_type": "markdown",
      "metadata": {
        "id": "Ase_jDGHH-Ig"
      },
      "source": [
        "#### Determine Top 5 and Top 10 Peers Using Covariance Matrix"
      ]
    },
    {
      "cell_type": "code",
      "execution_count": 15,
      "metadata": {
        "colab": {
          "base_uri": "https://localhost:8080/"
        },
        "id": "LitILtOJH-Ig",
        "outputId": "53bcb41e-0a85-4418-fad4-adef7db52a4d"
      },
      "outputs": [
        {
          "output_type": "stream",
          "name": "stdout",
          "text": [
            "\n",
            "=== Top Peers for Each Target Item ===\n",
            "\n",
            "Item 40096 - Top 5 Peers: [539, 598, 10494, 527641, 3082]\n",
            "Item 40096 - Top 10 Peers: [539, 598, 10494, 527641, 3082, 550, 696374, 101, 3782, 335]\n",
            "\n",
            "Item 504253 - Top 5 Peers: [28, 424, 92321, 447362, 429]\n",
            "Item 504253 - Top 10 Peers: [28, 424, 92321, 447362, 429, 637, 598, 630566, 128, 255709]\n"
          ]
        }
      ],
      "source": [
        "print(\"\\n=== Top Peers for Each Target Item ===\")\n",
        "top_5_peers = {}\n",
        "top_10_peers = {}\n",
        "for item in target_items:\n",
        "    sorted_peers = cov_matrix[item].sort_values(ascending=False).drop(item)\n",
        "    top_5_peers[item] = sorted_peers.head(5).index.tolist()\n",
        "    top_10_peers[item] = sorted_peers.head(10).index.tolist()\n",
        "\n",
        "for item in target_items:\n",
        "    print(f\"\\nItem {item} - Top 5 Peers: {top_5_peers[item]}\")\n",
        "    print(f\"Item {item} - Top 10 Peers: {top_10_peers[item]}\")"
      ]
    },
    {
      "cell_type": "markdown",
      "metadata": {
        "id": "XD9JPUewH-Ih"
      },
      "source": [
        "#### Determine Reduced Dimensional Space Using Top Peers"
      ]
    },
    {
      "cell_type": "code",
      "execution_count": 16,
      "metadata": {
        "colab": {
          "base_uri": "https://localhost:8080/"
        },
        "id": "-RuRBD9oH-Ih",
        "outputId": "6d074f08-850c-436d-8812-9c187dbdb3eb"
      },
      "outputs": [
        {
          "output_type": "stream",
          "name": "stdout",
          "text": [
            "\n",
            "=== Reduced Dimensional Space ===\n",
            "\n",
            "Item 40096 - Reduced Dimensional Space (Sample):\n",
            "user_id\n",
            "1    4.254538\n",
            "2    4.275156\n",
            "3    4.326703\n",
            "4    4.331857\n",
            "5    4.270002\n",
            "\n",
            "Item 504253 - Reduced Dimensional Space (Sample):\n",
            "user_id\n",
            "1    4.349453\n",
            "2    4.349453\n",
            "3    4.349453\n",
            "4    4.349453\n",
            "5    4.349453\n"
          ]
        }
      ],
      "source": [
        "print(\"\\n=== Reduced Dimensional Space ===\")\n",
        "reduced_spaces = {}\n",
        "for item in target_items:\n",
        "    reduced_spaces[item] = mean_filled_matrix[top_10_peers[item]].mean(axis=1)\n",
        "\n",
        "for item, space in reduced_spaces.items():\n",
        "    print(f\"\\nItem {item} - Reduced Dimensional Space (Sample):\")\n",
        "    print(space.head().to_string())"
      ]
    },
    {
      "cell_type": "markdown",
      "metadata": {
        "id": "TGNmz6uCH-Ih"
      },
      "source": [
        "#### Compute Rating Predictions for Missing Values"
      ]
    },
    {
      "cell_type": "code",
      "execution_count": 17,
      "metadata": {
        "colab": {
          "base_uri": "https://localhost:8080/"
        },
        "id": "VwIqnD10H-Ih",
        "outputId": "76a9fcc5-aaec-4c68-b734-9fb051b12d78"
      },
      "outputs": [
        {
          "output_type": "stream",
          "name": "stdout",
          "text": [
            "\n",
            "=== Predicted Ratings for Missing Values ===\n",
            "\n",
            "Item 40096 - Predicted Ratings (Sample):\n",
            "user_id\n",
            "1    4.254538\n",
            "2    4.275156\n",
            "3    4.326703\n",
            "4    4.331857\n",
            "5    4.270002\n",
            "\n",
            "Item 504253 - Predicted Ratings (Sample):\n",
            "user_id\n",
            "1    4.349453\n",
            "2    4.349453\n",
            "3    4.349453\n",
            "4    4.349453\n",
            "5    4.349453\n"
          ]
        }
      ],
      "source": [
        "print(\"\\n=== Predicted Ratings for Missing Values ===\")\n",
        "predicted_ratings = {}\n",
        "for item in target_items:\n",
        "    missing_users = user_item_matrix[item][user_item_matrix[item].isna()].index\n",
        "    predicted_ratings[item] = reduced_spaces[item].loc[missing_users]\n",
        "\n",
        "for item, preds in predicted_ratings.items():\n",
        "    print(f\"\\nItem {item} - Predicted Ratings (Sample):\")\n",
        "    print(preds.head().to_string())"
      ]
    },
    {
      "cell_type": "markdown",
      "metadata": {
        "id": "VHoBeb6eH-Ih"
      },
      "source": [
        "#### Compare Results of Rating Predictions"
      ]
    },
    {
      "cell_type": "code",
      "execution_count": 18,
      "metadata": {
        "colab": {
          "base_uri": "https://localhost:8080/"
        },
        "id": "y-PPfGB5H-Ih",
        "outputId": "645456c0-0c08-4785-d26c-73d26a050108"
      },
      "outputs": [
        {
          "output_type": "stream",
          "name": "stdout",
          "text": [
            "\n",
            "=== Comparison of Predicted Ratings ===\n",
            "Item 40096 - Mean of Predicted Ratings: 4.28\n",
            "Item 504253 - Mean of Predicted Ratings: 4.35\n"
          ]
        }
      ],
      "source": [
        "print(\"\\n=== Comparison of Predicted Ratings ===\")\n",
        "for item in target_items:\n",
        "    if not predicted_ratings[item].empty:\n",
        "        print(f\"Item {item} - Mean of Predicted Ratings: {predicted_ratings[item].mean():.2f}\")\n",
        "    else:\n",
        "        print(f\"Item {item} - No Missing Ratings Found.\")"
      ]
    },
    {
      "cell_type": "markdown",
      "metadata": {
        "id": "yk60t9wWH-Ih"
      },
      "source": [
        "-----------------------------------------------------------------------------------"
      ]
    },
    {
      "cell_type": "markdown",
      "metadata": {
        "id": "JwxQfX_mH-Ii"
      },
      "source": [
        "# Part 2: PCA Method with Maximum Likelihood Estimation (MLE)"
      ]
    },
    {
      "cell_type": "markdown",
      "metadata": {
        "id": "rY-0xkTKH-Ii"
      },
      "source": [
        "#### Analyze Variance Across Peers"
      ]
    },
    {
      "cell_type": "code",
      "execution_count": 19,
      "metadata": {
        "colab": {
          "base_uri": "https://localhost:8080/"
        },
        "id": "3oav4bcFH-Ii",
        "outputId": "8a8a0bd4-14db-447b-8b13-b743ea378ca8"
      },
      "outputs": [
        {
          "output_type": "stream",
          "name": "stdout",
          "text": [
            "\n",
            "=== Variance of Ratings Among Top 10 Peers ===\n",
            "Item 40096: Variance Among Top 10 Peers = 0.0195\n",
            "Item 504253: Variance Among Top 10 Peers = 0.0199\n"
          ]
        }
      ],
      "source": [
        "print(\"\\n=== Variance of Ratings Among Top 10 Peers ===\")\n",
        "variance_among_peers = {}\n",
        "for item in target_items:\n",
        "    peer_ratings = mean_filled_matrix[top_10_peers[item]]\n",
        "    variance_among_peers[item] = peer_ratings.var(axis=1).mean()\n",
        "    print(f\"Item {item}: Variance Among Top 10 Peers = {variance_among_peers[item]:.4f}\")"
      ]
    },
    {
      "cell_type": "markdown",
      "metadata": {
        "id": "6fMx6qAWH-Ii"
      },
      "source": [
        "#### Examine Sparsity of Target Items"
      ]
    },
    {
      "cell_type": "code",
      "execution_count": 20,
      "metadata": {
        "colab": {
          "base_uri": "https://localhost:8080/"
        },
        "id": "716Wcz3AH-Ii",
        "outputId": "303a8000-ff8f-4d8d-8735-e62ebcd33026"
      },
      "outputs": [
        {
          "output_type": "stream",
          "name": "stdout",
          "text": [
            "\n",
            "=== Sparsity of Target Items ===\n",
            "Item 40096: Sparsity = 93.00%\n",
            "Item 504253: Sparsity = 93.00%\n"
          ]
        }
      ],
      "source": [
        "print(\"\\n=== Sparsity of Target Items ===\")\n",
        "sparsity_target_items = user_item_matrix[target_items].isna().mean() * 100\n",
        "for item, sparsity in sparsity_target_items.items():\n",
        "    print(f\"Item {item}: Sparsity = {sparsity:.2f}%\")"
      ]
    },
    {
      "cell_type": "markdown",
      "metadata": {
        "id": "yjeJD0WrH-Ii"
      },
      "source": [
        "#### PCA with Mean-Filling"
      ]
    },
    {
      "cell_type": "code",
      "execution_count": 21,
      "metadata": {
        "colab": {
          "base_uri": "https://localhost:8080/"
        },
        "id": "U6HiS2YCH-Ij",
        "outputId": "c2c1100f-1933-4a7c-86fb-aec74ceca8f4"
      },
      "outputs": [
        {
          "output_type": "stream",
          "name": "stdout",
          "text": [
            "\n",
            "=== PCA with Mean-Filling ===\n",
            "\n",
            "Step 1: Calculating the average rating for target items...\n",
            "Target Item Averages Calculated: {504253: 4.050073637702504, 8587: 4.1271477663230245}\n",
            "\n",
            "Step 2: Applying mean-filling for missing ratings...\n",
            "Mean-filling completed.\n",
            "Mean-filled Ratings Matrix (Preview):\n",
            "media_id  13        28        73   101       105\n",
            "user_id                                         \n",
            "1         8.9  8.578571  8.429412  8.3  8.415789\n",
            "2         8.1  8.578571  8.429412  8.3  8.415789\n",
            "3         7.9  8.578571  8.429412  8.3  8.415789\n",
            "4         9.0  8.578571  8.429412  8.3  8.415789\n",
            "5         8.9  8.578571  8.429412  8.3  8.415789\n",
            "\n",
            "Step 3: Generating covariance matrix...\n",
            "Covariance matrix generated.\n",
            "Covariance Matrix Shape: (86, 86)\n",
            "\n",
            "Step 4: Performing dimensionality reduction using PCA...\n",
            "Dimensionality reduction completed.\n",
            "Reduced Dimensional Space Shape: (100, 5)\n",
            "\n",
            "Step 5: Predicting ratings for target items using top peers...\n",
            "  - Target Item 504253:\n",
            "    Top 5 Peers: [48 63 39 60 30]\n",
            "    Predicted Rating: 0.9772\n",
            "  - Target Item 8587:\n",
            "    Top 5 Peers: [30 65 72 24 94]\n",
            "    Predicted Rating: 0.9369\n",
            "\n",
            "=== PCA with Mean-Filling Results ===\n",
            "Target Item 504253: Predicted Rating = 0.9772\n",
            "Target Item 8587: Predicted Rating = 0.9369\n"
          ]
        }
      ],
      "source": [
        "print(\"\\n=== PCA with Mean-Filling ===\")\n",
        "\n",
        "print(\"\\nStep 1: Calculating the average rating for target items...\")\n",
        "target_items = [I1, I2]\n",
        "average_ratings = data.groupby('media_id')['rating'].mean()\n",
        "target_averages = {item: average_ratings[item] for item in target_items}\n",
        "print(f\"Target Item Averages Calculated: {target_averages}\")\n",
        "\n",
        "print(\"\\nStep 2: Applying mean-filling for missing ratings...\")\n",
        "ratings_matrix_filled = ratings_matrix.copy()\n",
        "ratings_matrix_filled = ratings_matrix_filled.fillna(ratings_matrix.mean(axis=0))\n",
        "print(\"Mean-filling completed.\")\n",
        "print(f\"Mean-filled Ratings Matrix (Preview):\\n{ratings_matrix_filled.iloc[:5, :5]}\")\n",
        "\n",
        "print(\"\\nStep 3: Generating covariance matrix...\")\n",
        "covariance_matrix = np.cov(ratings_matrix_filled, rowvar=False)\n",
        "print(\"Covariance matrix generated.\")\n",
        "print(f\"Covariance Matrix Shape: {covariance_matrix.shape}\")\n",
        "\n",
        "print(\"\\nStep 4: Performing dimensionality reduction using PCA...\")\n",
        "from sklearn.decomposition import PCA\n",
        "\n",
        "pca = PCA(n_components=5)\n",
        "reduced_dimensional_space = pca.fit_transform(ratings_matrix_filled)\n",
        "print(\"Dimensionality reduction completed.\")\n",
        "print(f\"Reduced Dimensional Space Shape: {reduced_dimensional_space.shape}\")\n",
        "\n",
        "print(\"\\nStep 5: Predicting ratings for target items using top peers...\")\n",
        "predicted_ratings = {}\n",
        "for item in target_items:\n",
        "\n",
        "    item_index = target_items.index(item)\n",
        "    similarities = reduced_dimensional_space[:, item_index]\n",
        "\n",
        "    peers = np.argsort(-similarities)[:5]\n",
        "    predicted_ratings[item] = reduced_dimensional_space[peers, item_index].mean()\n",
        "    print(f\"  - Target Item {item}:\")\n",
        "    print(f\"    Top 5 Peers: {peers}\")\n",
        "    print(f\"    Predicted Rating: {predicted_ratings[item]:.4f}\")\n",
        "\n",
        "print(\"\\n=== PCA with Mean-Filling Results ===\")\n",
        "for item, rating in predicted_ratings.items():\n",
        "    print(f\"Target Item {item}: Predicted Rating = {rating:.4f}\")"
      ]
    },
    {
      "cell_type": "markdown",
      "metadata": {
        "id": "AjjlR0VHH-Ij"
      },
      "source": [
        "#### Comparison of Results for Top 10 Peers (PCA MLE)"
      ]
    },
    {
      "cell_type": "code",
      "execution_count": 22,
      "metadata": {
        "colab": {
          "base_uri": "https://localhost:8080/"
        },
        "id": "fK1XCHTTH-Ij",
        "outputId": "2d95f87a-242d-498a-8ae0-ef9051d98eeb"
      },
      "outputs": [
        {
          "output_type": "stream",
          "name": "stdout",
          "text": [
            "\n",
            "=== PCA MLE: Top 10 Peers Analysis ===\n",
            "\n",
            "Top 10 peers for each target item identified:\n",
            "  Target Item 504253: [33 18 10 86 64 19 35 26 65 16]\n",
            "  Target Item 8587: [10 83 93 92 57 78 39 40 46 41]\n",
            "\n",
            "Reduced dimensional space for top 10 peers calculated.\n",
            "\n",
            "Predicted ratings for top 10 peers calculated:\n",
            "  Predicted rating for Target Item 504253: 1.61\n",
            "  Predicted rating for Target Item 8587: 1.62\n",
            "\n",
            "=== Results for Top 10 Peers Stored for Further Analysis ===\n"
          ]
        }
      ],
      "source": [
        "import numpy as np\n",
        "from sklearn.metrics.pairwise import cosine_similarity\n",
        "\n",
        "print(\"\\n=== PCA MLE: Top 10 Peers Analysis ===\")\n",
        "\n",
        "ratings_matrix_filled = ratings_matrix.fillna(0)\n",
        "\n",
        "user_similarity = cosine_similarity(ratings_matrix_filled)\n",
        "np.fill_diagonal(user_similarity, 0)\n",
        "\n",
        "target_item_indices = [ratings_matrix.columns.get_loc(item) for item in target_items]\n",
        "\n",
        "top_10_peers = {}\n",
        "for target_item_idx in target_item_indices:\n",
        "\n",
        "    top_10_peers[target_item_idx] = np.argsort(user_similarity[:, target_item_idx])[-10:]\n",
        "\n",
        "print(\"\\nTop 10 peers for each target item identified:\")\n",
        "for target_item, peers in zip(target_items, top_10_peers.values()):\n",
        "    print(f\"  Target Item {target_item}: {peers}\")\n",
        "\n",
        "reduced_dimensional_space_top_10 = {}\n",
        "for target_item_idx in target_item_indices:\n",
        "    peers = top_10_peers[target_item_idx]\n",
        "\n",
        "    reduced_dimensional_space_top_10[target_item_idx] = ratings_matrix_filled.iloc[peers].mean(axis=0)\n",
        "\n",
        "print(\"\\nReduced dimensional space for top 10 peers calculated.\")\n",
        "\n",
        "predicted_ratings_top_10 = {}\n",
        "for target_item_idx in target_item_indices:\n",
        "    peers = top_10_peers[target_item_idx]\n",
        "\n",
        "    predicted_ratings_top_10[target_item_idx] = reduced_dimensional_space_top_10[target_item_idx].mean()\n",
        "\n",
        "print(\"\\nPredicted ratings for top 10 peers calculated:\")\n",
        "for target_item, predicted_rating in zip(target_items, predicted_ratings_top_10.values()):\n",
        "    print(f\"  Predicted rating for Target Item {target_item}: {predicted_rating:.2f}\")\n",
        "\n",
        "print(\"\\n=== Results for Top 10 Peers Stored for Further Analysis ===\")"
      ]
    },
    {
      "cell_type": "markdown",
      "metadata": {
        "id": "tFrmGqdmH-Ij"
      },
      "source": [
        "####  Generate Covariance Matrix with Maximum Likelihood Estimation (MLE)"
      ]
    },
    {
      "cell_type": "code",
      "execution_count": 23,
      "metadata": {
        "colab": {
          "base_uri": "https://localhost:8080/"
        },
        "id": "gyn-hZWdH-Ij",
        "outputId": "517f9a09-b79c-47e7-e69c-a34d4df37680"
      },
      "outputs": [
        {
          "output_type": "stream",
          "name": "stdout",
          "text": [
            "\n",
            "=== Covariance Matrix with Maximum Likelihood Estimation (MLE) ===\n",
            "Covariance Matrix (Sample):\n",
            "media_id       13            28        73        101           105\n",
            "media_id                                                          \n",
            "13        0.012741  1.755614e-03  0.001825  0.001822  7.575054e-04\n",
            "28        0.001756  1.552235e-02  0.004247  0.001001 -8.725280e-31\n",
            "73        0.001825  4.246941e-03  0.018345  0.000739 -1.597858e-04\n",
            "101       0.001822  1.000700e-03  0.000739  0.010306 -3.757417e-04\n",
            "105       0.000758 -8.725280e-31 -0.000160 -0.000376  1.617102e-02\n"
          ]
        }
      ],
      "source": [
        "print(\"\\n=== Covariance Matrix with Maximum Likelihood Estimation (MLE) ===\")\n",
        "cov_matrix_mle = mean_filled_matrix.cov()\n",
        "print(\"Covariance Matrix (Sample):\")\n",
        "print(cov_matrix_mle.iloc[:5, :5].to_string())"
      ]
    },
    {
      "cell_type": "markdown",
      "metadata": {
        "id": "27PQ0Z4kH-Ij"
      },
      "source": [
        "#### Determine Top 5 and Top 10 Peers Using MLE"
      ]
    },
    {
      "cell_type": "code",
      "execution_count": 24,
      "metadata": {
        "colab": {
          "base_uri": "https://localhost:8080/"
        },
        "id": "F4JdIW0DH-Ik",
        "outputId": "4b5911e0-72d7-4307-925b-c9bb0f4d6979"
      },
      "outputs": [
        {
          "output_type": "stream",
          "name": "stdout",
          "text": [
            "\n",
            "=== Top Peers for Each Target Item Using MLE ===\n",
            "\n",
            "Item 504253 - Top 5 Peers Using MLE: [28, 424, 92321, 447362, 429]\n",
            "Item 504253 - Top 10 Peers Using MLE: [28, 424, 92321, 447362, 429, 637, 598, 630566, 128, 255709]\n",
            "\n",
            "Item 8587 - Top 5 Peers Using MLE: [128, 255709, 567, 207, 122]\n",
            "Item 8587 - Top 10 Peers Using MLE: [128, 255709, 567, 207, 122, 19404, 372058, 510, 10376, 644479]\n"
          ]
        }
      ],
      "source": [
        "\n",
        "print(\"\\n=== Top Peers for Each Target Item Using MLE ===\")\n",
        "top_5_peers_mle = {}\n",
        "top_10_peers_mle = {}\n",
        "for item in target_items:\n",
        "    sorted_peers = cov_matrix_mle[item].sort_values(ascending=False).drop(item)\n",
        "    top_5_peers_mle[item] = sorted_peers.head(5).index.tolist()\n",
        "    top_10_peers_mle[item] = sorted_peers.head(10).index.tolist()\n",
        "\n",
        "for item in target_items:\n",
        "    print(f\"\\nItem {item} - Top 5 Peers Using MLE: {top_5_peers_mle[item]}\")\n",
        "    print(f\"Item {item} - Top 10 Peers Using MLE: {top_10_peers_mle[item]}\")"
      ]
    },
    {
      "cell_type": "markdown",
      "metadata": {
        "id": "gTVofmWuH-Ik"
      },
      "source": [
        "#### Determine Reduced Dimensional Space Using Top Peers"
      ]
    },
    {
      "cell_type": "code",
      "execution_count": 25,
      "metadata": {
        "colab": {
          "base_uri": "https://localhost:8080/"
        },
        "id": "LBnBbl-UH-Ik",
        "outputId": "bfa2ad8f-7d05-47dc-ea1f-8418011e6c70"
      },
      "outputs": [
        {
          "output_type": "stream",
          "name": "stdout",
          "text": [
            "\n",
            "=== Reduced Dimensional Space Using Top Peers (MLE) ===\n",
            "\n",
            "Item 504253 - Reduced Dimensional Space Using MLE (Sample):\n",
            "user_id\n",
            "1    4.349453\n",
            "2    4.349453\n",
            "3    4.349453\n",
            "4    4.349453\n",
            "5    4.349453\n",
            "\n",
            "Item 8587 - Reduced Dimensional Space Using MLE (Sample):\n",
            "user_id\n",
            "1    4.359546\n",
            "2    4.359546\n",
            "3    4.359546\n",
            "4    4.359546\n",
            "5    4.359546\n"
          ]
        }
      ],
      "source": [
        "print(\"\\n=== Reduced Dimensional Space Using Top Peers (MLE) ===\")\n",
        "reduced_spaces_mle = {}\n",
        "for item in target_items:\n",
        "    reduced_spaces_mle[item] = mean_filled_matrix[top_10_peers_mle[item]].mean(axis=1)\n",
        "\n",
        "for item, space in reduced_spaces_mle.items():\n",
        "    print(f\"\\nItem {item} - Reduced Dimensional Space Using MLE (Sample):\")\n",
        "    print(space.head().to_string())"
      ]
    },
    {
      "cell_type": "markdown",
      "metadata": {
        "id": "dB93jjzcH-Ik"
      },
      "source": [
        "#### Compute Rating Predictions for Missing Values Using MLE"
      ]
    },
    {
      "cell_type": "code",
      "source": [],
      "metadata": {
        "id": "JRimpi-7LrZU"
      },
      "execution_count": 25,
      "outputs": []
    }
  ],
  "metadata": {
    "kernelspec": {
      "display_name": "Python 3",
      "language": "python",
      "name": "python3"
    },
    "language_info": {
      "codemirror_mode": {
        "name": "ipython",
        "version": 3
      },
      "file_extension": ".py",
      "mimetype": "text/x-python",
      "name": "python",
      "nbconvert_exporter": "python",
      "pygments_lexer": "ipython3",
      "version": "3.11.9"
    },
    "colab": {
      "provenance": []
    }
  },
  "nbformat": 4,
  "nbformat_minor": 0
}