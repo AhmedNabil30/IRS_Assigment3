{
  "nbformat": 4,
  "nbformat_minor": 0,
  "metadata": {
    "colab": {
      "provenance": []
    },
    "kernelspec": {
      "name": "python3",
      "display_name": "Python 3"
    },
    "language_info": {
      "name": "python"
    }
  },
  "cells": [
    {
      "cell_type": "code",
      "execution_count": 2,
      "metadata": {
        "id": "3o-GPkQxAMZz"
      },
      "outputs": [],
      "source": [
        "import pandas as pd\n",
        "import matplotlib.pyplot as plt\n",
        "\n",
        "import numpy as np"
      ]
    },
    {
      "cell_type": "code",
      "source": [
        "data = pd.read_excel('/content/dataset assignment 2 (2).xlsx')\n",
        "df = pd.DataFrame(data)\n",
        "items = df.iloc[:, 1:]\n"
      ],
      "metadata": {
        "id": "jwij6xVJAauF"
      },
      "execution_count": 4,
      "outputs": []
    },
    {
      "cell_type": "code",
      "source": [
        "tnu = len(df['users'])\n",
        "tni = len(items.columns)"
      ],
      "metadata": {
        "id": "L8uyXX31Adhc"
      },
      "execution_count": 5,
      "outputs": []
    },
    {
      "cell_type": "code",
      "source": [
        "all_ratings = ratings_data.values.flatten()\n",
        "all_ratings = all_ratings[~np.isnan(all_ratings)]\n",
        "\n",
        "\n",
        "plt.figure(figsize=(8, 5))\n",
        "plt.hist(all_ratings, bins=np.arange(-0.5, 6.5, 1), edgecolor='black', alpha=0.75)\n",
        "plt.title(\"Distribution of Ratings\")\n",
        "plt.xlabel(\"Rating Value\")\n",
        "plt.ylabel(\"Frequency\")\n",
        "plt.xticks(range(6))\n",
        "plt.show()"
      ],
      "metadata": {
        "colab": {
          "base_uri": "https://localhost:8080/",
          "height": 487
        },
        "id": "Sx46DVEHBLYR",
        "outputId": "061a9381-b7f3-4ad9-9e33-6eff88ef826e"
      },
      "execution_count": 13,
      "outputs": [
        {
          "output_type": "display_data",
          "data": {
            "text/plain": [
              "<Figure size 800x500 with 1 Axes>"
            ],
            "image/png": "[encoded data removed]"
          },
          "metadata": {}
        }
      ]
    },
    {
      "cell_type": "code",
      "source": [
        "total_elements = ratings_data.size\n",
        "non_nan_elements = np.count_nonzero(~np.isnan(ratings_data.values))\n",
        "sparsity = 1 - (non_nan_elements / total_elements)\n",
        "print(f\"Sparsity of the matrix: {sparsity:.2%}\")"
      ],
      "metadata": {
        "colab": {
          "base_uri": "https://localhost:8080/"
        },
        "id": "ktm2xcZOBM8P",
        "outputId": "c5b8548e-efc3-44c7-94fa-6bd0ebbf8d5b"
      },
      "execution_count": 14,
      "outputs": [
        {
          "output_type": "stream",
          "name": "stdout",
          "text": [
            "Sparsity of the matrix: 20.93%\n"
          ]
        }
      ]
    },
    {
      "cell_type": "code",
      "source": [
        "ratings_data = data.drop(columns=[\"users\"])\n",
        "\n",
        "rating_counts = ratings_data.count()\n",
        "print(rating_counts)\n"
      ],
      "metadata": {
        "colab": {
          "base_uri": "https://localhost:8080/"
        },
        "id": "JonUXO35Ais2",
        "outputId": "11fbf99b-0746-4e18-bcfd-abe012efaa72"
      },
      "execution_count": 15,
      "outputs": [
        {
          "output_type": "stream",
          "name": "stdout",
          "text": [
            "jane eyre                35\n",
            "1984                     34\n",
            "wuthering                43\n",
            "picture of dorian        11\n",
            "catcher in rye           36\n",
            "sense and sensibility    37\n",
            "great expectations       37\n",
            "tale of cities           38\n",
            "brave new world          42\n",
            "macbeth                  33\n",
            "The Great Gatsby         35\n",
            "picture of dorian        27\n",
            "dtype: int64\n"
          ]
        }
      ]
    },
    {
      "cell_type": "code",
      "source": [
        "I1, I2 = \"macbeth\", \"picture of dorian\"\n",
        "average_I1 = ratings_data[I1].mean()\n",
        "average_I2 = ratings_data[I2].mean()\n",
        "ratings_data[I1].fillna(average_I1, inplace=True)\n",
        "ratings_data[I2].fillna(average_I2, inplace=True)\n",
        "item_averages = ratings_data.mean()\n",
        "differences = ratings_data.subtract(item_averages, axis=1)\n",
        "covariance_matrix = differences.cov()\n",
        "top_5_1= covariance_matrix[I1].nlargest(6)[1:]\n",
        "top_10_1 = covariance_matrix[I1].nlargest(11)[1:]\n",
        "top_5_2 = covariance_matrix[I2].nlargest(6)[1:]\n",
        "top_10_2 = covariance_matrix[I2].nlargest(11)[1:]"
      ],
      "metadata": {
        "colab": {
          "base_uri": "https://localhost:8080/"
        },
        "id": "5uediWk-AnA-",
        "outputId": "790212b3-b5b3-40c5-deb6-2150719ebe17"
      },
      "execution_count": 19,
      "outputs": [
        {
          "output_type": "stream",
          "name": "stderr",
          "text": [
            "<ipython-input-19-8a9f573088f6>:4: FutureWarning: A value is trying to be set on a copy of a DataFrame or Series through chained assignment using an inplace method.\n",
            "The behavior will change in pandas 3.0. This inplace method will never work because the intermediate object on which we are setting values always behaves as a copy.\n",
            "\n",
            "For example, when doing 'df[col].method(value, inplace=True)', try using 'df.method({col: value}, inplace=True)' or df[col] = df[col].method(value) instead, to perform the operation inplace on the original object.\n",
            "\n",
            "\n",
            "  ratings_data[I1].fillna(average_I1, inplace=True)\n",
            "<ipython-input-19-8a9f573088f6>:5: FutureWarning: A value is trying to be set on a copy of a DataFrame or Series through chained assignment using an inplace method.\n",
            "The behavior will change in pandas 3.0. This inplace method will never work because the intermediate object on which we are setting values always behaves as a copy.\n",
            "\n",
            "For example, when doing 'df[col].method(value, inplace=True)', try using 'df.method({col: value}, inplace=True)' or df[col] = df[col].method(value) instead, to perform the operation inplace on the original object.\n",
            "\n",
            "\n",
            "  ratings_data[I2].fillna(average_I2, inplace=True)\n"
          ]
        }
      ]
    },
    {
      "cell_type": "code",
      "source": [
        "print(f\"Top 5 peers for {I1}:\\n{top_5_1}\")\n",
        "print(f\"Top 10 peers for {I1}:\\n{top_10_1}\")\n",
        "print(f\"Top 5 peers for {I2}:\\n{top_5_2}\")\n",
        "print(f\"Top 10 peers for {I2}:\\n{top_10_2}\")"
      ],
      "metadata": {
        "colab": {
          "base_uri": "https://localhost:8080/"
        },
        "id": "rGWe4lk6Auh-",
        "outputId": "141397a6-914c-4f2c-de77-ee967031cede"
      },
      "execution_count": 20,
      "outputs": [
        {
          "output_type": "stream",
          "name": "stdout",
          "text": [
            "Top 5 peers for macbeth:\n",
            "jane eyre         0.435243\n",
            "tale of cities    0.372861\n",
            "wuthering         0.366522\n",
            "1984              0.278831\n",
            "catcher in rye    0.177874\n",
            "Name: macbeth, dtype: float64\n",
            "Top 10 peers for macbeth:\n",
            "jane eyre                0.435243\n",
            "tale of cities           0.372861\n",
            "wuthering                0.366522\n",
            "1984                     0.278831\n",
            "catcher in rye           0.177874\n",
            "great expectations       0.067249\n",
            "sense and sensibility   -0.061129\n",
            "The Great Gatsby        -0.072295\n",
            "picture of dorian       -0.255647\n",
            "brave new world         -0.332594\n",
            "Name: macbeth, dtype: float64\n",
            "Top 5 peers for picture of dorian:\n",
            "sense and sensibility    0.637248\n",
            "tale of cities           0.524841\n",
            "wuthering                0.337743\n",
            "brave new world          0.296963\n",
            "The Great Gatsby         0.264373\n",
            "Name: picture of dorian, dtype: float64\n",
            "Top 10 peers for picture of dorian:\n",
            "sense and sensibility    0.637248\n",
            "tale of cities           0.524841\n",
            "wuthering                0.337743\n",
            "brave new world          0.296963\n",
            "The Great Gatsby         0.264373\n",
            "jane eyre                0.083691\n",
            "great expectations       0.026832\n",
            "picture of dorian        0.000000\n",
            "catcher in rye          -0.155967\n",
            "1984                    -0.264937\n",
            "Name: picture of dorian, dtype: float64\n"
          ]
        }
      ]
    },
    {
      "cell_type": "code",
      "source": [
        "def predict_rating(item, peers, reduced_data, indices):\n",
        "\n",
        "    peer_weights = covariance_matrix[item][peers.index]\n",
        "    weighted_sum = (reduced_data.loc[indices, peers.index] * peer_weights).sum(axis=1)\n",
        "    normalized_predictions = weighted_sum / peer_weights.sum()\n",
        "\n",
        "    return normalized_predictions\n",
        "\n",
        "\n",
        "specific_indices_I1 = [2, 5,8,9,14,17,20]\n",
        "specific_indices_I2 = [0, 1, 2, 3, 4, 5, 6, 7, 8, 9, 10, 11, 12, 23, 24, 37]\n",
        "\n",
        "predicted_ratings_specific_I1 = predict_rating(I1, top_10_1, ratings_data, specific_indices_I1)\n",
        "predicted_ratings_specific_I2 = predict_rating(I2, top_10_2, ratings_data, specific_indices_I2)\n",
        "\n",
        "predicted_ratings_specific_I15 = predict_rating(I1, top_5_1, ratings_data, specific_indices_I1)\n",
        "predicted_ratings_specific_I25 = predict_rating(I2, top_5_2, ratings_data, specific_indices_I2)\n",
        "\n",
        "print(\"Predicted ratings for I1 10 \")\n",
        "print(predicted_ratings_specific_I1)\n",
        "print(\"Predicted ratings for I2 10 \")\n",
        "print(predicted_ratings_specific_I2)\n",
        "\n",
        "print(\"Predicted ratings for I1 5 \")\n",
        "print(predicted_ratings_specific_I15)\n",
        "print(\"Predicted ratings for I2 5 \")\n",
        "print(predicted_ratings_specific_I25)\n"
      ],
      "metadata": {
        "colab": {
          "base_uri": "https://localhost:8080/"
        },
        "id": "css6iKjrBowI",
        "outputId": "5374c6c5-cdfe-4b90-c27e-8404b95abcc9"
      },
      "execution_count": 21,
      "outputs": [
        {
          "output_type": "stream",
          "name": "stdout",
          "text": [
            "Predicted ratings for I1 10 \n",
            "2     2.131485\n",
            "5     1.875588\n",
            "8     2.049169\n",
            "9     3.013399\n",
            "14    1.659844\n",
            "17    0.313855\n",
            "20    1.093318\n",
            "dtype: float64\n",
            "Predicted ratings for I2 10 \n",
            "0     0.933791\n",
            "1     2.268529\n",
            "2     1.960169\n",
            "3     2.737595\n",
            "4     3.990017\n",
            "5     3.359357\n",
            "6     4.874826\n",
            "7     3.024310\n",
            "8     3.528307\n",
            "9     1.384266\n",
            "10    3.250669\n",
            "11    2.320375\n",
            "12    2.354047\n",
            "23    3.331493\n",
            "24    2.638821\n",
            "37    1.809803\n",
            "dtype: float64\n",
            "Predicted ratings for I1 5 \n",
            "2     1.964787\n",
            "5     2.462149\n",
            "8     2.948822\n",
            "9     3.279958\n",
            "14    2.127577\n",
            "17    0.555671\n",
            "20    1.466756\n",
            "dtype: float64\n",
            "Predicted ratings for I2 5 \n",
            "0     1.686467\n",
            "1     2.720948\n",
            "2     2.545271\n",
            "3     2.287489\n",
            "4     3.488840\n",
            "5     3.179009\n",
            "6     4.018940\n",
            "7     2.984830\n",
            "8     3.274827\n",
            "9     1.831778\n",
            "10    2.876943\n",
            "11    2.741646\n",
            "12    2.705157\n",
            "23    3.378282\n",
            "24    2.546115\n",
            "37    1.909868\n",
            "dtype: float64\n"
          ]
        }
      ]
    },
    {
      "cell_type": "markdown",
      "source": [
        "MLE\n"
      ],
      "metadata": {
        "id": "VAOcwHqWB_zA"
      }
    },
    {
      "cell_type": "code",
      "source": [
        "def calculate_mle_covariance(data):\n",
        "    n = data.shape[1]\n",
        "    covariance_matrix = pd.DataFrame(np.zeros((n, n)), columns=data.columns, index=data.columns)\n",
        "\n",
        "    for item1 in data.columns:\n",
        "        for item2 in data.columns:\n",
        "\n",
        "            common_ratings = data[[item1, item2]].dropna()\n",
        "            if len(common_ratings) > 1:\n",
        "\n",
        "                covariance_matrix.loc[item1, item2] = np.cov(common_ratings[item1], common_ratings[item2], ddof=0)[0, 1]\n",
        "            else:\n",
        "\n",
        "                covariance_matrix.loc[item1, item2] = 0\n",
        "    return covariance_matrix\n",
        "covariance_matrix_mle = calculate_mle_covariance(ratings_data)"
      ],
      "metadata": {
        "id": "lztr1NUYCLT4"
      },
      "execution_count": 23,
      "outputs": []
    },
    {
      "cell_type": "code",
      "source": [
        "I1, I2 = \"macbeth\", \"picture of dorian\"\n",
        "\n",
        "top_5_peers_I1_mle = covariance_matrix_mle[I1].nlargest(6)[1:]\n",
        "top_10_peers_I1_mle = covariance_matrix_mle[I1].nlargest(11)[1:]\n",
        "\n",
        "top_5_peers_I2_mle = covariance_matrix_mle[I2].nlargest(6)[1:]\n",
        "top_10_peers_I2_mle = covariance_matrix_mle[I2].nlargest(11)[1:]\n",
        "\n",
        "print(f\"Top 5 peers for {I1} using MLE:\\n{top_5_peers_I1_mle}\")\n",
        "print(f\"Top 10 peers for {I1} using MLE:\\n{top_10_peers_I1_mle}\")\n",
        "print(f\"Top 5 peers for {I2} using MLE:\\n{top_5_peers_I2_mle}\")\n",
        "print(f\"Top 10 peers for {I2} using MLE:\\n{top_10_peers_I2_mle}\")"
      ],
      "metadata": {
        "colab": {
          "base_uri": "https://localhost:8080/"
        },
        "id": "IV_agq_wB1MY",
        "outputId": "4b18dc6c-8bc5-4f27-ea1f-901bc329eefb"
      },
      "execution_count": 25,
      "outputs": [
        {
          "output_type": "stream",
          "name": "stdout",
          "text": [
            "Top 5 peers for macbeth using MLE:\n",
            "tale of cities        0.363049\n",
            "wuthering             0.357999\n",
            "1984                  0.270630\n",
            "catcher in rye        0.172933\n",
            "great expectations    0.065432\n",
            "Name: macbeth, dtype: float64\n",
            "Top 10 peers for macbeth using MLE:\n",
            "tale of cities           0.363049\n",
            "wuthering                0.357999\n",
            "1984                     0.270630\n",
            "catcher in rye           0.172933\n",
            "great expectations       0.065432\n",
            "macbeth                  0.000000\n",
            "sense and sensibility   -0.059477\n",
            "The Great Gatsby        -0.070230\n",
            "picture of dorian       -0.232407\n",
            "brave new world         -0.324675\n",
            "Name: macbeth, dtype: float64\n",
            "Top 5 peers for picture of dorian using MLE:\n",
            "tale of cities      0.511029\n",
            "wuthering           0.329888\n",
            "brave new world     0.289893\n",
            "The Great Gatsby    0.256820\n",
            "jane eyre           0.081300\n",
            "Name: picture of dorian, dtype: float64\n",
            "Top 10 peers for picture of dorian using MLE:\n",
            "tale of cities        5.110290e-01\n",
            "wuthering             3.298880e-01\n",
            "brave new world       2.898925e-01\n",
            "The Great Gatsby      2.568200e-01\n",
            "jane eyre             8.130008e-02\n",
            "great expectations    2.610719e-02\n",
            "picture of dorian     1.792866e-32\n",
            "picture of dorian     0.000000e+00\n",
            "catcher in rye       -1.516347e-01\n",
            "1984                 -2.571447e-01\n",
            "Name: picture of dorian, dtype: float64\n"
          ]
        }
      ]
    },
    {
      "cell_type": "code",
      "source": [
        "reduced_top_5_I1_mle = ratings_data[top_5_peers_I1_mle.index]\n",
        "reduced_top_5_I2_mle = ratings_data[top_5_peers_I2_mle.index]\n",
        "\n",
        "reduced_top_10_I1_mle = ratings_data[top_10_peers_I1_mle.index]\n",
        "reduced_top_10_I2_mle = ratings_data[top_10_peers_I2_mle.index]"
      ],
      "metadata": {
        "id": "1Skw0xM7CJ5Z"
      },
      "execution_count": 26,
      "outputs": []
    },
    {
      "cell_type": "code",
      "source": [
        "def predict_rating_for_user(item, user_index, peers, reduced_data, covariance_matrix):\n",
        "\n",
        "    peer_weights = covariance_matrix[item][peers.index]\n",
        "    user_ratings = reduced_data.loc[user_index]\n",
        "    weighted_sum = (user_ratings * peer_weights).sum()\n",
        "    prediction = weighted_sum / peer_weights.sum()\n",
        "\n",
        "    return prediction\n",
        "\n",
        "specific_indices_I1 = [2, 5, 8, 9, 14, 17, 20]\n",
        "specific_indices_I2 = [0, 1, 2, 3, 4, 5, 6, 7, 8, 9, 10, 11, 12, 23, 24, 37]\n",
        "\n",
        "predictions_I1_top_5 = {}\n",
        "predictions_I2_top_5 = {}\n",
        "predictions_I1_top_10 = {}\n",
        "predictions_I2_top_10 = {}\n",
        "\n",
        "for user_index in specific_indices_I1:\n",
        "    predictions_I1_top_5[user_index] = predict_rating_for_user(I1, user_index, top_5_peers_I1_mle, reduced_top_5_I1_mle, covariance_matrix_mle)\n",
        "    predictions_I1_top_10[user_index] = predict_rating_for_user(I1, user_index, top_10_peers_I1_mle, reduced_top_10_I1_mle, covariance_matrix_mle)\n",
        "\n",
        "for user_index in specific_indices_I2:\n",
        "    predictions_I2_top_5[user_index] = predict_rating_for_user(I2, user_index, top_5_peers_I2_mle, reduced_top_5_I2_mle, covariance_matrix_mle)\n",
        "    predictions_I2_top_10[user_index] = predict_rating_for_user(I2, user_index, top_10_peers_I2_mle, reduced_top_10_I2_mle, covariance_matrix_mle)\n",
        "\n"
      ],
      "metadata": {
        "id": "wfOUgG5PCe1Z"
      },
      "execution_count": 27,
      "outputs": []
    },
    {
      "cell_type": "code",
      "source": [
        "\n",
        "print(\"Predicted ratings for I1 using top 5\")\n",
        "for user_index in specific_indices_I1:\n",
        "    print(f\" {user_index}: {predictions_I1_top_5[user_index]}\")\n",
        "\n",
        "\n",
        "\n",
        "print(\"\\nPredicted ratings for I2 using top 5 :\")\n",
        "for user_index in specific_indices_I2:\n",
        "    print(f\" {user_index}: {predictions_I2_top_5[user_index]}\")\n",
        "\n",
        "\n",
        "print(\"\\nPredicted ratings for I1 using top 10 \")\n",
        "for user_index in specific_indices_I1:\n",
        "    print(f\" {user_index}: {predictions_I1_top_10[user_index]}\")\n",
        "\n",
        "\n",
        "print(\"\\nPredicted ratings for I2 using top 10 \")\n",
        "for user_index in specific_indices_I2:\n",
        "    print(f\"{user_index}: {predictions_I2_top_10[user_index]}\")"
      ],
      "metadata": {
        "colab": {
          "base_uri": "https://localhost:8080/"
        },
        "id": "CdRuSFJLCgc4",
        "outputId": "2548ad3e-73f9-47e3-e50a-bdc28c2e1de6"
      },
      "execution_count": 28,
      "outputs": [
        {
          "output_type": "stream",
          "name": "stdout",
          "text": [
            "Predicted ratings for I1 using top 5\n",
            " 2: 2.8015597408223205\n",
            " 5: 3.1020977249312187\n",
            " 8: 2.1935450551897073\n",
            " 9: 3.3606081550781908\n",
            " 14: 3.013179691100682\n",
            " 17: 0.7701194939793196\n",
            " 20: 2.0001856606536657\n",
            "\n",
            "Predicted ratings for I2 using top 5 :\n",
            " 0: 2.303246258171143\n",
            " 1: 2.0304237996407717\n",
            " 2: 1.7902842045963858\n",
            " 3: 2.1370343586916403\n",
            " 4: 3.3577848298173727\n",
            " 5: 2.7126948883909754\n",
            " 6: 3.5470190086475846\n",
            " 7: 3.398949974233827\n",
            " 8: 2.6412632583927467\n",
            " 9: 2.6728452022733924\n",
            " 10: 2.407951541706278\n",
            " 11: 3.9156484570217995\n",
            " 12: 2.1761878417697433\n",
            " 23: 3.041202766612488\n",
            " 24: 2.491878765680117\n",
            " 37: 2.187456779330947\n",
            "\n",
            "Predicted ratings for I1 using top 10 \n",
            " 2: 3.7246215935125755\n",
            " 5: 2.653904729932501\n",
            " 8: -0.1591162183947387\n",
            " 9: 3.079511060563304\n",
            " 14: 2.898991370745409\n",
            " 17: 0.549919783570442\n",
            " 20: 1.9101387438007458\n",
            "\n",
            "Predicted ratings for I2 using top 10 \n",
            "0: 1.4687800647529565\n",
            "1: 1.2828974084010334\n",
            "2: 0.7991432644648799\n",
            "3: 2.5856626068449176\n",
            "4: 3.9823072606847134\n",
            "5: 2.993406823049409\n",
            "6: 4.796580466361128\n",
            "7: 3.605990092040014\n",
            "8: 2.6851150231837893\n",
            "9: 2.181274453411516\n",
            "10: 2.818032343426589\n",
            "11: 3.6502027251094895\n",
            "12: 1.4181266475431227\n",
            "23: 2.952980012272998\n",
            "24: 2.4340410644300503\n",
            "37: 2.2719228829696876\n"
          ]
        }
      ]
    },
    {
      "cell_type": "markdown",
      "source": [
        "svd\n"
      ],
      "metadata": {
        "id": "-nNQYwJHC3nJ"
      }
    },
    {
      "cell_type": "code",
      "source": [
        "from numpy.linalg import svd\n",
        "average_ratings = ratings_data.mean(axis=0)\n",
        "print(\"Average ratings for each item:\\n\", average_ratings)\n",
        "\n",
        "\n",
        "mean_filled_data = ratings_data.fillna(average_ratings)\n",
        "print(\"Mean-filled:\\n\", mean_filled_data)\n",
        "\n",
        "U, Sigma, VT = svd(mean_filled_data, full_matrices=False)\n",
        "print(\"U matrix:\\n\", U)\n",
        "print(\"Sigma (singular values):\\n\", Sigma)\n",
        "print(\"VT matrix:\\n\", VT)"
      ],
      "metadata": {
        "colab": {
          "base_uri": "https://localhost:8080/"
        },
        "id": "YYVF-FcFCnvo",
        "outputId": "f4c71f87-6b3f-4592-ceac-e035cf584693"
      },
      "execution_count": 29,
      "outputs": [
        {
          "output_type": "stream",
          "name": "stdout",
          "text": [
            "Average ratings for each item:\n",
            " jane eyre                2.742857\n",
            "1984                     3.176471\n",
            "wuthering                2.325581\n",
            "picture of dorian        3.545455\n",
            "catcher in rye           2.472222\n",
            "sense and sensibility    3.297297\n",
            "great expectations       2.405405\n",
            "tale of cities           2.631579\n",
            "brave new world          2.976190\n",
            "macbeth                  2.787879\n",
            "The Great Gatsby         2.655143\n",
            "picture of dorian        2.703704\n",
            "dtype: float64\n",
            "Mean-filled:\n",
            "     jane eyre      1984  wuthering  picture of dorian   catcher in rye  \\\n",
            "0    2.742857  5.000000          1            4.000000        4.000000   \n",
            "1    0.000000  5.000000          0            5.000000        2.000000   \n",
            "2    2.742857  5.000000          3            3.545455        4.000000   \n",
            "3    5.000000  1.000000          1            4.000000        1.000000   \n",
            "4    5.000000  3.176471          4            0.000000        4.000000   \n",
            "5    1.000000  1.000000          3            5.000000        4.000000   \n",
            "6    3.000000  3.176471          3            3.545455        2.472222   \n",
            "7    3.000000  4.000000          1            5.000000        1.000000   \n",
            "8    5.000000  1.000000          4            5.000000        5.000000   \n",
            "9    3.000000  4.000000          3            5.000000        4.000000   \n",
            "10   3.000000  3.176471          3            0.000000        4.000000   \n",
            "11   3.000000  4.000000          3            1.000000        5.000000   \n",
            "12   3.000000  4.000000          3            5.000000        5.000000   \n",
            "13   3.000000  0.000000          0            3.545455        4.000000   \n",
            "14   2.742857  4.000000          4            3.545455        5.000000   \n",
            "15   0.000000  4.000000          1            3.545455        2.472222   \n",
            "16   5.000000  3.176471          2            3.545455        3.000000   \n",
            "17   2.742857  0.000000          0            3.545455        3.000000   \n",
            "18   1.000000  3.000000          4            3.545455        3.000000   \n",
            "19   1.000000  3.176471          1            3.545455        0.000000   \n",
            "20   0.000000  4.000000          3            3.545455        1.000000   \n",
            "21   5.000000  4.000000          0            3.545455        4.000000   \n",
            "22   5.000000  5.000000          3            3.545455        4.000000   \n",
            "23   2.000000  5.000000          4            3.545455        2.472222   \n",
            "24   5.000000  2.000000          5            3.545455        4.000000   \n",
            "25   4.000000  3.176471          0            3.545455        3.000000   \n",
            "26   1.000000  2.000000          5            3.545455        1.000000   \n",
            "27   0.000000  5.000000          1            3.545455        0.000000   \n",
            "28   3.000000  3.000000          3            3.545455        0.000000   \n",
            "29   0.000000  2.000000          2            3.545455        2.000000   \n",
            "30   5.000000  4.000000          0            3.545455        3.000000   \n",
            "31   2.742857  3.176471          5            3.545455        0.000000   \n",
            "32   2.742857  5.000000          1            3.545455        1.000000   \n",
            "33   2.742857  2.000000          1            3.545455        3.000000   \n",
            "34   0.000000  4.000000          4            3.545455        0.000000   \n",
            "35   2.000000  2.000000          1            3.545455        2.472222   \n",
            "36   5.000000  3.176471          5            3.545455        0.000000   \n",
            "37   2.742857  3.000000          1            3.545455        2.472222   \n",
            "38   1.000000  3.176471          1            3.545455        2.472222   \n",
            "39   4.000000  3.000000          3            3.545455        2.472222   \n",
            "40   5.000000  3.000000          4            3.545455        0.000000   \n",
            "41   1.000000  4.000000          0            3.545455        0.000000   \n",
            "42   4.000000  1.000000          4            3.545455        2.000000   \n",
            "\n",
            "    sense and sensibility  great expectations  tale of cities  \\\n",
            "0                0.000000            4.000000        4.000000   \n",
            "1                4.000000            0.000000        3.000000   \n",
            "2                4.000000            5.000000        2.631579   \n",
            "3                3.000000            3.000000        3.000000   \n",
            "4                4.000000            0.000000        3.000000   \n",
            "5                4.000000            5.000000        4.000000   \n",
            "6                5.000000            2.405405        3.000000   \n",
            "7                2.000000            4.000000        5.000000   \n",
            "8                5.000000            2.000000        2.631579   \n",
            "9                3.297297            3.000000        3.000000   \n",
            "10               4.000000            5.000000        3.000000   \n",
            "11               3.297297            2.405405        5.000000   \n",
            "12               4.000000            5.000000        0.000000   \n",
            "13               3.000000            1.000000        2.000000   \n",
            "14               5.000000            5.000000        0.000000   \n",
            "15               5.000000            2.405405        3.000000   \n",
            "16               5.000000            2.000000        3.000000   \n",
            "17               5.000000            1.000000        1.000000   \n",
            "18               4.000000            4.000000        2.631579   \n",
            "19               2.000000            2.405405        1.000000   \n",
            "20               4.000000            2.000000        2.631579   \n",
            "21               3.297297            1.000000        0.000000   \n",
            "22               2.000000            1.000000        3.000000   \n",
            "23               4.000000            1.000000        2.000000   \n",
            "24               3.000000            4.000000        1.000000   \n",
            "25               1.000000            2.405405        2.000000   \n",
            "26               5.000000            1.000000        1.000000   \n",
            "27               5.000000            0.000000        3.000000   \n",
            "28               2.000000            2.405405        2.000000   \n",
            "29               1.000000            1.000000        1.000000   \n",
            "30               4.000000            4.000000        3.000000   \n",
            "31               3.297297            1.000000        2.000000   \n",
            "32               5.000000            5.000000        2.631579   \n",
            "33               3.297297            4.000000        5.000000   \n",
            "34               3.000000            3.000000        0.000000   \n",
            "35               3.000000            2.000000        5.000000   \n",
            "36               1.000000            1.000000        5.000000   \n",
            "37               1.000000            1.000000        3.000000   \n",
            "38               2.000000            1.000000        3.000000   \n",
            "39               2.000000            2.000000        2.000000   \n",
            "40               1.000000            2.000000        5.000000   \n",
            "41               3.297297            3.000000        1.000000   \n",
            "42               5.000000            0.000000        5.000000   \n",
            "\n",
            "    brave new world   macbeth  The Great Gatsby  picture of dorian  \n",
            "0           0.00000  5.000000          3.930000           2.703704  \n",
            "1           5.00000  2.787879          2.655143           2.703704  \n",
            "2           3.00000  2.000000          3.000000           2.703704  \n",
            "3           3.00000  2.000000          0.000000           2.703704  \n",
            "4           4.00000  5.000000          2.000000           2.703704  \n",
            "5           3.00000  5.000000          2.655143           2.703704  \n",
            "6           4.00000  2.787879          5.000000           2.703704  \n",
            "7           2.00000  4.000000          5.000000           2.703704  \n",
            "8           3.00000  5.000000          5.000000           2.703704  \n",
            "9           4.00000  5.000000          2.655143           2.703704  \n",
            "10          0.00000  2.787879          3.000000           2.703704  \n",
            "11          5.00000  5.000000          2.000000           2.703704  \n",
            "12          5.00000  2.000000          2.000000           2.703704  \n",
            "13          4.00000  0.000000          4.000000           4.000000  \n",
            "14          5.00000  1.000000          3.000000           2.000000  \n",
            "15          1.00000  0.000000          1.000000           2.000000  \n",
            "16          5.00000  2.787879          2.000000           4.000000  \n",
            "17          0.00000  2.000000          5.000000           4.000000  \n",
            "18          4.00000  1.000000          2.655143           5.000000  \n",
            "19          2.00000  2.787879          3.000000           4.000000  \n",
            "20          3.00000  3.000000          3.000000           4.000000  \n",
            "21          0.00000  4.000000          1.000000           0.000000  \n",
            "22          4.00000  1.000000          4.000000           3.000000  \n",
            "23          5.00000  4.000000          2.000000           2.703704  \n",
            "24          2.00000  1.000000          2.000000           2.703704  \n",
            "25          4.00000  5.000000          2.655143           0.000000  \n",
            "26          5.00000  4.000000          2.655143           2.000000  \n",
            "27          4.00000  2.000000          1.000000           4.000000  \n",
            "28          4.00000  2.787879          0.000000           4.000000  \n",
            "29          5.00000  2.000000          2.655143           0.000000  \n",
            "30          1.00000  3.000000          0.000000           4.000000  \n",
            "31          0.00000  3.000000          3.000000           4.000000  \n",
            "32          2.00000  3.000000          5.000000           3.000000  \n",
            "33          3.00000  2.787879          2.000000           4.000000  \n",
            "34          4.00000  4.000000          5.000000           2.000000  \n",
            "35          2.00000  2.787879          2.000000           0.000000  \n",
            "36          0.00000  5.000000          0.000000           1.000000  \n",
            "37          2.00000  1.000000          3.000000           2.703704  \n",
            "38          5.00000  0.000000          2.000000           3.000000  \n",
            "39          0.00000  3.000000          2.000000           1.000000  \n",
            "40          4.00000  0.000000          5.000000           4.000000  \n",
            "41          2.97619  2.787879          2.655143           0.000000  \n",
            "42          4.00000  2.787879          2.000000           5.000000  \n",
            "U matrix:\n",
            " [[-1.58637638e-01 -2.56736505e-01 -2.02635630e-01  2.86944385e-01\n",
            "  -3.69270002e-02  1.88593503e-02 -1.26832425e-01 -1.10110654e-01\n",
            "   1.40652045e-01  1.52607301e-01 -1.18287725e-01 -3.76174873e-01]\n",
            " [-1.50451553e-01  2.74391570e-01 -1.65741709e-02  1.82385006e-01\n",
            "  -2.38493974e-02  2.95703730e-01  7.40448352e-03  1.18804277e-01\n",
            "  -7.91293029e-02  8.78396489e-02 -1.65091180e-01 -3.95061972e-02]\n",
            " [-1.79549897e-01 -5.74316808e-03 -1.91080414e-01 -4.58668979e-02\n",
            "   1.19616372e-02 -8.16097115e-02  1.25203479e-01 -1.60511562e-01\n",
            "   4.54216686e-02  9.87806101e-02 -4.63877566e-02  8.37265655e-02]\n",
            " [-1.29138649e-01 -1.13804604e-01  9.12729333e-02 -5.32903606e-02\n",
            "  -1.35658240e-01  1.04609304e-01  1.40888242e-01 -4.59825704e-02\n",
            "  -1.04377314e-01 -4.05272278e-01  1.81846762e-01  1.20257022e-01]\n",
            " [-1.60820812e-01 -1.34385175e-01  2.62798099e-01 -1.65804752e-01\n",
            "   2.39627456e-01  1.15126917e-01  3.54306490e-02  1.21039833e-01\n",
            "   5.35213766e-02  3.38754702e-01  2.56224595e-01 -3.52115904e-02]\n",
            " [-1.77609623e-01 -2.96326913e-02 -1.12531975e-01  1.00159283e-02\n",
            "   3.34220424e-02 -6.43617345e-02 -6.55006303e-03  1.71344756e-01\n",
            "   4.20405796e-01 -3.30726472e-01 -1.29125082e-01 -7.91833078e-02]\n",
            " [-1.78878848e-01  7.69519622e-02  1.20673772e-02 -3.90674336e-02\n",
            "  -2.21782956e-02 -6.37126803e-02 -1.40100298e-01  8.78311115e-02\n",
            "   4.70288346e-03  9.90975232e-02  8.48254544e-02  2.42400435e-01]\n",
            " [-1.72286694e-01 -8.29910075e-02 -7.34420198e-02  3.23207453e-01\n",
            "  -1.71535712e-01 -2.49197755e-02 -1.80292794e-01 -5.73168349e-02\n",
            "   7.84644347e-02 -5.84182109e-02  8.48045786e-02  8.78540694e-02]\n",
            " [-2.00298329e-01 -1.39929049e-01  4.27625474e-02 -1.89348865e-01\n",
            "   6.72890484e-02 -4.87265440e-02 -2.97007167e-01  2.80386311e-01\n",
            "   1.00459836e-02 -9.50548197e-02 -1.03717350e-01  1.56647228e-02]\n",
            " [-1.90236159e-01 -3.11198136e-02 -3.10358443e-02  4.21441684e-02\n",
            "   1.40991261e-01  8.54638610e-02 -2.69292340e-02  1.25187521e-02\n",
            "   5.66255549e-02 -8.79537570e-02 -9.43802797e-02 -1.61174377e-01]\n",
            " [-1.43359240e-01 -2.08945483e-01 -1.55559796e-01 -8.92251091e-02\n",
            "  -1.16490510e-02 -2.40978272e-01  1.66078108e-01  2.98245272e-02\n",
            "   2.39950011e-01  3.06275824e-01  1.73828265e-01  8.50450826e-02]\n",
            " [-1.80344775e-01 -7.11752246e-02  9.31546194e-02 -4.76751398e-02\n",
            "   1.64822736e-01  2.16286147e-01  9.81219351e-02 -1.96321513e-02\n",
            "   3.71106829e-01  2.56331125e-01  1.60160986e-01 -5.44521145e-02]\n",
            " [-1.82050158e-01  8.34981044e-02 -2.43048790e-01 -2.29175566e-01\n",
            "   1.36896737e-01  1.15436197e-02  8.11749687e-02 -1.76340277e-01\n",
            "  -9.96494406e-02 -1.78165401e-01 -5.38906345e-02 -1.28309388e-01]\n",
            " [-1.27652282e-01  7.90790178e-02 -1.87718151e-02 -2.75971173e-01\n",
            "  -3.06938422e-01  1.64506833e-01 -2.44580656e-01  6.71269744e-02\n",
            "  -1.10809601e-02 -3.06174571e-02  1.90823800e-02 -1.09688738e-01]\n",
            " [-1.78729280e-01  1.21513929e-01 -2.37050508e-01 -3.10558090e-01\n",
            "   1.60169961e-01 -9.64103288e-02  6.27631893e-02 -1.73575004e-01\n",
            "  -4.58156071e-02  4.16974898e-03 -2.11639146e-02  1.37659582e-01]\n",
            " [-1.16835016e-01  1.03542141e-01 -1.56866167e-01  3.67263866e-02\n",
            "  -1.42531225e-01 -5.27718541e-03  3.05124368e-01  8.03292297e-02\n",
            "   1.54144980e-04  1.05942913e-01 -3.71860611e-01  2.48001512e-01]\n",
            " [-1.82017152e-01  8.30831973e-03  1.06548992e-01 -1.42339351e-01\n",
            "  -5.48920732e-02  1.53740073e-01  9.86488248e-02  3.71246029e-02\n",
            "  -1.26099676e-01 -3.54585308e-02  2.08811873e-01  4.57231294e-02]\n",
            " [-1.22944078e-01 -4.18842063e-02 -1.06483781e-01 -1.38123523e-01\n",
            "  -2.85463324e-01 -1.05100600e-01 -2.19180360e-01  4.53738643e-01\n",
            "  -1.50585592e-01  4.81916964e-02  4.66589869e-03 -1.00856157e-01]\n",
            " [-1.66839138e-01  1.70550551e-01 -1.83035060e-02 -1.27506137e-01\n",
            "  -1.06538332e-01 -1.80137916e-01  1.36167129e-01 -1.10722334e-01\n",
            "   1.64498287e-01 -1.18370851e-02 -7.25138844e-02 -1.54471658e-01]\n",
            " [-1.17275911e-01  1.03836493e-01 -4.99424197e-02  1.77966826e-01\n",
            "  -8.67396433e-02 -1.18981068e-01 -3.11896147e-02  2.01655220e-02\n",
            "  -1.10891048e-01 -5.33726216e-02  1.68506508e-01 -3.10507299e-01]\n",
            " [-1.49435649e-01  1.89449041e-01  3.51911459e-02  1.40944314e-01\n",
            "  -1.06992313e-02 -1.37608514e-01  8.04000651e-02  8.94321395e-02\n",
            "   5.60226716e-02  8.20956323e-02 -4.89389113e-02 -1.27788990e-01]\n",
            " [-1.18488421e-01 -2.64271929e-01 -1.77536569e-01 -7.51766505e-03\n",
            "   1.81573432e-01  1.91246844e-01  3.26538926e-02  1.78221464e-01\n",
            "  -4.12239566e-01  5.90010207e-02 -1.09426584e-01 -1.22248732e-03]\n",
            " [-1.70927059e-01 -3.21695133e-02  7.65056153e-02 -9.71657572e-02\n",
            "  -5.43514821e-02  1.14999394e-01 -1.52585426e-01 -2.75726845e-01\n",
            "  -1.86096955e-01  2.89891622e-01 -1.26657513e-01  4.14701344e-03]\n",
            " [-1.70136136e-01  1.40893991e-01  1.13899945e-01  2.60223591e-02\n",
            "   2.39714329e-01  5.21372594e-02  7.41788084e-02  4.09145383e-04\n",
            "  -6.76140505e-02  1.02096123e-01 -5.12679589e-02 -8.27024669e-02]\n",
            " [-1.53145750e-01 -1.43408492e-01 -1.99469049e-02 -2.91904505e-01\n",
            "   3.52862114e-02 -2.22392913e-01  2.65242768e-02 -1.94817601e-01\n",
            "  -9.92828066e-02 -1.17707343e-01 -1.34723383e-01  2.42864956e-03]\n",
            " [-1.37868550e-01 -1.26318156e-01 -1.03522111e-01  1.01961978e-01\n",
            "   1.85865997e-01  3.04076934e-01 -2.19447244e-01 -6.26161844e-02\n",
            "  -2.78512946e-02 -1.17745789e-01  2.16779121e-01 -2.71963942e-03]\n",
            " [-1.49851793e-01  2.19568979e-01  1.64612042e-01 -5.10509425e-02\n",
            "   2.71700626e-01 -1.35480287e-01 -5.29675608e-02  1.82935556e-01\n",
            "   8.65261036e-03 -1.30982086e-01  1.00287825e-02  9.27362002e-02]\n",
            " [-1.34029404e-01  2.87972112e-01  1.17018660e-01  1.81222824e-01\n",
            "  -7.57721314e-02  1.16769938e-01  2.80403263e-01  1.37160476e-01\n",
            "  -1.31560058e-01  1.15191382e-01 -3.51145247e-02 -7.22523216e-03]\n",
            " [-1.33438707e-01  5.41989394e-02  1.78067323e-01  5.80673267e-02\n",
            "   2.99610867e-02 -2.43911534e-02  1.86144111e-01 -1.63681299e-01\n",
            "  -9.86041504e-02 -2.54133608e-01  1.79289866e-01 -2.27297914e-01]\n",
            " [-1.00571459e-01  1.97061055e-01 -2.30906408e-02  7.99947817e-03\n",
            "   1.84944721e-01  1.33833697e-01 -2.42999530e-01 -1.14847560e-01\n",
            "   9.04091870e-02 -1.13355882e-01 -1.28241484e-01  3.19665217e-02]\n",
            " [-1.54986697e-01 -2.13713655e-01 -1.08722691e-01  1.83132954e-02\n",
            "  -1.54622621e-01  1.04835524e-01  3.52731025e-01  3.00722538e-02\n",
            "  -1.63340306e-01 -8.28273251e-02  1.42251832e-01 -1.21461190e-01]\n",
            " [-1.36592533e-01 -4.00214813e-02  1.95646470e-01  1.14704018e-01\n",
            "  -9.03689230e-03 -3.72806279e-01  1.23487758e-02  9.51060292e-02\n",
            "  -1.89166119e-01  7.12465052e-02 -1.47830548e-01 -1.23638841e-01]\n",
            " [-1.74661867e-01  2.24582116e-02 -2.19388074e-01  1.74955151e-01\n",
            "  -1.21099743e-01 -1.64670101e-01  1.97976712e-02  4.99018325e-02\n",
            "  -9.09683740e-02  9.76861802e-02  3.01511363e-01  2.36910141e-01]\n",
            " [-1.60514117e-01 -6.12741521e-02 -1.96089815e-02  1.46493861e-02\n",
            "  -2.14421275e-01  8.38990471e-02  1.09346820e-01  1.09029413e-02\n",
            "   2.53663344e-01 -1.32399379e-01  8.71759900e-02 -3.83808048e-02]\n",
            " [-1.45958088e-01  2.40017084e-01 -6.43373717e-02  1.61147175e-01\n",
            "   2.36794931e-01 -2.76960096e-01 -2.02444736e-01 -7.61654201e-03\n",
            "  -2.98358449e-02 -3.81014510e-03  1.66952911e-01 -4.49842537e-02]\n",
            " [-1.24470293e-01 -8.87946239e-02 -1.14961516e-02  1.12388639e-01\n",
            "  -3.25762219e-02  1.60935546e-01 -2.28782379e-02  8.03142019e-02\n",
            "   2.09902018e-01 -7.32982838e-02 -2.02031045e-01  3.88076561e-01]\n",
            " [-1.30288696e-01 -3.26347566e-01  3.46069045e-01  2.66487505e-01\n",
            "   1.63363252e-01 -9.50727725e-02  9.68569338e-02 -8.26270151e-02\n",
            "  -3.15070322e-02 -1.36510544e-01 -2.13037990e-01  1.20524782e-01]\n",
            " [-1.18057284e-01 -3.23382023e-02  1.54162367e-02  4.16468839e-02\n",
            "  -1.67680975e-01  9.54945916e-02 -1.29958175e-01 -1.28349985e-01\n",
            "  -6.19870176e-02  1.00755400e-01 -1.60180218e-01 -9.47679927e-02]\n",
            " [-1.23389768e-01  2.04565437e-01  3.48966138e-02 -3.58918719e-02\n",
            "  -1.37309382e-01  2.11659926e-01 -4.09622802e-03 -1.81305790e-01\n",
            "   3.92252455e-02  4.01857463e-02 -1.32891489e-01 -4.05244244e-02]\n",
            " [-1.23739342e-01 -2.18186592e-01 -6.81863790e-03  4.39779951e-02\n",
            "   8.36229330e-02 -9.12508143e-02 -3.56233670e-02 -2.09437983e-02\n",
            "  -1.36980264e-01 -5.39644197e-03 -2.10922896e-01  4.61080261e-02]\n",
            " [-1.59924404e-01  7.90845736e-03  2.80314045e-01  3.93723766e-02\n",
            "  -2.81062492e-01 -1.26441512e-01 -2.41959330e-01 -3.97702798e-01\n",
            "  -4.34943731e-02  5.40951312e-02  9.96615591e-02  2.12530342e-01]\n",
            " [-1.12760695e-01  1.18414719e-01 -1.92833361e-01  2.10129240e-01\n",
            "   9.73843486e-02  4.52829648e-02 -1.47998961e-02  2.23848195e-02\n",
            "  -1.30921214e-01 -9.59840629e-02  1.72988171e-01  2.92413908e-01]\n",
            " [-1.70652429e-01  1.50592914e-02  3.86651998e-01 -1.23063327e-01\n",
            "  -1.49023172e-01  1.59797803e-02  5.44527405e-02  1.85610998e-01\n",
            "   6.42303930e-02 -6.02247398e-02 -3.96316206e-02  2.84310257e-02]]\n",
            "Sigma (singular values):\n",
            " [65.2084772  13.49787191 11.68969086 11.44179476 10.65169781  9.99183887\n",
            "  9.08569288  8.87581877  8.08215022  7.48902451  5.97247671  5.5119346 ]\n",
            "VT matrix:\n",
            " [[-0.28008255 -0.31934428 -0.24208525 -0.35413279 -0.25740947 -0.33614385\n",
            "  -0.24855979 -0.26689357 -0.30538157 -0.28399298 -0.27056206 -0.27600268]\n",
            " [-0.61441732  0.107221    0.011411    0.11384587 -0.24179253  0.22068408\n",
            "  -0.13580886 -0.2044608   0.56609546 -0.26912231  0.12426582  0.14885458]\n",
            " [ 0.24139017 -0.19168371  0.44104826 -0.11347225 -0.34692362 -0.07343474\n",
            "  -0.57363502  0.34705376  0.1931163   0.067001   -0.17779122  0.22123235]\n",
            " [-0.25849155  0.42721201 -0.20407718  0.21355121 -0.53414459 -0.2352406\n",
            "   0.00697192  0.32188675 -0.22652179  0.3914156   0.08006027 -0.09046655]\n",
            " [-0.08779858  0.19569132  0.4112685  -0.1399442   0.10347058 -0.03258993\n",
            "  -0.05570289 -0.39157802  0.20843318  0.50938171 -0.20178883 -0.50342118]\n",
            " [ 0.12243669  0.09448485 -0.60887926  0.07472575  0.32464274 -0.11062634\n",
            "  -0.33718407  0.22876952  0.44536923  0.08273879 -0.27172605 -0.19253516]\n",
            " [-0.08754504  0.30907501  0.01075885 -0.1767488  -0.0468235   0.37236132\n",
            "   0.22163744  0.11173118 -0.12062847 -0.09165252 -0.77075609  0.21443843]\n",
            " [-0.18396612 -0.34084783 -0.22342595  0.0179036   0.04297276  0.63109538\n",
            "  -0.32532127 -0.05590273 -0.28230794  0.44714552  0.08554598  0.06080656]\n",
            " [-0.48101331 -0.34735589  0.12808945 -0.31497384  0.2584052  -0.14625137\n",
            "   0.31180406  0.54595719  0.13076182  0.17375849  0.02120888 -0.03406513]\n",
            " [-0.07305065  0.53058062  0.02179958 -0.58432288  0.26441659  0.05824298\n",
            "  -0.34056996  0.08974738 -0.17797479 -0.12492892  0.34705591  0.07847567]\n",
            " [ 0.29585307 -0.07743483 -0.31169874 -0.54857648 -0.38333229  0.04541495\n",
            "   0.31205352 -0.17362826  0.33050287  0.26460642  0.13498258  0.18542708]\n",
            " [ 0.17467621 -0.01322873  0.03383165 -0.06958535 -0.2565913   0.44776801\n",
            "   0.09125883  0.32458865  0.06015847 -0.31425358  0.1352037  -0.68018444]]\n"
          ]
        }
      ]
    },
    {
      "cell_type": "code",
      "source": [
        "U_orthogonal = np.allclose(U.T @ U, np.eye(U.shape[1]))\n",
        "VT_orthogonal = np.allclose(VT @ VT.T, np.eye(VT.shape[0]))\n",
        "\n",
        "\n",
        "U_orthonormal = np.allclose(np.linalg.norm(U, axis=0), 1)\n",
        "VT_orthonormal = np.allclose(np.linalg.norm(VT, axis=1), 1)\n"
      ],
      "metadata": {
        "id": "4BAoGBLSDtBx"
      },
      "execution_count": 30,
      "outputs": []
    },
    {
      "cell_type": "code",
      "source": [],
      "metadata": {
        "id": "ivMHZ1GHDxyo"
      },
      "execution_count": null,
      "outputs": []
    }
  ]
}