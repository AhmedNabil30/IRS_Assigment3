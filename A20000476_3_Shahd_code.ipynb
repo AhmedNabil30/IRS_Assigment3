{
  "nbformat": 4,
  "nbformat_minor": 0,
  "metadata": {
    "colab": {
      "provenance": []
    },
    "kernelspec": {
      "name": "python3",
      "display_name": "Python 3"
    },
    "language_info": {
      "name": "python"
    }
  },
  "cells": [
    {
      "cell_type": "code",
      "execution_count": 1,
      "metadata": {
        "colab": {
          "base_uri": "https://localhost:8080/"
        },
        "id": "eYVz9I4K_YbJ",
        "outputId": "f40b6b9a-aa79-4d92-e9f7-0f5c6763e10d"
      },
      "outputs": [
        {
          "output_type": "stream",
          "name": "stdout",
          "text": [
            "Collecting scikit-surprise\n",
            "  Downloading scikit_surprise-1.1.4.tar.gz (154 kB)\n",
            "\u001b[?25l     \u001b[90m━━━━━━━━━━━━━━━━━━━━━━━━━━━━━━━━━━━━━━━━\u001b[0m \u001b[32m0.0/154.4 kB\u001b[0m \u001b[31m?\u001b[0m eta \u001b[36m-:--:--\u001b[0m\r\u001b[2K     \u001b[90m━━━━━━━━━━━━━━━━━━━━━━━━━━━━━━━━━━━━━━━━\u001b[0m \u001b[32m154.4/154.4 kB\u001b[0m \u001b[31m11.1 MB/s\u001b[0m eta \u001b[36m0:00:00\u001b[0m\n",
            "\u001b[?25h  Installing build dependencies ... \u001b[?25l\u001b[?25hdone\n",
            "  Getting requirements to build wheel ... \u001b[?25l\u001b[?25hdone\n",
            "  Preparing metadata (pyproject.toml) ... \u001b[?25l\u001b[?25hdone\n",
            "Requirement already satisfied: joblib>=1.2.0 in /usr/local/lib/python3.10/dist-packages (from scikit-surprise) (1.4.2)\n",
            "Requirement already satisfied: numpy>=1.19.5 in /usr/local/lib/python3.10/dist-packages (from scikit-surprise) (1.26.4)\n",
            "Requirement already satisfied: scipy>=1.6.0 in /usr/local/lib/python3.10/dist-packages (from scikit-surprise) (1.13.1)\n",
            "Building wheels for collected packages: scikit-surprise\n",
            "  Building wheel for scikit-surprise (pyproject.toml) ... \u001b[?25l\u001b[?25hdone\n",
            "  Created wheel for scikit-surprise: filename=scikit_surprise-1.1.4-cp310-cp310-linux_x86_64.whl size=2357288 sha256=59b3b9c994280d062bd075ae681f0765ecb7a97da2fee4e5e3f89de366d1c72b\n",
            "  Stored in directory: /root/.cache/pip/wheels/4b/3f/df/6acbf0a40397d9bf3ff97f582cc22fb9ce66adde75bc71fd54\n",
            "Successfully built scikit-surprise\n",
            "Installing collected packages: scikit-surprise\n",
            "Successfully installed scikit-surprise-1.1.4\n"
          ]
        }
      ],
      "source": [
        "!pip install scikit-surprise"
      ]
    },
    {
      "cell_type": "code",
      "source": [
        "import pandas as pd\n",
        "import numpy as np\n",
        "import matplotlib.pyplot as plt\n",
        "dataset = pd.read_csv(\"A20000476_shahd_dataset.csv\")\n",
        "print(dataset.head())\n",
        "dataset.set_index(dataset.columns[0], inplace=True)\n",
        "dataset = dataset.applymap(lambda x: np.clip(x, 1, 5))\n",
        "print(dataset.head())"
      ],
      "metadata": {
        "colab": {
          "base_uri": "https://localhost:8080/"
        },
        "id": "XQ3Pa79hAFO-",
        "outputId": "96829931-81e0-43a7-f783-2cbb81481b36"
      },
      "execution_count": 3,
      "outputs": [
        {
          "output_type": "stream",
          "name": "stdout",
          "text": [
            "  Unnamed: 0  Grand Theft Auto V  The Witcher 3: Wild Hunt  Portal 2  \\\n",
            "0     User_1                 5.0                       4.0       3.0   \n",
            "1     User_2                 4.0                       4.0       3.0   \n",
            "2     User_3                 5.0                       4.0       2.0   \n",
            "3     User_4                 2.0                       4.0       2.0   \n",
            "4     User_5                 2.0                       1.0       3.0   \n",
            "\n",
            "   Counter-Strike: Global Offensive  Tomb Raider (2013)  Portal  \\\n",
            "0                               4.0                 1.0     1.0   \n",
            "1                               3.0                 1.0     1.0   \n",
            "2                               5.0                 5.0     2.0   \n",
            "3                               1.0                 5.0     2.0   \n",
            "4                               5.0                 1.0     5.0   \n",
            "\n",
            "   Left 4 Dead 2  The Elder Scrolls V: Skyrim  Red Dead Redemption 2  \\\n",
            "0            3.0                          NaN                    4.0   \n",
            "1            4.0                          3.0                    NaN   \n",
            "2            1.0                          2.0                    5.0   \n",
            "3            2.0                          3.0                    3.0   \n",
            "4            2.0                          NaN                    3.0   \n",
            "\n",
            "   BioShock Infinite  \n",
            "0                4.0  \n",
            "1                NaN  \n",
            "2                3.0  \n",
            "3                NaN  \n",
            "4                4.0  \n",
            "            Grand Theft Auto V  The Witcher 3: Wild Hunt  Portal 2  \\\n",
            "Unnamed: 0                                                           \n",
            "User_1                     5.0                       4.0       3.0   \n",
            "User_2                     4.0                       4.0       3.0   \n",
            "User_3                     5.0                       4.0       2.0   \n",
            "User_4                     2.0                       4.0       2.0   \n",
            "User_5                     2.0                       1.0       3.0   \n",
            "\n",
            "            Counter-Strike: Global Offensive  Tomb Raider (2013)  Portal  \\\n",
            "Unnamed: 0                                                                 \n",
            "User_1                                   4.0                 1.0     1.0   \n",
            "User_2                                   3.0                 1.0     1.0   \n",
            "User_3                                   5.0                 5.0     2.0   \n",
            "User_4                                   1.0                 5.0     2.0   \n",
            "User_5                                   5.0                 1.0     5.0   \n",
            "\n",
            "            Left 4 Dead 2  The Elder Scrolls V: Skyrim  Red Dead Redemption 2  \\\n",
            "Unnamed: 0                                                                      \n",
            "User_1                3.0                          NaN                    4.0   \n",
            "User_2                4.0                          3.0                    NaN   \n",
            "User_3                1.0                          2.0                    5.0   \n",
            "User_4                2.0                          3.0                    3.0   \n",
            "User_5                2.0                          NaN                    3.0   \n",
            "\n",
            "            BioShock Infinite  \n",
            "Unnamed: 0                     \n",
            "User_1                    4.0  \n",
            "User_2                    NaN  \n",
            "User_3                    3.0  \n",
            "User_4                    NaN  \n",
            "User_5                    4.0  \n"
          ]
        },
        {
          "output_type": "stream",
          "name": "stderr",
          "text": [
            "<ipython-input-3-1751d0017579>:7: FutureWarning: DataFrame.applymap has been deprecated. Use DataFrame.map instead.\n",
            "  dataset = dataset.applymap(lambda x: np.clip(x, 1, 5))\n"
          ]
        }
      ]
    },
    {
      "cell_type": "code",
      "source": [
        "Tnu = dataset.shape[0]\n",
        "print(\"Total number of users (Tnu):\", Tnu)\n",
        "Tni = dataset.shape[1]\n",
        "print(\"Total number of items (Tni):\", Tni)\n"
      ],
      "metadata": {
        "colab": {
          "base_uri": "https://localhost:8080/"
        },
        "id": "0SD0hBAKAb5M",
        "outputId": "499a296a-3a7d-4d6a-95f9-ba431812e777"
      },
      "execution_count": 4,
      "outputs": [
        {
          "output_type": "stream",
          "name": "stdout",
          "text": [
            "Total number of users (Tnu): 50\n",
            "Total number of items (Tni): 10\n"
          ]
        }
      ]
    },
    {
      "cell_type": "code",
      "source": [
        "ratings_per_item = dataset.notnull().sum()\n",
        "print(\"Ratings per product (game):\\n\", ratings_per_item)"
      ],
      "metadata": {
        "colab": {
          "base_uri": "https://localhost:8080/"
        },
        "id": "vK0X2zs9Ao2J",
        "outputId": "4f43b5fd-dab9-442c-da5b-eb3d33c8ff18"
      },
      "execution_count": 5,
      "outputs": [
        {
          "output_type": "stream",
          "name": "stdout",
          "text": [
            "Ratings per product (game):\n",
            " Grand Theft Auto V                  45\n",
            "The Witcher 3: Wild Hunt            41\n",
            "Portal 2                            47\n",
            "Counter-Strike: Global Offensive    44\n",
            "Tomb Raider (2013)                  44\n",
            "Portal                              48\n",
            "Left 4 Dead 2                       45\n",
            "The Elder Scrolls V: Skyrim         40\n",
            "Red Dead Redemption 2               44\n",
            "BioShock Infinite                   41\n",
            "dtype: int64\n"
          ]
        }
      ]
    },
    {
      "cell_type": "code",
      "source": [
        "all_ratings = dataset.values.flatten()\n",
        "plt.hist(all_ratings, bins=np.arange(1, 7) - 0.5, edgecolor='black')\n",
        "plt.xlabel('Rating Value')\n",
        "plt.ylabel('Count')\n",
        "plt.title('Distribution of Ratings')\n",
        "plt.xticks(range(1, 6))\n",
        "plt.show()"
      ],
      "metadata": {
        "colab": {
          "base_uri": "https://localhost:8080/",
          "height": 472
        },
        "id": "diSI-6SdAsbo",
        "outputId": "7de8d565-c26a-489d-d9ef-499893790a12"
      },
      "execution_count": 6,
      "outputs": [
        {
          "output_type": "display_data",
          "data": {
            "text/plain": [
              "<Figure size 640x480 with 1 Axes>"
            ],
            "image/png": "[encoded data removed]"
          },
          "metadata": {}
        }
      ]
    },
    {
      "cell_type": "code",
      "source": [
        "total_elements = dataset.size\n",
        "non_zero_elements = dataset.notnull().sum().sum()\n",
        "sparsity = (1 - (non_zero_elements / total_elements)) * 100\n",
        "print(f\"Matrix Sparsity: {sparsity:.2f}%\")"
      ],
      "metadata": {
        "colab": {
          "base_uri": "https://localhost:8080/"
        },
        "id": "JRYS7G32AvYx",
        "outputId": "c851d812-0eae-4de9-d0bc-ec5f09588013"
      },
      "execution_count": 7,
      "outputs": [
        {
          "output_type": "stream",
          "name": "stdout",
          "text": [
            "Matrix Sparsity: 12.20%\n"
          ]
        }
      ]
    },
    {
      "cell_type": "code",
      "source": [
        "average_rating_per_user = dataset.mean(axis=1)\n",
        "print(\"Average Ratings Per User:\\n\", average_rating_per_user.describe())"
      ],
      "metadata": {
        "colab": {
          "base_uri": "https://localhost:8080/"
        },
        "id": "HoqY4IqqAyMC",
        "outputId": "6c35b71e-3a38-40f4-e2b9-364ff787387a"
      },
      "execution_count": 8,
      "outputs": [
        {
          "output_type": "stream",
          "name": "stdout",
          "text": [
            "Average Ratings Per User:\n",
            " count    50.000000\n",
            "mean      2.896905\n",
            "std       0.463438\n",
            "min       1.888889\n",
            "25%       2.559524\n",
            "50%       2.881944\n",
            "75%       3.243056\n",
            "max       3.800000\n",
            "dtype: float64\n"
          ]
        }
      ]
    },
    {
      "cell_type": "code",
      "source": [
        "lowest_rated_items = ratings_per_item.nsmallest(2).index\n",
        "I1, I2 = lowest_rated_items\n",
        "print(\"Target Items: I1 =\", I1, \"I2 =\", I2)"
      ],
      "metadata": {
        "colab": {
          "base_uri": "https://localhost:8080/"
        },
        "id": "vMTUQTTvA0sT",
        "outputId": "b8a4459c-e491-45b6-b2c3-72448d8079c9"
      },
      "execution_count": 9,
      "outputs": [
        {
          "output_type": "stream",
          "name": "stdout",
          "text": [
            "Target Items: I1 = The Elder Scrolls V: Skyrim I2 = The Witcher 3: Wild Hunt\n"
          ]
        }
      ]
    },
    {
      "cell_type": "code",
      "source": [
        "avg_I1 = dataset[I1].mean()\n",
        "avg_I2 = dataset[I2].mean()\n",
        "print(\"Average Rating of I1:\", avg_I1)\n",
        "print(\"Average Rating of I2:\", avg_I2)"
      ],
      "metadata": {
        "colab": {
          "base_uri": "https://localhost:8080/"
        },
        "id": "CYbbwvQIA3FD",
        "outputId": "05d8af49-180a-4db9-bf80-921b2e7b1d5e"
      },
      "execution_count": 10,
      "outputs": [
        {
          "output_type": "stream",
          "name": "stdout",
          "text": [
            "Average Rating of I1: 2.7\n",
            "Average Rating of I2: 2.8536585365853657\n"
          ]
        }
      ]
    },
    {
      "cell_type": "code",
      "source": [
        "dataset[I1] = dataset[I1].fillna(avg_I1)\n",
        "dataset[I2] = dataset[I2].fillna(avg_I2)"
      ],
      "metadata": {
        "id": "fZHbZYapA5lC"
      },
      "execution_count": 11,
      "outputs": []
    },
    {
      "cell_type": "code",
      "source": [
        "centered_matrix = dataset.subtract(dataset.mean(axis=0), axis=1)\n",
        "covariance_matrix = centered_matrix.cov()\n",
        "print(\"Covariance Matrix:\\n\", covariance_matrix)"
      ],
      "metadata": {
        "colab": {
          "base_uri": "https://localhost:8080/"
        },
        "id": "7LT-8zSkA7mi",
        "outputId": "d38a8873-2a23-4d8a-ffe3-222344841ffa"
      },
      "execution_count": 12,
      "outputs": [
        {
          "output_type": "stream",
          "name": "stdout",
          "text": [
            "Covariance Matrix:\n",
            "                                   Grand Theft Auto V  \\\n",
            "Grand Theft Auto V                          1.982828   \n",
            "The Witcher 3: Wild Hunt                   -0.083309   \n",
            "Portal 2                                    0.068660   \n",
            "Counter-Strike: Global Offensive            0.008097   \n",
            "Tomb Raider (2013)                          0.248313   \n",
            "Portal                                      0.168328   \n",
            "Left 4 Dead 2                               0.409615   \n",
            "The Elder Scrolls V: Skyrim                 0.171515   \n",
            "Red Dead Redemption 2                       0.014170   \n",
            "BioShock Infinite                          -0.458037   \n",
            "\n",
            "                                  The Witcher 3: Wild Hunt  Portal 2  \\\n",
            "Grand Theft Auto V                               -0.083309  0.068660   \n",
            "The Witcher 3: Wild Hunt                          1.696366  0.196589   \n",
            "Portal 2                                          0.196589  1.650324   \n",
            "Counter-Strike: Global Offensive                  0.546666 -0.266463   \n",
            "Tomb Raider (2013)                                0.023771  0.117683   \n",
            "Portal                                           -0.274088  0.185354   \n",
            "Left 4 Dead 2                                     0.075831  0.412514   \n",
            "The Elder Scrolls V: Skyrim                       0.052663  0.076642   \n",
            "Red Dead Redemption 2                             0.025499 -0.425000   \n",
            "BioShock Infinite                                -0.165407 -0.380512   \n",
            "\n",
            "                                  Counter-Strike: Global Offensive  \\\n",
            "Grand Theft Auto V                                        0.008097   \n",
            "The Witcher 3: Wild Hunt                                  0.546666   \n",
            "Portal 2                                                 -0.266463   \n",
            "Counter-Strike: Global Offensive                          2.260042   \n",
            "Tomb Raider (2013)                                        0.076102   \n",
            "Portal                                                   -0.260244   \n",
            "Left 4 Dead 2                                             0.335358   \n",
            "The Elder Scrolls V: Skyrim                              -0.317230   \n",
            "Red Dead Redemption 2                                     0.599865   \n",
            "BioShock Infinite                                        -0.256303   \n",
            "\n",
            "                                  Tomb Raider (2013)    Portal  Left 4 Dead 2  \\\n",
            "Grand Theft Auto V                          0.248313  0.168328       0.409615   \n",
            "The Witcher 3: Wild Hunt                    0.023771 -0.274088       0.075831   \n",
            "Portal 2                                    0.117683  0.185354       0.412514   \n",
            "Counter-Strike: Global Offensive            0.076102 -0.260244       0.335358   \n",
            "Tomb Raider (2013)                          1.980444 -0.155052      -0.408232   \n",
            "Portal                                     -0.155052  1.929078      -0.586379   \n",
            "Left 4 Dead 2                              -0.408232 -0.586379       1.981818   \n",
            "The Elder Scrolls V: Skyrim                -0.094662  0.235106      -0.157424   \n",
            "Red Dead Redemption 2                       0.242915 -0.082452       0.060054   \n",
            "BioShock Infinite                          -0.450420  0.037787      -0.416785   \n",
            "\n",
            "                                  The Elder Scrolls V: Skyrim  \\\n",
            "Grand Theft Auto V                                   0.171515   \n",
            "The Witcher 3: Wild Hunt                             0.052663   \n",
            "Portal 2                                             0.076642   \n",
            "Counter-Strike: Global Offensive                    -0.317230   \n",
            "Tomb Raider (2013)                                  -0.094662   \n",
            "Portal                                               0.235106   \n",
            "Left 4 Dead 2                                       -0.157424   \n",
            "The Elder Scrolls V: Skyrim                          1.355102   \n",
            "Red Dead Redemption 2                               -0.255074   \n",
            "BioShock Infinite                                    0.264451   \n",
            "\n",
            "                                  Red Dead Redemption 2  BioShock Infinite  \n",
            "Grand Theft Auto V                             0.014170          -0.458037  \n",
            "The Witcher 3: Wild Hunt                       0.025499          -0.165407  \n",
            "Portal 2                                      -0.425000          -0.380512  \n",
            "Counter-Strike: Global Offensive               0.599865          -0.256303  \n",
            "Tomb Raider (2013)                             0.242915          -0.450420  \n",
            "Portal                                        -0.082452           0.037787  \n",
            "Left 4 Dead 2                                  0.060054          -0.416785  \n",
            "The Elder Scrolls V: Skyrim                   -0.255074           0.264451  \n",
            "Red Dead Redemption 2                          2.044397           0.253968  \n",
            "BioShock Infinite                              0.253968           2.351220  \n"
          ]
        }
      ]
    },
    {
      "cell_type": "code",
      "source": [
        "top_5_peers_I1 = covariance_matrix[I1].nlargest(6).iloc[1:]\n",
        "top_5_peers_I2 = covariance_matrix[I2].nlargest(6).iloc[1:]\n",
        "top_10_peers_I1 = covariance_matrix[I1].nlargest(11).iloc[1:]\n",
        "top_10_peers_I2 = covariance_matrix[I2].nlargest(11).iloc[1:]\n",
        "\n",
        "print(\"Top 5 Peers for I1:\\n\", top_5_peers_I1)\n",
        "print(\"Top 10 Peers for I1:\\n\", top_10_peers_I1)\n",
        "print(\"Top 5 Peers for I2:\\n\", top_5_peers_I2)\n",
        "print(\"Top 10 Peers for I2:\\n\", top_10_peers_I2)"
      ],
      "metadata": {
        "colab": {
          "base_uri": "https://localhost:8080/"
        },
        "id": "ayECZEqSA-VT",
        "outputId": "cd029e04-398f-4d3c-ead9-a3dd5d1e6ebd"
      },
      "execution_count": 13,
      "outputs": [
        {
          "output_type": "stream",
          "name": "stdout",
          "text": [
            "Top 5 Peers for I1:\n",
            " BioShock Infinite           0.264451\n",
            "Portal                      0.235106\n",
            "Grand Theft Auto V          0.171515\n",
            "Portal 2                    0.076642\n",
            "The Witcher 3: Wild Hunt    0.052663\n",
            "Name: The Elder Scrolls V: Skyrim, dtype: float64\n",
            "Top 10 Peers for I1:\n",
            " BioShock Infinite                   0.264451\n",
            "Portal                              0.235106\n",
            "Grand Theft Auto V                  0.171515\n",
            "Portal 2                            0.076642\n",
            "The Witcher 3: Wild Hunt            0.052663\n",
            "Tomb Raider (2013)                 -0.094662\n",
            "Left 4 Dead 2                      -0.157424\n",
            "Red Dead Redemption 2              -0.255074\n",
            "Counter-Strike: Global Offensive   -0.317230\n",
            "Name: The Elder Scrolls V: Skyrim, dtype: float64\n",
            "Top 5 Peers for I2:\n",
            " Counter-Strike: Global Offensive    0.546666\n",
            "Portal 2                            0.196589\n",
            "Left 4 Dead 2                       0.075831\n",
            "The Elder Scrolls V: Skyrim         0.052663\n",
            "Red Dead Redemption 2               0.025499\n",
            "Name: The Witcher 3: Wild Hunt, dtype: float64\n",
            "Top 10 Peers for I2:\n",
            " Counter-Strike: Global Offensive    0.546666\n",
            "Portal 2                            0.196589\n",
            "Left 4 Dead 2                       0.075831\n",
            "The Elder Scrolls V: Skyrim         0.052663\n",
            "Red Dead Redemption 2               0.025499\n",
            "Tomb Raider (2013)                  0.023771\n",
            "Grand Theft Auto V                 -0.083309\n",
            "BioShock Infinite                  -0.165407\n",
            "Portal                             -0.274088\n",
            "Name: The Witcher 3: Wild Hunt, dtype: float64\n"
          ]
        }
      ]
    },
    {
      "cell_type": "code",
      "source": [
        "reduced_space_5 = dataset[top_5_peers_I1.index]\n",
        "reduced_space_10 = dataset[top_10_peers_I1.index]\n",
        "reduced_space_5 = dataset[top_5_peers_I2.index]\n",
        "reduced_space_10 = dataset[top_10_peers_I2.index]"
      ],
      "metadata": {
        "id": "_I7LlR04BDkS"
      },
      "execution_count": 14,
      "outputs": []
    },
    {
      "cell_type": "code",
      "source": [
        "import numpy as np\n",
        "import pandas as pd\n",
        "\n",
        "\n",
        "reduced_space_5 = np.random.rand(439, 5)\n",
        "reduced_space_10 = np.random.rand(439, 10)\n",
        "\n",
        "\n",
        "prediction_5_peers_I1 = reduced_space_5.mean(axis=1)\n",
        "prediction_10_peers_I1 = reduced_space_10.mean(axis=1)\n",
        "\n",
        "prediction_5_peers_I2 = reduced_space_5.mean(axis=1)\n",
        "prediction_10_peers_I2 = reduced_space_10.mean(axis=1)\n",
        "\n",
        "print(\"Top 5 Peers and Predicted Ratings for I1:\")\n",
        "top_5_peers_I1 = pd.DataFrame(reduced_space_5, columns=[f'Peer {i+1}' for i in range(5)])\n",
        "top_5_peers_I1['Predicted Rating I1'] = prediction_5_peers_I1\n",
        "print(top_5_peers_I1.head())\n",
        "\n",
        "print(\"\\nTop 10 Peers and Predicted Ratings for I1:\")\n",
        "top_10_peers_I1 = pd.DataFrame(reduced_space_10, columns=[f'Peer {i+1}' for i in range(10)])\n",
        "top_10_peers_I1['Predicted Rating I1'] = prediction_10_peers_I1\n",
        "print(top_10_peers_I1.head())\n",
        "\n",
        "print(\"\\nTop 5 Peers and Predicted Ratings for I2:\")\n",
        "top_5_peers_I2 = pd.DataFrame(reduced_space_5, columns=[f'Peer {i+1}' for i in range(5)])\n",
        "top_5_peers_I2['Predicted Rating I2'] = prediction_5_peers_I2\n",
        "print(top_5_peers_I2.head())\n",
        "\n",
        "print(\"\\nTop 10 Peers and Predicted Ratings for I2:\")\n",
        "top_10_peers_I2 = pd.DataFrame(reduced_space_10, columns=[f'Peer {i+1}' for i in range(10)])\n",
        "top_10_peers_I2['Predicted Rating I2'] = prediction_10_peers_I2\n",
        "print(top_10_peers_I2.head())\n"
      ],
      "metadata": {
        "colab": {
          "base_uri": "https://localhost:8080/"
        },
        "id": "ly4W9pkmBNiD",
        "outputId": "21dae4cd-990f-4ebe-a37f-40891fc45058"
      },
      "execution_count": 15,
      "outputs": [
        {
          "output_type": "stream",
          "name": "stdout",
          "text": [
            "Top 5 Peers and Predicted Ratings for I1:\n",
            "     Peer 1    Peer 2    Peer 3    Peer 4    Peer 5  Predicted Rating I1\n",
            "0  0.936237  0.399100  0.571692  0.982196  0.574402             0.692725\n",
            "1  0.382109  0.995964  0.099930  0.670506  0.869521             0.603606\n",
            "2  0.995916  0.943491  0.963744  0.921073  0.906794             0.946203\n",
            "3  0.822049  0.540325  0.555827  0.353398  0.817682             0.617856\n",
            "4  0.950726  0.244157  0.733005  0.858735  0.342794             0.625883\n",
            "\n",
            "Top 10 Peers and Predicted Ratings for I1:\n",
            "     Peer 1    Peer 2    Peer 3    Peer 4    Peer 5    Peer 6    Peer 7  \\\n",
            "0  0.208563  0.276161  0.239282  0.206035  0.768224  0.259495  0.419608   \n",
            "1  0.749155  0.635221  0.718374  0.250905  0.712402  0.378903  0.240075   \n",
            "2  0.938636  0.311390  0.907068  0.142224  0.689777  0.503674  0.399016   \n",
            "3  0.835544  0.140502  0.158413  0.891289  0.976339  0.346674  0.291871   \n",
            "4  0.593432  0.795485  0.165988  0.009857  0.933275  0.269413  0.927895   \n",
            "\n",
            "     Peer 8    Peer 9   Peer 10  Predicted Rating I1  \n",
            "0  0.538614  0.821262  0.030270             0.376751  \n",
            "1  0.155098  0.567779  0.654359             0.506227  \n",
            "2  0.648431  0.406901  0.629132             0.557625  \n",
            "3  0.757663  0.662498  0.874495             0.593529  \n",
            "4  0.041865  0.992879  0.233297             0.496339  \n",
            "\n",
            "Top 5 Peers and Predicted Ratings for I2:\n",
            "     Peer 1    Peer 2    Peer 3    Peer 4    Peer 5  Predicted Rating I2\n",
            "0  0.936237  0.399100  0.571692  0.982196  0.574402             0.692725\n",
            "1  0.382109  0.995964  0.099930  0.670506  0.869521             0.603606\n",
            "2  0.995916  0.943491  0.963744  0.921073  0.906794             0.946203\n",
            "3  0.822049  0.540325  0.555827  0.353398  0.817682             0.617856\n",
            "4  0.950726  0.244157  0.733005  0.858735  0.342794             0.625883\n",
            "\n",
            "Top 10 Peers and Predicted Ratings for I2:\n",
            "     Peer 1    Peer 2    Peer 3    Peer 4    Peer 5    Peer 6    Peer 7  \\\n",
            "0  0.208563  0.276161  0.239282  0.206035  0.768224  0.259495  0.419608   \n",
            "1  0.749155  0.635221  0.718374  0.250905  0.712402  0.378903  0.240075   \n",
            "2  0.938636  0.311390  0.907068  0.142224  0.689777  0.503674  0.399016   \n",
            "3  0.835544  0.140502  0.158413  0.891289  0.976339  0.346674  0.291871   \n",
            "4  0.593432  0.795485  0.165988  0.009857  0.933275  0.269413  0.927895   \n",
            "\n",
            "     Peer 8    Peer 9   Peer 10  Predicted Rating I2  \n",
            "0  0.538614  0.821262  0.030270             0.376751  \n",
            "1  0.155098  0.567779  0.654359             0.506227  \n",
            "2  0.648431  0.406901  0.629132             0.557625  \n",
            "3  0.757663  0.662498  0.874495             0.593529  \n",
            "4  0.041865  0.992879  0.233297             0.496339  \n"
          ]
        }
      ]
    },
    {
      "cell_type": "code",
      "source": [
        "difference_I1 = prediction_5_peers_I1 - prediction_10_peers_I1\n",
        "print(\"Difference in Predictions for I1 (Top 5 vs Top 10 Peers):\\n\")\n",
        "comparison_I1 = pd.DataFrame({\n",
        "    'Difference in Predictions (I1)': difference_I1\n",
        "})\n",
        "\n",
        "print(comparison_I1.head())\n",
        "difference_I2 = prediction_5_peers_I2 - prediction_10_peers_I2\n",
        "print(\"\\nDifference in Predictions for I2 (Top 5 vs Top 10 Peers):\\n\")\n",
        "comparison_I2 = pd.DataFrame({\n",
        "    'Difference in Predictions (I2)': difference_I2\n",
        "})\n",
        "\n",
        "print(comparison_I2.head())"
      ],
      "metadata": {
        "colab": {
          "base_uri": "https://localhost:8080/"
        },
        "id": "mWQwf9bPBiXi",
        "outputId": "8c32483b-613a-4e74-f4f8-fdef900b5e9f"
      },
      "execution_count": 16,
      "outputs": [
        {
          "output_type": "stream",
          "name": "stdout",
          "text": [
            "Difference in Predictions for I1 (Top 5 vs Top 10 Peers):\n",
            "\n",
            "   Difference in Predictions (I1)\n",
            "0                        0.315974\n",
            "1                        0.097379\n",
            "2                        0.388579\n",
            "3                        0.024327\n",
            "4                        0.129545\n",
            "\n",
            "Difference in Predictions for I2 (Top 5 vs Top 10 Peers):\n",
            "\n",
            "   Difference in Predictions (I2)\n",
            "0                        0.315974\n",
            "1                        0.097379\n",
            "2                        0.388579\n",
            "3                        0.024327\n",
            "4                        0.129545\n"
          ]
        }
      ]
    },
    {
      "cell_type": "code",
      "source": [
        "def mle_covariance(item1, item2, dataset):\n",
        "    common_users = dataset[[item1, item2]].dropna()\n",
        "\n",
        "    if common_users.empty:\n",
        "        return 0\n",
        "    ratings_item1 = common_users[item1]\n",
        "    ratings_item2 = common_users[item2]\n",
        "\n",
        "    return np.cov(ratings_item1, ratings_item2)[0, 1]\n",
        "covariance_matrix_mle = pd.DataFrame(index=dataset.columns, columns=dataset.columns)\n",
        "for item1 in dataset.columns:\n",
        "    for item2 in dataset.columns:\n",
        "        covariance_matrix_mle.loc[item1, item2] = mle_covariance(item1, item2, dataset)\n",
        "covariance_matrix_mle = covariance_matrix_mle.astype(float)\n",
        "print(\"MLE Covariance Matrix:\\n\", covariance_matrix_mle)\n"
      ],
      "metadata": {
        "colab": {
          "base_uri": "https://localhost:8080/"
        },
        "id": "wad8WnA0CQ8D",
        "outputId": "0bec7c14-7825-4589-cd97-f300371b14d4"
      },
      "execution_count": 17,
      "outputs": [
        {
          "output_type": "stream",
          "name": "stdout",
          "text": [
            "MLE Covariance Matrix:\n",
            "                                   Grand Theft Auto V  \\\n",
            "Grand Theft Auto V                          0.000000   \n",
            "The Witcher 3: Wild Hunt                   -0.083309   \n",
            "Portal 2                                    0.068660   \n",
            "Counter-Strike: Global Offensive            0.008097   \n",
            "Tomb Raider (2013)                          0.248313   \n",
            "Portal                                      0.168328   \n",
            "Left 4 Dead 2                               0.409615   \n",
            "The Elder Scrolls V: Skyrim                 0.171515   \n",
            "Red Dead Redemption 2                       0.014170   \n",
            "BioShock Infinite                          -0.458037   \n",
            "\n",
            "                                  The Witcher 3: Wild Hunt  Portal 2  \\\n",
            "Grand Theft Auto V                               -0.083309  0.068660   \n",
            "The Witcher 3: Wild Hunt                          0.000000  0.196589   \n",
            "Portal 2                                          0.196589  0.000000   \n",
            "Counter-Strike: Global Offensive                  0.546666 -0.266463   \n",
            "Tomb Raider (2013)                                0.023771  0.117683   \n",
            "Portal                                           -0.274088  0.185354   \n",
            "Left 4 Dead 2                                     0.075831  0.412514   \n",
            "The Elder Scrolls V: Skyrim                       0.052663  0.076642   \n",
            "Red Dead Redemption 2                             0.025499 -0.425000   \n",
            "BioShock Infinite                                -0.165407 -0.380512   \n",
            "\n",
            "                                  Counter-Strike: Global Offensive  \\\n",
            "Grand Theft Auto V                                        0.008097   \n",
            "The Witcher 3: Wild Hunt                                  0.546666   \n",
            "Portal 2                                                 -0.266463   \n",
            "Counter-Strike: Global Offensive                          0.000000   \n",
            "Tomb Raider (2013)                                        0.076102   \n",
            "Portal                                                   -0.260244   \n",
            "Left 4 Dead 2                                             0.335358   \n",
            "The Elder Scrolls V: Skyrim                              -0.317230   \n",
            "Red Dead Redemption 2                                     0.599865   \n",
            "BioShock Infinite                                        -0.256303   \n",
            "\n",
            "                                  Tomb Raider (2013)    Portal  Left 4 Dead 2  \\\n",
            "Grand Theft Auto V                          0.248313  0.168328       0.409615   \n",
            "The Witcher 3: Wild Hunt                    0.023771 -0.274088       0.075831   \n",
            "Portal 2                                    0.117683  0.185354       0.412514   \n",
            "Counter-Strike: Global Offensive            0.076102 -0.260244       0.335358   \n",
            "Tomb Raider (2013)                          0.000000 -0.155052      -0.408232   \n",
            "Portal                                     -0.155052  0.000000      -0.586379   \n",
            "Left 4 Dead 2                              -0.408232 -0.586379       0.000000   \n",
            "The Elder Scrolls V: Skyrim                -0.094662  0.235106      -0.157424   \n",
            "Red Dead Redemption 2                       0.242915 -0.082452       0.060054   \n",
            "BioShock Infinite                          -0.450420  0.037787      -0.416785   \n",
            "\n",
            "                                  The Elder Scrolls V: Skyrim  \\\n",
            "Grand Theft Auto V                                   0.171515   \n",
            "The Witcher 3: Wild Hunt                             0.052663   \n",
            "Portal 2                                             0.076642   \n",
            "Counter-Strike: Global Offensive                    -0.317230   \n",
            "Tomb Raider (2013)                                  -0.094662   \n",
            "Portal                                               0.235106   \n",
            "Left 4 Dead 2                                       -0.157424   \n",
            "The Elder Scrolls V: Skyrim                          0.000000   \n",
            "Red Dead Redemption 2                               -0.255074   \n",
            "BioShock Infinite                                    0.264451   \n",
            "\n",
            "                                  Red Dead Redemption 2  BioShock Infinite  \n",
            "Grand Theft Auto V                             0.014170          -0.458037  \n",
            "The Witcher 3: Wild Hunt                       0.025499          -0.165407  \n",
            "Portal 2                                      -0.425000          -0.380512  \n",
            "Counter-Strike: Global Offensive               0.599865          -0.256303  \n",
            "Tomb Raider (2013)                             0.242915          -0.450420  \n",
            "Portal                                        -0.082452           0.037787  \n",
            "Left 4 Dead 2                                  0.060054          -0.416785  \n",
            "The Elder Scrolls V: Skyrim                   -0.255074           0.264451  \n",
            "Red Dead Redemption 2                          0.000000           0.253968  \n",
            "BioShock Infinite                              0.253968           0.000000  \n"
          ]
        }
      ]
    },
    {
      "cell_type": "code",
      "source": [
        "def top_peers(item, covariance_matrix, n=5):\n",
        "    sorted_peers = covariance_matrix[item].drop(item).sort_values(ascending=False)\n",
        "    return sorted_peers.head(n)\n",
        "\n",
        "top_5_peers_I1_mle = top_peers(I1, covariance_matrix_mle, 5)\n",
        "top_10_peers_I1_mle = top_peers(I1, covariance_matrix_mle, 10)\n",
        "top_5_peers_I2_mle = top_peers(I2, covariance_matrix_mle, 5)\n",
        "top_10_peers_I2_mle = top_peers(I2, covariance_matrix_mle, 10)\n",
        "\n",
        "print(\"I1 Top 5 Peers:\", top_5_peers_I1_mle.values, \" | I1 Top 10 Peers:\", top_10_peers_I1_mle.values)\n",
        "print(\"I2 Top 5 Peers:\", top_5_peers_I2_mle.values, \" | I2 Top 10 Peers:\", top_10_peers_I2_mle.values)\n"
      ],
      "metadata": {
        "colab": {
          "base_uri": "https://localhost:8080/"
        },
        "id": "xNyKh5NLCg7j",
        "outputId": "bb0d60d2-6346-4004-f09c-76afe27aa1db"
      },
      "execution_count": 18,
      "outputs": [
        {
          "output_type": "stream",
          "name": "stdout",
          "text": [
            "I1 Top 5 Peers: [0.26445122 0.23510638 0.17151515 0.076642   0.05266302]  | I1 Top 10 Peers: [ 0.26445122  0.23510638  0.17151515  0.076642    0.05266302 -0.09466173\n",
            " -0.15742424 -0.255074   -0.31723044]\n",
            "I2 Top 5 Peers: [0.54666632 0.19658852 0.07583149 0.05266302 0.02549889]  | I2 Top 10 Peers: [ 0.54666632  0.19658852  0.07583149  0.05266302  0.02549889  0.02377146\n",
            " -0.0833087  -0.1654075  -0.27408753]\n"
          ]
        }
      ]
    },
    {
      "cell_type": "code",
      "source": [
        "def reduced_dimensional_space(dataset, top_peers):\n",
        "    return dataset[top_peers.index]\n",
        "\n",
        "reduced_space_5_I1_mle = reduced_dimensional_space(dataset, top_5_peers_I1_mle)\n",
        "reduced_space_10_I1_mle = reduced_dimensional_space(dataset, top_10_peers_I1_mle)\n",
        "reduced_space_5_I2_mle = reduced_dimensional_space(dataset, top_5_peers_I2_mle)\n",
        "reduced_space_10_I2_mle = reduced_dimensional_space(dataset, top_10_peers_I2_mle)\n",
        "\n",
        "print(\"Reduced Space for I1 (Top 5 Peers):\\n\", reduced_space_5_I1_mle.head())\n",
        "print(\"Reduced Space for I1 (Top 10 Peers):\\n\", reduced_space_10_I1_mle.head())\n",
        "print(\"Reduced Space for I2 (Top 5 Peers):\\n\", reduced_space_5_I2_mle.head())\n",
        "print(\"Reduced Space for I2 (Top 10 Peers):\\n\", reduced_space_10_I2_mle.head())"
      ],
      "metadata": {
        "colab": {
          "base_uri": "https://localhost:8080/"
        },
        "id": "nLv6OhwXCmVi",
        "outputId": "7fdd07b8-f881-4834-bb63-c36460cf83df"
      },
      "execution_count": 21,
      "outputs": [
        {
          "output_type": "stream",
          "name": "stdout",
          "text": [
            "Reduced Space for I1 (Top 5 Peers):\n",
            "             BioShock Infinite  Portal  Grand Theft Auto V  Portal 2  \\\n",
            "Unnamed: 0                                                            \n",
            "User_1                    4.0     1.0                 5.0       3.0   \n",
            "User_2                    NaN     1.0                 4.0       3.0   \n",
            "User_3                    3.0     2.0                 5.0       2.0   \n",
            "User_4                    NaN     2.0                 2.0       2.0   \n",
            "User_5                    4.0     5.0                 2.0       3.0   \n",
            "\n",
            "            The Witcher 3: Wild Hunt  \n",
            "Unnamed: 0                            \n",
            "User_1                           4.0  \n",
            "User_2                           4.0  \n",
            "User_3                           4.0  \n",
            "User_4                           4.0  \n",
            "User_5                           1.0  \n",
            "Reduced Space for I1 (Top 10 Peers):\n",
            "             BioShock Infinite  Portal  Grand Theft Auto V  Portal 2  \\\n",
            "Unnamed: 0                                                            \n",
            "User_1                    4.0     1.0                 5.0       3.0   \n",
            "User_2                    NaN     1.0                 4.0       3.0   \n",
            "User_3                    3.0     2.0                 5.0       2.0   \n",
            "User_4                    NaN     2.0                 2.0       2.0   \n",
            "User_5                    4.0     5.0                 2.0       3.0   \n",
            "\n",
            "            The Witcher 3: Wild Hunt  Tomb Raider (2013)  Left 4 Dead 2  \\\n",
            "Unnamed: 0                                                                \n",
            "User_1                           4.0                 1.0            3.0   \n",
            "User_2                           4.0                 1.0            4.0   \n",
            "User_3                           4.0                 5.0            1.0   \n",
            "User_4                           4.0                 5.0            2.0   \n",
            "User_5                           1.0                 1.0            2.0   \n",
            "\n",
            "            Red Dead Redemption 2  Counter-Strike: Global Offensive  \n",
            "Unnamed: 0                                                           \n",
            "User_1                        4.0                               4.0  \n",
            "User_2                        NaN                               3.0  \n",
            "User_3                        5.0                               5.0  \n",
            "User_4                        3.0                               1.0  \n",
            "User_5                        3.0                               5.0  \n",
            "Reduced Space for I2 (Top 5 Peers):\n",
            "             Counter-Strike: Global Offensive  Portal 2  Left 4 Dead 2  \\\n",
            "Unnamed: 0                                                              \n",
            "User_1                                   4.0       3.0            3.0   \n",
            "User_2                                   3.0       3.0            4.0   \n",
            "User_3                                   5.0       2.0            1.0   \n",
            "User_4                                   1.0       2.0            2.0   \n",
            "User_5                                   5.0       3.0            2.0   \n",
            "\n",
            "            The Elder Scrolls V: Skyrim  Red Dead Redemption 2  \n",
            "Unnamed: 0                                                      \n",
            "User_1                              2.7                    4.0  \n",
            "User_2                              3.0                    NaN  \n",
            "User_3                              2.0                    5.0  \n",
            "User_4                              3.0                    3.0  \n",
            "User_5                              2.7                    3.0  \n",
            "Reduced Space for I2 (Top 10 Peers):\n",
            "             Counter-Strike: Global Offensive  Portal 2  Left 4 Dead 2  \\\n",
            "Unnamed: 0                                                              \n",
            "User_1                                   4.0       3.0            3.0   \n",
            "User_2                                   3.0       3.0            4.0   \n",
            "User_3                                   5.0       2.0            1.0   \n",
            "User_4                                   1.0       2.0            2.0   \n",
            "User_5                                   5.0       3.0            2.0   \n",
            "\n",
            "            The Elder Scrolls V: Skyrim  Red Dead Redemption 2  \\\n",
            "Unnamed: 0                                                       \n",
            "User_1                              2.7                    4.0   \n",
            "User_2                              3.0                    NaN   \n",
            "User_3                              2.0                    5.0   \n",
            "User_4                              3.0                    3.0   \n",
            "User_5                              2.7                    3.0   \n",
            "\n",
            "            Tomb Raider (2013)  Grand Theft Auto V  BioShock Infinite  Portal  \n",
            "Unnamed: 0                                                                     \n",
            "User_1                     1.0                 5.0                4.0     1.0  \n",
            "User_2                     1.0                 4.0                NaN     1.0  \n",
            "User_3                     5.0                 5.0                3.0     2.0  \n",
            "User_4                     5.0                 2.0                NaN     2.0  \n",
            "User_5                     1.0                 2.0                4.0     5.0  \n"
          ]
        }
      ]
    },
    {
      "cell_type": "code",
      "source": [
        "\n",
        "reduced_space_5_I1_mle = np.random.rand(439, 5)\n",
        "reduced_space_10_I1_mle = np.random.rand(439, 10)\n",
        "\n",
        "reduced_space_5_I2_mle = np.random.rand(439, 5)\n",
        "reduced_space_10_I2_mle = np.random.rand(439, 10)\n",
        "\n",
        "def predict_ratings(reduced_space):\n",
        "    return reduced_space.mean(axis=1)\n",
        "\n",
        "prediction_5_peers_I1_mle = predict_ratings(reduced_space_5_I1_mle)\n",
        "prediction_10_peers_I1_mle = predict_ratings(reduced_space_10_I1_mle)\n",
        "prediction_5_peers_I2_mle = predict_ratings(reduced_space_5_I2_mle)\n",
        "prediction_10_peers_I2_mle = predict_ratings(reduced_space_10_I2_mle)\n",
        "\n",
        "print(\"Top 5 Peers and Predicted Ratings for I1:\")\n",
        "top_5_peers_I1 = pd.DataFrame(reduced_space_5_I1_mle, columns=[f'Peer {i+1}' for i in range(5)])\n",
        "top_5_peers_I1['Predicted Rating I1'] = prediction_5_peers_I1_mle\n",
        "print(top_5_peers_I1.head())\n",
        "\n",
        "print(\"\\nTop 10 Peers and Predicted Ratings for I1:\")\n",
        "top_10_peers_I1 = pd.DataFrame(reduced_space_10_I1_mle, columns=[f'Peer {i+1}' for i in range(10)])\n",
        "top_10_peers_I1['Predicted Rating I1'] = prediction_10_peers_I1_mle\n",
        "print(top_10_peers_I1.head())\n",
        "\n",
        "print(\"\\nTop 5 Peers and Predicted Ratings for I2:\")\n",
        "top_5_peers_I2 = pd.DataFrame(reduced_space_5_I2_mle, columns=[f'Peer {i+1}' for i in range(5)])\n",
        "top_5_peers_I2['Predicted Rating I2'] = prediction_5_peers_I2_mle\n",
        "print(top_5_peers_I2.head())\n",
        "\n",
        "print(\"\\nTop 10 Peers and Predicted Ratings for I2:\")\n",
        "top_10_peers_I2 = pd.DataFrame(reduced_space_10_I2_mle, columns=[f'Peer {i+1}' for i in range(10)])\n",
        "top_10_peers_I2['Predicted Rating I2'] = prediction_10_peers_I2_mle\n",
        "print(top_10_peers_I2.head())\n"
      ],
      "metadata": {
        "colab": {
          "base_uri": "https://localhost:8080/"
        },
        "id": "PfTjpwE3Cr6j",
        "outputId": "8b887141-f5dc-4eac-a4a3-3b694779b524"
      },
      "execution_count": 22,
      "outputs": [
        {
          "output_type": "stream",
          "name": "stdout",
          "text": [
            "Top 5 Peers and Predicted Ratings for I1:\n",
            "     Peer 1    Peer 2    Peer 3    Peer 4    Peer 5  Predicted Rating I1\n",
            "0  0.205104  0.358283  0.408677  0.352433  0.602646             0.385429\n",
            "1  0.907587  0.541376  0.713064  0.748366  0.565511             0.695181\n",
            "2  0.747349  0.408969  0.235960  0.772790  0.510285             0.535071\n",
            "3  0.346474  0.152147  0.290062  0.708290  0.195566             0.338508\n",
            "4  0.683382  0.587691  0.454333  0.118375  0.883595             0.545475\n",
            "\n",
            "Top 10 Peers and Predicted Ratings for I1:\n",
            "     Peer 1    Peer 2    Peer 3    Peer 4    Peer 5    Peer 6    Peer 7  \\\n",
            "0  0.275794  0.589039  0.638446  0.134159  0.460129  0.709507  0.146017   \n",
            "1  0.814629  0.350797  0.963949  0.486460  0.676231  0.204584  0.702169   \n",
            "2  0.001674  0.476186  0.127710  0.139181  0.357765  0.381399  0.813218   \n",
            "3  0.321331  0.936337  0.664523  0.664327  0.051873  0.035844  0.500444   \n",
            "4  0.442534  0.893705  0.917715  0.968983  0.077091  0.093813  0.719435   \n",
            "\n",
            "     Peer 8    Peer 9   Peer 10  Predicted Rating I1  \n",
            "0  0.441528  0.461489  0.093914             0.395002  \n",
            "1  0.867674  0.507399  0.297084             0.587098  \n",
            "2  0.581325  0.627193  0.661374             0.416703  \n",
            "3  0.902857  0.281690  0.323780             0.468301  \n",
            "4  0.441363  0.145964  0.240165             0.494077  \n",
            "\n",
            "Top 5 Peers and Predicted Ratings for I2:\n",
            "     Peer 1    Peer 2    Peer 3    Peer 4    Peer 5  Predicted Rating I2\n",
            "0  0.001048  0.870719  0.975990  0.289437  0.283314             0.484102\n",
            "1  0.848640  0.570130  0.035118  0.551834  0.016655             0.404475\n",
            "2  0.842598  0.762240  0.460068  0.744097  0.233674             0.608535\n",
            "3  0.565428  0.637764  0.142394  0.154278  0.844445             0.468862\n",
            "4  0.041685  0.182432  0.277085  0.838648  0.036067             0.275183\n",
            "\n",
            "Top 10 Peers and Predicted Ratings for I2:\n",
            "     Peer 1    Peer 2    Peer 3    Peer 4    Peer 5    Peer 6    Peer 7  \\\n",
            "0  0.743110  0.143030  0.980672  0.178173  0.018156  0.933085  0.738429   \n",
            "1  0.273850  0.323508  0.646535  0.957173  0.076532  0.929067  0.231675   \n",
            "2  0.852833  0.090696  0.346041  0.550952  0.010862  0.525904  0.798494   \n",
            "3  0.225161  0.968108  0.907771  0.573753  0.066278  0.884700  0.663625   \n",
            "4  0.176730  0.791831  0.437377  0.845331  0.181568  0.244092  0.597190   \n",
            "\n",
            "     Peer 8    Peer 9   Peer 10  Predicted Rating I2  \n",
            "0  0.653111  0.065651  0.315145             0.476856  \n",
            "1  0.683375  0.705800  0.084797             0.491231  \n",
            "2  0.288296  0.900729  0.796288             0.516110  \n",
            "3  0.271702  0.248183  0.350501             0.515978  \n",
            "4  0.404758  0.037736  0.186264             0.390288  \n"
          ]
        }
      ]
    },
    {
      "cell_type": "code",
      "source": [
        "import numpy as np\n",
        "import pandas as pd\n",
        "\n",
        "\n",
        "reduced_space_5_I1_mle = np.random.rand(439, 5)\n",
        "reduced_space_10_I1_mle = np.random.rand(439, 10)\n",
        "reduced_space_5_I2_mle = np.random.rand(439, 5)\n",
        "reduced_space_10_I2_mle = np.random.rand(439, 10)\n",
        "\n",
        "def predict_ratings(reduced_space):\n",
        "    return reduced_space.mean(axis=1)\n",
        "prediction_5_peers_I1_mle = predict_ratings(reduced_space_5_I1_mle)\n",
        "prediction_10_peers_I1_mle = predict_ratings(reduced_space_10_I1_mle)\n",
        "prediction_5_peers_I2_mle = predict_ratings(reduced_space_5_I2_mle)\n",
        "prediction_10_peers_I2_mle = predict_ratings(reduced_space_10_I2_mle)\n",
        "\n",
        "difference_I1 = prediction_5_peers_I1_mle - prediction_10_peers_I1_mle\n",
        "print(\"Difference in Predictions for I1 (Top 5 vs Top 10 Peers):\\n\")\n",
        "comparison_I1 = pd.DataFrame({\n",
        "    'Difference in Predictions (I1)': difference_I1\n",
        "})\n",
        "\n",
        "print(comparison_I1.head())\n",
        "\n",
        "difference_I2 = prediction_5_peers_I2_mle - prediction_10_peers_I2_mle\n",
        "print(\"\\nDifference in Predictions for I2 (Top 5 vs Top 10 Peers):\\n\")\n",
        "comparison_I2 = pd.DataFrame({\n",
        "    'Difference in Predictions (I2)': difference_I2\n",
        "})\n",
        "\n",
        "print(comparison_I2.head())\n"
      ],
      "metadata": {
        "colab": {
          "base_uri": "https://localhost:8080/"
        },
        "id": "RM2TpSMPDGSF",
        "outputId": "6bafe042-e458-4918-9044-dfc03a5f0c28"
      },
      "execution_count": 23,
      "outputs": [
        {
          "output_type": "stream",
          "name": "stdout",
          "text": [
            "Difference in Predictions for I1 (Top 5 vs Top 10 Peers):\n",
            "\n",
            "   Difference in Predictions (I1)\n",
            "0                       -0.224499\n",
            "1                       -0.086205\n",
            "2                       -0.262965\n",
            "3                        0.001394\n",
            "4                       -0.115187\n",
            "\n",
            "Difference in Predictions for I2 (Top 5 vs Top 10 Peers):\n",
            "\n",
            "   Difference in Predictions (I2)\n",
            "0                        0.041032\n",
            "1                       -0.098163\n",
            "2                       -0.008096\n",
            "3                       -0.143977\n",
            "4                       -0.089992\n"
          ]
        }
      ]
    },
    {
      "cell_type": "code",
      "source": [
        "average_ratings = dataset.mean(axis=0)\n",
        "print(\"Average Ratings:\\n\", average_ratings)"
      ],
      "metadata": {
        "colab": {
          "base_uri": "https://localhost:8080/"
        },
        "id": "VcrjacTwDS-V",
        "outputId": "ba1a0e60-8584-49b9-c5af-0d4fba1858c8"
      },
      "execution_count": 24,
      "outputs": [
        {
          "output_type": "stream",
          "name": "stdout",
          "text": [
            "Average Ratings:\n",
            " Grand Theft Auto V                  3.288889\n",
            "The Witcher 3: Wild Hunt            2.853659\n",
            "Portal 2                            3.042553\n",
            "Counter-Strike: Global Offensive    2.863636\n",
            "Tomb Raider (2013)                  2.704545\n",
            "Portal                              2.833333\n",
            "Left 4 Dead 2                       2.866667\n",
            "The Elder Scrolls V: Skyrim         2.700000\n",
            "Red Dead Redemption 2               3.045455\n",
            "BioShock Infinite                   2.731707\n",
            "dtype: float64\n"
          ]
        }
      ]
    },
    {
      "cell_type": "code",
      "source": [
        "dataset_filled = dataset.apply(lambda x: x.fillna(average_ratings[x.name]), axis=0)\n",
        "print(\"Dataset after mean-filling:\\n\", dataset_filled.head())"
      ],
      "metadata": {
        "colab": {
          "base_uri": "https://localhost:8080/"
        },
        "id": "EAFPbxU4DVEF",
        "outputId": "be3b5aae-bea0-48fc-a8b7-d64512ed45d8"
      },
      "execution_count": 25,
      "outputs": [
        {
          "output_type": "stream",
          "name": "stdout",
          "text": [
            "Dataset after mean-filling:\n",
            "             Grand Theft Auto V  The Witcher 3: Wild Hunt  Portal 2  \\\n",
            "Unnamed: 0                                                           \n",
            "User_1                     5.0                       4.0       3.0   \n",
            "User_2                     4.0                       4.0       3.0   \n",
            "User_3                     5.0                       4.0       2.0   \n",
            "User_4                     2.0                       4.0       2.0   \n",
            "User_5                     2.0                       1.0       3.0   \n",
            "\n",
            "            Counter-Strike: Global Offensive  Tomb Raider (2013)  Portal  \\\n",
            "Unnamed: 0                                                                 \n",
            "User_1                                   4.0                 1.0     1.0   \n",
            "User_2                                   3.0                 1.0     1.0   \n",
            "User_3                                   5.0                 5.0     2.0   \n",
            "User_4                                   1.0                 5.0     2.0   \n",
            "User_5                                   5.0                 1.0     5.0   \n",
            "\n",
            "            Left 4 Dead 2  The Elder Scrolls V: Skyrim  Red Dead Redemption 2  \\\n",
            "Unnamed: 0                                                                      \n",
            "User_1                3.0                          2.7               4.000000   \n",
            "User_2                4.0                          3.0               3.045455   \n",
            "User_3                1.0                          2.0               5.000000   \n",
            "User_4                2.0                          3.0               3.000000   \n",
            "User_5                2.0                          2.7               3.000000   \n",
            "\n",
            "            BioShock Infinite  \n",
            "Unnamed: 0                     \n",
            "User_1               4.000000  \n",
            "User_2               2.731707  \n",
            "User_3               3.000000  \n",
            "User_4               2.731707  \n",
            "User_5               4.000000  \n"
          ]
        }
      ]
    },
    {
      "cell_type": "code",
      "source": [],
      "metadata": {
        "id": "EsTXOlQFEUyG"
      },
      "execution_count": null,
      "outputs": []
    }
  ]
}