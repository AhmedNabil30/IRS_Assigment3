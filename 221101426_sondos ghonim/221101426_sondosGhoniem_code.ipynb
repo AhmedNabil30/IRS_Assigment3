{
  "cells": [
    {
      "cell_type": "markdown",
      "metadata": {
        "id": "llZUfNkkjvn-"
      },
      "source": [
        "3.1. General requirements"
      ]
    },
    {
      "cell_type": "code",
      "source": [
        "# Reloading the dataset and libraries due to environment reset\n",
        "import pandas as pd\n",
        "\n",
        "# Reload the dataset to verify structure\n",
        "dataset_path = 'dataset_irs.csv'\n",
        "ratings = pd.read_csv(dataset_path)\n",
        "\n",
        "# Display the first few rows and the column names to ensure compatibility with the code\n",
        "ratings.head(), ratings.columns\n"
      ],
      "metadata": {
        "colab": {
          "base_uri": "https://localhost:8080/"
        },
        "id": "zJ9PvMsPrcVd",
        "outputId": "bc5da858-ae02-48f0-8f79-54d9d3268bba"
      },
      "execution_count": 1,
      "outputs": [
        {
          "output_type": "execute_result",
          "data": {
            "text/plain": [
              "(                              Product Name  \\\n",
              " 0    OPPO Reno10 5G (Silvery Grey, 256 GB)   \n",
              " 1  Infinix Smart 7 HD (Green Apple, 64 GB)   \n",
              " 2      Infinix SMART 7 (Azure Blue, 64 GB)   \n",
              " 3              POCO C55 (Cool Blue, 64 GB)   \n",
              " 4          POCO C50 (Country Green, 32 GB)   \n",
              " \n",
              "                                          Product Url   Prices         Rating  \\\n",
              " 0  https://www.flipkart.com/oppo-reno10-5g-silver...  ₹32,999  Not Available   \n",
              " 1  https://www.flipkart.com/infinix-smart-7-hd-gr...   ₹6,199            4.3   \n",
              " 2  https://www.flipkart.com/infinix-smart-7-azure...   ₹7,299            4.3   \n",
              " 3  https://www.flipkart.com/poco-c55-cool-blue-64...   ₹8,499            4.2   \n",
              " 4  https://www.flipkart.com/poco-c50-country-gree...   ₹5,499            4.2   \n",
              " \n",
              "   Number of Review  \n",
              " 0                0  \n",
              " 1              630  \n",
              " 2            2,400  \n",
              " 3            2,027  \n",
              " 4            2,039  ,\n",
              " Index(['Product Name', 'Product Url', 'Prices', 'Rating', 'Number of Review'], dtype='object'))"
            ]
          },
          "metadata": {},
          "execution_count": 1
        }
      ]
    },
    {
      "cell_type": "code",
      "source": [
        "# Convert the 'Rating' column to numeric\n",
        "ratings[\"Rating\"] = pd.to_numeric(ratings[\"Rating\"], errors=\"coerce\")\n",
        "\n",
        "# Drop rows with invalid or NaN ratings after conversion\n",
        "ratings = ratings.dropna(subset=[\"Rating\"])\n",
        "\n",
        "# Ensure ratings are numeric\n",
        "ratings.loc[:, \"Rating\"] = ratings[\"Rating\"].astype(float)\n",
        "\n",
        "# Adjust ratings to a 1-5 scale\n",
        "ratings.loc[:, \"Rating\"] = ratings[\"Rating\"] / ratings[\"Rating\"].max() * 5\n",
        "ratings.loc[:, \"Rating\"] = ratings[\"Rating\"].round()\n"
      ],
      "metadata": {
        "id": "Dx3GDzF0rpH8"
      },
      "execution_count": 2,
      "outputs": []
    },
    {
      "cell_type": "code",
      "source": [
        "print(ratings.columns)\n",
        "print(ratings.head())\n",
        "ratings[\"Rating\"] = pd.to_numeric(ratings[\"Rating\"], errors=\"coerce\")\n",
        "ratings = ratings.dropna(subset=[\"Rating\"])\n",
        "ratings.loc[:, \"Rating\"] = ratings[\"Rating\"].astype(float)"
      ],
      "metadata": {
        "colab": {
          "base_uri": "https://localhost:8080/"
        },
        "id": "Fg_MX3KPrsAB",
        "outputId": "152fb19f-9a96-4d4b-b286-435dea6e7b6a"
      },
      "execution_count": 3,
      "outputs": [
        {
          "output_type": "stream",
          "name": "stdout",
          "text": [
            "Index(['Product Name', 'Product Url', 'Prices', 'Rating', 'Number of Review'], dtype='object')\n",
            "                              Product Name  \\\n",
            "1  Infinix Smart 7 HD (Green Apple, 64 GB)   \n",
            "2      Infinix SMART 7 (Azure Blue, 64 GB)   \n",
            "3              POCO C55 (Cool Blue, 64 GB)   \n",
            "4          POCO C50 (Country Green, 32 GB)   \n",
            "5             POCO C50 (Royal Blue, 32 GB)   \n",
            "\n",
            "                                         Product Url  Prices  Rating  \\\n",
            "1  https://www.flipkart.com/infinix-smart-7-hd-gr...  ₹6,199     5.0   \n",
            "2  https://www.flipkart.com/infinix-smart-7-azure...  ₹7,299     5.0   \n",
            "3  https://www.flipkart.com/poco-c55-cool-blue-64...  ₹8,499     4.0   \n",
            "4  https://www.flipkart.com/poco-c50-country-gree...  ₹5,499     4.0   \n",
            "5  https://www.flipkart.com/poco-c50-royal-blue-3...  ₹5,499     4.0   \n",
            "\n",
            "  Number of Review  \n",
            "1              630  \n",
            "2            2,400  \n",
            "3            2,027  \n",
            "4            2,039  \n",
            "5            2,039  \n"
          ]
        }
      ]
    },
    {
      "cell_type": "code",
      "source": [
        "#tnu\n",
        "tnu = ratings.shape[0]\n",
        "print(f\"Total Users: {tnu}\")\n",
        "\n",
        "#tni\n",
        "tni = ratings['Product Name'].nunique()\n",
        "print(f\"Total Items: {tni}\")\n"
      ],
      "metadata": {
        "colab": {
          "base_uri": "https://localhost:8080/"
        },
        "id": "FCBY4ed8ruNI",
        "outputId": "c280e351-edba-48da-e2da-03e5c23e47d4"
      },
      "execution_count": 4,
      "outputs": [
        {
          "output_type": "stream",
          "name": "stdout",
          "text": [
            "Total Users: 456\n",
            "Total Items: 334\n"
          ]
        }
      ]
    },
    {
      "cell_type": "code",
      "source": [
        "print(ratings.columns)"
      ],
      "metadata": {
        "colab": {
          "base_uri": "https://localhost:8080/"
        },
        "id": "0ewZGC57rwKo",
        "outputId": "70d9e074-9a58-440c-d23b-53a55d8b6e9a"
      },
      "execution_count": 5,
      "outputs": [
        {
          "output_type": "stream",
          "name": "stdout",
          "text": [
            "Index(['Product Name', 'Product Url', 'Prices', 'Rating', 'Number of Review'], dtype='object')\n"
          ]
        }
      ]
    },
    {
      "cell_type": "code",
      "source": [
        "import numpy as np\n",
        "import pandas as pd\n",
        "import matplotlib.pyplot as plt\n",
        "from sklearn.decomposition import PCA, TruncatedSVD\n",
        "\n",
        "# Count number of ratings per product\n",
        "product_ratings_count = ratings.groupby(\"Product Name\").size()  # Replace 'Product Name' with actual column name\n",
        "\n",
        "# Visualize the distribution of ratings\n",
        "if \"Rating\" in ratings.columns:\n",
        "    rating_distribution = ratings[\"Rating\"].value_counts()\n",
        "    if rating_distribution.empty:\n",
        "        print(\"No ratings available to plot in the dataset.\")\n",
        "    else:\n",
        "        rating_distribution.plot(kind=\"bar\")\n",
        "        plt.title(\"Rating Distribution in Dataset\")\n",
        "        plt.xlabel(\"Rating Value\")\n",
        "        plt.ylabel(\"frequency\")\n",
        "        plt.show()\n",
        "else:\n",
        "    print(\"the Column 'Rating' is missing in the dataset.\")\n"
      ],
      "metadata": {
        "colab": {
          "base_uri": "https://localhost:8080/",
          "height": 480
        },
        "id": "2t6awHzwrx_Q",
        "outputId": "bf66e158-1a28-46da-aa02-76b76c6e5a80"
      },
      "execution_count": 6,
      "outputs": [
        {
          "output_type": "display_data",
          "data": {
            "text/plain": [
              "<Figure size 640x480 with 1 Axes>"
            ],
            "image/png": "[encoded data removed]"
          },
          "metadata": {}
        }
      ]
    },
    {
      "cell_type": "code",
      "source": [
        "# Sparsity Check\n",
        "num_possible_ratings = tnu * tni\n",
        "num_actual_ratings = len(ratings)\n",
        "sparsity = 1 - (num_actual_ratings / num_possible_ratings)\n",
        "print(f\"Sparsity of the matrix: {sparsity * 100:.2f}%\")"
      ],
      "metadata": {
        "colab": {
          "base_uri": "https://localhost:8080/"
        },
        "id": "3wjzoULsr0cX",
        "outputId": "89f4eb79-9aec-40f1-9677-6dd2a896a9b8"
      },
      "execution_count": 7,
      "outputs": [
        {
          "output_type": "stream",
          "name": "stdout",
          "text": [
            "Sparsity of the matrix: 99.70%\n"
          ]
        }
      ]
    },
    {
      "cell_type": "code",
      "source": [
        "# Bias Analysis\n",
        "average_rating_per_user = ratings.groupby(\"Product Name\")[\"Rating\"].mean()\n",
        "bias = average_rating_per_user.std()\n",
        "print(f\"Bias Level: {bias:.2f}\")\n"
      ],
      "metadata": {
        "colab": {
          "base_uri": "https://localhost:8080/"
        },
        "id": "tlqYCOm2r2AM",
        "outputId": "cf3b4cd6-b68c-48c5-8083-6a18844cebdb"
      },
      "execution_count": 8,
      "outputs": [
        {
          "output_type": "stream",
          "name": "stdout",
          "text": [
            "Bias Level: 0.48\n"
          ]
        }
      ]
    },
    {
      "cell_type": "code",
      "source": [
        "# Target Items\n",
        "target_items = product_ratings_count.nsmallest(2).index.tolist()  # I1 and I2\n",
        "item1_index = target_items[0]\n",
        "item2_index = target_items[1]\n",
        "print(f\"Target Items: {item1_index} and {item2_index}\")"
      ],
      "metadata": {
        "colab": {
          "base_uri": "https://localhost:8080/"
        },
        "id": "0nWuvp65r4KH",
        "outputId": "fbc9aadd-cc58-4130-d99c-7766b1d181e4"
      },
      "execution_count": 9,
      "outputs": [
        {
          "output_type": "stream",
          "name": "stdout",
          "text": [
            "Target Items: APPLE iPhone 13 (Blue, 128 GB) and APPLE iPhone 13 (Midnight, 128 GB)\n"
          ]
        }
      ]
    },
    {
      "cell_type": "code",
      "source": [],
      "metadata": {
        "colab": {
          "base_uri": "https://localhost:8080/"
        },
        "id": "GaQbtIZar5_2",
        "outputId": "65b90572-53d9-43ed-f8e6-a9475b1bc23b"
      },
      "execution_count": 10,
      "outputs": [
        {
          "output_type": "stream",
          "name": "stdout",
          "text": [
            "                              Product Name  Rating  Adjusted Rating\n",
            "0    OPPO Reno10 5G (Silvery Grey, 256 GB)     NaN              NaN\n",
            "1  Infinix Smart 7 HD (Green Apple, 64 GB)     4.3         3.857143\n",
            "2      Infinix SMART 7 (Azure Blue, 64 GB)     4.3         3.857143\n",
            "3              POCO C55 (Cool Blue, 64 GB)     4.2         3.571429\n",
            "4          POCO C50 (Country Green, 32 GB)     4.2         3.571429\n"
          ]
        }
      ]
    },
    {
      "cell_type": "code",
      "source": [
        "# Target Items\n",
        "target_items = product_ratings_count.nsmallest(2).index.tolist()  # I1 and I2\n",
        "item1_index = target_items[0]\n",
        "item2_index = target_items[1]\n",
        "print(f\"Target Items: {item1_index} and {item2_index}\")\n"
      ],
      "metadata": {
        "colab": {
          "base_uri": "https://localhost:8080/"
        },
        "id": "8ZFk96U4r8dI",
        "outputId": "2dcc8e77-9ebb-4bfe-aa75-ed8baeedac6d"
      },
      "execution_count": 11,
      "outputs": [
        {
          "output_type": "stream",
          "name": "stdout",
          "text": [
            "Target Items: APPLE iPhone 13 (Blue, 128 GB) and APPLE iPhone 13 (Midnight, 128 GB)\n"
          ]
        }
      ]
    },
    {
      "cell_type": "code",
      "source": [
        "# Importing required libraries\n",
        "import numpy as np\n",
        "import pandas as pd\n",
        "from sklearn.decomposition import PCA\n",
        "\n",
        "# Load dataset\n",
        "file_path = \"dataset_irs.csv\"\n",
        "dataset = pd.read_csv(file_path)\n",
        "\n",
        "# Ensure the 'Rating' column is numeric\n",
        "if 'Rating' in dataset.columns:\n",
        "    dataset['Rating'] = pd.to_numeric(dataset['Rating'], errors='coerce')\n",
        "    dataset = dataset.dropna(subset=['Rating'])  # Drop rows with NaN ratings\n",
        "\n",
        "# Create user-item rating matrix\n",
        "rating_matrix = dataset.pivot_table(index=\"Product Url\", columns=\"Product Name\", values=\"Rating\", aggfunc='mean')\n",
        "\n",
        "# Fill missing values with column mean\n",
        "mean_ratings = rating_matrix.mean()\n",
        "rating_matrix_filled = rating_matrix.fillna(mean_ratings)\n",
        "\n",
        "# Apply PCA\n",
        "pca = PCA()\n",
        "transformed_ratings = pca.fit_transform(rating_matrix_filled)\n",
        "\n",
        "# Debug dimensions to ensure compatibility\n",
        "print(\"Transformed Ratings Shape:\", transformed_ratings.shape)\n",
        "print(\"PCA Components Shape:\", pca.components_.shape)\n",
        "\n",
        "# Top 5 peers example for an arbitrary item index (e.g., index 0)\n",
        "item_index = 0\n",
        "covariance_matrix = np.cov(transformed_ratings.T)\n",
        "correlations = covariance_matrix[item_index]\n",
        "top_5_peers = np.argsort(-correlations)[1:6]  # Exclude self-correlation\n",
        "# Predict ratings\n",
        "predictions = np.dot(\n",
        "    transformed_ratings[:, :5],  # Select the first 5 transformed components\n",
        "    pca.components_[:5, :]  # Select the first 5 PCA components\n",
        ") + mean_ratings.mean()\n",
        "\n",
        "# Output example predictions\n",
        "print(predictions[:5])\n",
        "\n"
      ],
      "metadata": {
        "colab": {
          "base_uri": "https://localhost:8080/"
        },
        "id": "yBODr0d6r_wk",
        "outputId": "95a3e065-e652-4531-e5be-5b758fec3dcb"
      },
      "execution_count": 17,
      "outputs": [
        {
          "output_type": "stream",
          "name": "stdout",
          "text": [
            "Transformed Ratings Shape: (456, 334)\n",
            "PCA Components Shape: (334, 334)\n",
            "[[4.15376747 4.15376747 4.15376747 ... 4.15376747 4.15376747 4.15376747]\n",
            " [4.15376747 4.15376747 4.15376747 ... 4.15376747 4.15376747 4.15376747]\n",
            " [4.15376747 4.15376747 4.15376747 ... 4.15376747 4.15376747 4.15376747]\n",
            " [4.15376747 4.15376747 4.15376747 ... 4.15376747 4.15376747 4.15376747]\n",
            " [4.15376747 4.15376747 4.15376747 ... 4.15376747 4.15376747 4.15376747]]\n"
          ]
        }
      ]
    },
    {
      "cell_type": "code",
      "source": [
        "ratings[\"Unique Index\"] = ratings.groupby([\"Product Name\", \"Prices\"]).cumcount()\n",
        "\n",
        "# Create the rating matrix\n",
        "rating_matrix = ratings.pivot(index=[\"Product Name\", \"Unique Index\"], columns=\"Prices\", values=\"Rating\")\n",
        "\n",
        "# Compute the mean for each item and fill missing values\n",
        "mean_ratings = rating_matrix.mean()  # Mean ratings for each column (item)\n",
        "rating_matrix_filled = rating_matrix.fillna(mean_ratings)  # Fill NaNs with column means\n"
      ],
      "metadata": {
        "id": "GZK2bn18r-Bu"
      },
      "execution_count": 33,
      "outputs": []
    },
    {
      "cell_type": "markdown",
      "source": [
        "3.2.part2 PCA method with MLE"
      ],
      "metadata": {
        "id": "sXoaiHAixdMk"
      }
    },
    {
      "cell_type": "code",
      "source": [
        "# -------------------------\n",
        "# Part 2: Enhanced PCA with MLE\n",
        "# -------------------------\n",
        "\n",
        "import time\n",
        "from scipy.stats import pearsonr\n",
        "from tqdm import tqdm\n",
        "import numpy as np\n",
        "import seaborn as sns\n",
        "import matplotlib.pyplot as plt\n",
        "\n",
        "start_time = time.time()\n",
        "\n",
        "# Ensure rating_matrix and relevant variables are properly defined\n",
        "rating_matrix_filled = rating_matrix.fillna(rating_matrix.mean())  # Replace NaNs with column means\n",
        "tni = rating_matrix.shape[1]  # Number of items\n",
        "item_indices = list(rating_matrix.columns)  # List of item indices\n",
        "\n",
        "# Initialize a sparse MLE covariance matrix\n",
        "mle_covariance_matrix = np.zeros((tni, tni))\n",
        "\n",
        "# Compute the covariance using Pearson correlation for all pairs of items\n",
        "for i in tqdm(range(tni), desc=\"Computing Covariance\"):\n",
        "    for j in range(i, tni):\n",
        "        # Extract ratings for both items\n",
        "        ratings_i = rating_matrix.iloc[:, i].dropna()\n",
        "        ratings_j = rating_matrix.iloc[:, j].dropna()\n",
        "\n",
        "        # Find the common users who rated both items\n",
        "        common_users = ratings_i.index.intersection(ratings_j.index)\n",
        "        if len(common_users) > 1:  # Only compute if there are at least 2 common ratings\n",
        "            cov, _ = pearsonr(ratings_i.loc[common_users], ratings_j.loc[common_users])\n",
        "            mle_covariance_matrix[i, j] = mle_covariance_matrix[j, i] = cov\n",
        "\n",
        "# Covariance Heatmap (MLE)\n",
        "plt.figure(figsize=(10, 8))\n",
        "sns.heatmap(mle_covariance_matrix, cmap=\"coolwarm\", xticklabels=False, yticklabels=False)\n",
        "plt.title(\"Enhanced MLE Covariance Matrix Heatmap\")\n",
        "plt.show()\n",
        "\n",
        "# Map\n"
      ],
      "metadata": {
        "colab": {
          "base_uri": "https://localhost:8080/",
          "height": 735
        },
        "id": "CHK0VMkN0S9V",
        "outputId": "90326f7e-a940-43bf-ec41-25c8ca26b585"
      },
      "execution_count": 42,
      "outputs": [
        {
          "output_type": "stream",
          "name": "stderr",
          "text": [
            "Computing Covariance:   1%|          | 2/184 [00:01<01:29,  2.03it/s]<ipython-input-42-66ba522e7ed2>:32: ConstantInputWarning: An input array is constant; the correlation coefficient is not defined.\n",
            "  cov, _ = pearsonr(ratings_i.loc[common_users], ratings_j.loc[common_users])\n",
            "Computing Covariance: 100%|██████████| 184/184 [00:24<00:00,  7.45it/s]\n"
          ]
        },
        {
          "output_type": "display_data",
          "data": {
            "text/plain": [
              "<Figure size 1000x800 with 2 Axes>"
            ],
            "image/png": "[encoded data removed]"
          },
          "metadata": {}
        }
      ]
    },
    {
      "cell_type": "code",
      "source": [
        "# Print the available item indices\n",
        "print(\"Available item indices:\", item_indices)\n",
        "\n",
        "\n"
      ],
      "metadata": {
        "colab": {
          "base_uri": "https://localhost:8080/"
        },
        "id": "-hqHNPBzInxt",
        "outputId": "b2e57fea-73d9-4c28-bf41-89285e50c77d"
      },
      "execution_count": 47,
      "outputs": [
        {
          "output_type": "stream",
          "name": "stdout",
          "text": [
            "Available item indices: [' ', '₹1,045', '₹1,049', '₹1,052', '₹1,070', '₹1,090', '₹1,095', '₹1,099', '₹1,101', '₹1,111', '₹1,120', '₹1,129', '₹1,130', '₹1,135', '₹1,139', '₹1,140', '₹1,147', '₹1,149', '₹1,150', '₹1,160', '₹1,170', '₹1,171', '₹1,190', '₹1,198', '₹1,199', '₹1,220', '₹1,236', '₹1,280', '₹1,282', '₹1,296', '₹1,297', '₹1,299', '₹1,300', '₹1,305', '₹1,315', '₹1,318', '₹1,319', '₹1,320', '₹1,325', '₹1,349', '₹1,375', '₹1,379', '₹1,412', '₹1,420', '₹1,444', '₹1,449', '₹1,482', '₹1,489', '₹1,499', '₹1,510', '₹1,535', '₹1,549', '₹1,565', '₹1,575', '₹1,595', '₹1,599', '₹1,651', '₹1,669', '₹1,689', '₹1,699', '₹1,750', '₹1,765', '₹1,780', '₹1,790', '₹1,799', '₹1,869', '₹1,899', '₹1,950', '₹10,490', '₹10,499', '₹10,999', '₹11,478', '₹11,499', '₹11,999', '₹12,499', '₹12,689', '₹12,879', '₹12,990', '₹12,999', '₹13,299', '₹13,468', '₹13,489', '₹13,499', '₹13,509', '₹13,990', '₹13,994', '₹13,999', '₹14,294', '₹14,990', '₹14,999', '₹15,299', '₹15,494', '₹15,498', '₹15,499', '₹15,894', '₹15,990', '₹15,996', '₹15,999', '₹16,499', '₹16,999', '₹17,464', '₹17,678', '₹17,735', '₹17,747', '₹17,755', '₹17,999', '₹18,098', '₹18,999', '₹19,999', '₹2,060', '₹2,225', '₹2,244', '₹2,249', '₹2,380', '₹2,499', '₹2,699', '₹2,890', '₹2,899', '₹2,999', '₹20,999', '₹21,499', '₹22,999', '₹23,999', '₹24,999', '₹26,999', '₹27,999', '₹28,399', '₹28,865', '₹29,960', '₹29,999', '₹32,999', '₹39,753', '₹39,999', '₹44,300', '₹44,375', '₹44,999', '₹49,999', '₹5,499', '₹5,999', '₹54,999', '₹6,199', '₹6,299', '₹6,499', '₹6,599', '₹6,799', '₹6,900', '₹6,985', '₹6,999', '₹61,999', '₹643', '₹665', '₹670', '₹69,999', '₹699', '₹7,299', '₹7,320', '₹7,389', '₹7,499', '₹7,999', '₹725', '₹744', '₹8,049', '₹8,119', '₹8,250', '₹8,499', '₹8,714', '₹8,799', '₹8,800', '₹8,999', '₹899', '₹9,335', '₹9,499', '₹9,999', '₹908', '₹909', '₹910', '₹915', '₹919', '₹920', '₹949', '₹975', '₹978', '₹998', '₹999']\n"
          ]
        }
      ]
    },
    {
      "cell_type": "code",
      "source": [
        "if item1_index not in item_indices:\n",
        "    print(f\"Error: {item1_index} not found in item indices.\")\n",
        "if item2_index not in item_indices:\n",
        "    print(f\"Error: {item2_index} not found in item indices.\")\n"
      ],
      "metadata": {
        "colab": {
          "base_uri": "https://localhost:8080/"
        },
        "id": "6xRnr9HwJJdB",
        "outputId": "4b012301-cac9-4f8e-b02d-9a898bc5280c"
      },
      "execution_count": 52,
      "outputs": [
        {
          "output_type": "stream",
          "name": "stdout",
          "text": [
            "Error: Column_Name_or_Index_for_Item1 not found in item indices.\n",
            "Error: Column_Name_or_Index_for_Item2 not found in item indices.\n"
          ]
        }
      ]
    },
    {
      "cell_type": "code",
      "source": [
        "# Assign valid column names or indices from the dataset\n",
        "item1_index = \"Valid_Column_Name1\"  # Replace with a valid name from the printed list\n",
        "item2_index = \"Valid_Column_Name2\"  # Replace with another valid name\n"
      ],
      "metadata": {
        "id": "OBs6FqhFIrgp"
      },
      "execution_count": 49,
      "outputs": []
    },
    {
      "cell_type": "code",
      "source": [
        "# Ensure that item1_index and item2_index are valid\n",
        "item1_index = '₹1,045'  # Replace with actual item name or index\n",
        "item2_index = '₹1,299'  # Replace with actual item name or index\n",
        "\n",
        "# Debugging information\n",
        "print(\"Debugging Information:\")\n",
        "print(\"Item Indices:\", item_indices)\n",
        "print(\"Item 1 Index:\", item1_index)\n",
        "print(\"Item 2 Index:\", item2_index)\n",
        "\n",
        "# Ensure that item1_index and item2_index exist in the item_indices list\n",
        "if item1_index in item_indices and item2_index in item_indices:\n",
        "    item1_index_position = item_indices.index(item1_index)\n",
        "    item2_index_position = item_indices.index(item2_index)\n",
        "else:\n",
        "    if item1_index not in item_indices:\n",
        "        print(f\"Error: Item {item1_index} not found in item_indices.\")\n",
        "    if item2_index not in item_indices:\n",
        "        print(f\"Error: Item {item2_index} not found in item_indices.\")\n",
        "    raise ValueError(\"One or both target items not found in the item indices.\")\n",
        "\n",
        "# Extract top peers for each target item\n",
        "item1_top5_mle = np.argsort(-mle_covariance_matrix[item1_index_position])[:5]\n",
        "item2_top5_mle = np.argsort(-mle_covariance_matrix[item2_index_position])[:5]\n",
        "\n",
        "# Predict ratings using the actual rating matrix (not PCA components)\n",
        "item1_predictions_5_mle = rating_matrix_filled.iloc[:, item1_top5_mle].mean(axis=1)\n",
        "item2_predictions_5_mle = rating_matrix_filled.iloc[:, item2_top5_mle].mean(axis=1)\n",
        "\n",
        "# Normalize predictions to the valid range (1–5)\n",
        "item1_predictions_5_mle = np.clip(item1_predictions_5_mle, 1, 5)\n",
        "item2_predictions_5_mle = np.clip(item2_predictions_5_mle, 1, 5)\n",
        "\n",
        "# Output predictions\n",
        "print(f\"Item {item1_index} Predictions (Enhanced MLE, Top 5): {item1_predictions_5_mle.mean():.2f}\")\n",
        "print(f\"Item {item2_index} Predictions (Enhanced MLE, Top 5): {item2_predictions_5_mle.mean():.2f}\")\n",
        "\n",
        "# Additional Debugging Information\n",
        "print(\"Top 5 peers for Item 1 (based on MLE):\", item1_top5_mle)\n",
        "print(\"Top 5 peers for Item 2 (based on MLE):\", item2_top5_mle)\n",
        "\n",
        "# Optional: Plot the predicted ratings for visualization\n",
        "plt.figure(figsize=(8, 5))\n",
        "plt.bar(range(len(item1_predictions_5_mle)), item1_predictions_5_mle, color='blue', alpha=0.7, label=f\"Item {item1_index} Predictions\")\n",
        "plt.bar(range(len(item2_predictions_5_mle)), item2_predictions_5_mle, color='orange', alpha=0.7, label=f\"Item {item2_index} Predictions\")\n",
        "plt.title(\"Predicted Ratings (Enhanced MLE)\")\n",
        "plt.xlabel(\"Users\")\n",
        "plt.ylabel(\"Predicted Rating\")\n",
        "plt.legend()\n",
        "plt.tight_layout()\n",
        "plt.show()\n",
        "\n",
        "end_time = time.time()\n",
        "print(f\"Time taken: {end_time - start_time:.2f} seconds\")\n"
      ],
      "metadata": {
        "colab": {
          "base_uri": "https://localhost:8080/",
          "height": 683
        },
        "id": "n3-uU0ioJXNK",
        "outputId": "c2152e56-a7a1-4f3b-f082-7cf8dac4da2e"
      },
      "execution_count": 57,
      "outputs": [
        {
          "output_type": "stream",
          "name": "stdout",
          "text": [
            "Debugging Information:\n",
            "Item Indices: [' ', '₹1,045', '₹1,049', '₹1,052', '₹1,070', '₹1,090', '₹1,095', '₹1,099', '₹1,101', '₹1,111', '₹1,120', '₹1,129', '₹1,130', '₹1,135', '₹1,139', '₹1,140', '₹1,147', '₹1,149', '₹1,150', '₹1,160', '₹1,170', '₹1,171', '₹1,190', '₹1,198', '₹1,199', '₹1,220', '₹1,236', '₹1,280', '₹1,282', '₹1,296', '₹1,297', '₹1,299', '₹1,300', '₹1,305', '₹1,315', '₹1,318', '₹1,319', '₹1,320', '₹1,325', '₹1,349', '₹1,375', '₹1,379', '₹1,412', '₹1,420', '₹1,444', '₹1,449', '₹1,482', '₹1,489', '₹1,499', '₹1,510', '₹1,535', '₹1,549', '₹1,565', '₹1,575', '₹1,595', '₹1,599', '₹1,651', '₹1,669', '₹1,689', '₹1,699', '₹1,750', '₹1,765', '₹1,780', '₹1,790', '₹1,799', '₹1,869', '₹1,899', '₹1,950', '₹10,490', '₹10,499', '₹10,999', '₹11,478', '₹11,499', '₹11,999', '₹12,499', '₹12,689', '₹12,879', '₹12,990', '₹12,999', '₹13,299', '₹13,468', '₹13,489', '₹13,499', '₹13,509', '₹13,990', '₹13,994', '₹13,999', '₹14,294', '₹14,990', '₹14,999', '₹15,299', '₹15,494', '₹15,498', '₹15,499', '₹15,894', '₹15,990', '₹15,996', '₹15,999', '₹16,499', '₹16,999', '₹17,464', '₹17,678', '₹17,735', '₹17,747', '₹17,755', '₹17,999', '₹18,098', '₹18,999', '₹19,999', '₹2,060', '₹2,225', '₹2,244', '₹2,249', '₹2,380', '₹2,499', '₹2,699', '₹2,890', '₹2,899', '₹2,999', '₹20,999', '₹21,499', '₹22,999', '₹23,999', '₹24,999', '₹26,999', '₹27,999', '₹28,399', '₹28,865', '₹29,960', '₹29,999', '₹32,999', '₹39,753', '₹39,999', '₹44,300', '₹44,375', '₹44,999', '₹49,999', '₹5,499', '₹5,999', '₹54,999', '₹6,199', '₹6,299', '₹6,499', '₹6,599', '₹6,799', '₹6,900', '₹6,985', '₹6,999', '₹61,999', '₹643', '₹665', '₹670', '₹69,999', '₹699', '₹7,299', '₹7,320', '₹7,389', '₹7,499', '₹7,999', '₹725', '₹744', '₹8,049', '₹8,119', '₹8,250', '₹8,499', '₹8,714', '₹8,799', '₹8,800', '₹8,999', '₹899', '₹9,335', '₹9,499', '₹9,999', '₹908', '₹909', '₹910', '₹915', '₹919', '₹920', '₹949', '₹975', '₹978', '₹998', '₹999']\n",
            "Item 1 Index: ₹1,045\n",
            "Item 2 Index: ₹1,299\n",
            "Item ₹1,045 Predictions (Enhanced MLE, Top 5): 4.60\n",
            "Item ₹1,299 Predictions (Enhanced MLE, Top 5): 4.60\n",
            "Top 5 peers for Item 1 (based on MLE): [  0 117 118 119 120]\n",
            "Top 5 peers for Item 2 (based on MLE): [  0 117 118 119 120]\n"
          ]
        },
        {
          "output_type": "display_data",
          "data": {
            "text/plain": [
              "<Figure size 800x500 with 1 Axes>"
            ],
            "image/png": "[encoded data removed]"
          },
          "metadata": {}
        },
        {
          "output_type": "stream",
          "name": "stdout",
          "text": [
            "Time taken: 904.23 seconds\n"
          ]
        }
      ]
    },
    {
      "cell_type": "code",
      "source": [
        "print(\"Transformed Ratings Shape:\", transformed_ratings.shape)\n",
        "print(\"PCA Components Shape:\", pca.components_.shape)\n",
        "print(\"Item1 Top5 MLE Shape:\", item1_top5_mle.shape)\n",
        "print(\"Item2 Top5 MLE Shape:\", item2_top5_mle.shape)\n"
      ],
      "metadata": {
        "colab": {
          "base_uri": "https://localhost:8080/"
        },
        "id": "ZnI0vLb2xK1D",
        "outputId": "0cef286f-7a97-4a40-c4dd-7eb6c8ed5d23"
      },
      "execution_count": 31,
      "outputs": [
        {
          "output_type": "stream",
          "name": "stdout",
          "text": [
            "Transformed Ratings Shape: (456, 334)\n",
            "PCA Components Shape: (334, 334)\n",
            "Item1 Top5 MLE Shape: (5,)\n",
            "Item2 Top5 MLE Shape: (5,)\n"
          ]
        }
      ]
    },
    {
      "cell_type": "markdown",
      "source": [
        "3.2.Part 3 Normalize rating\n"
      ],
      "metadata": {
        "id": "E7UW7p7dxYOb"
      }
    },
    {
      "cell_type": "code",
      "source": [
        "# Normalize ratings\n",
        "min_rating = rating_matrix_filled.min().min()\n",
        "max_rating = rating_matrix_filled.max().max()\n",
        "normalized_matrix = (rating_matrix_filled - min_rating) / (max_rating - min_rating)\n",
        "\n",
        "# Apply SVD\n",
        "n_components = 100\n",
        "svd = TruncatedSVD(n_components=n_components)\n",
        "U = svd.fit_transform(normalized_matrix)\n",
        "Sigma = np.diag(svd.singular_values_)\n",
        "V = svd.components_\n",
        "\n",
        "# Reconstruct Matrix\n",
        "R_reconstructed = np.dot(np.dot(U, Sigma), V)\n",
        "reconstructed_matrix = R_reconstructed * (max_rating - min_rating) + min_rating\n",
        "reconstructed_matrix_clipped = np.clip(reconstructed_matrix, 1, 5)\n",
        "\n",
        "# Predictions\n",
        "item1_predictions_svd = reconstructed_matrix_clipped[:, item1_index]\n",
        "item2_predictions_svd = reconstructed_matrix_clipped[:, item2_index]\n",
        "\n",
        "print(f\"Mean predicted rating for item {item1_index}: {np.mean(item1_predictions_svd):.2f}\")\n",
        "print(f\"Mean predicted rating for item {item2_index}: {np.mean(item2_predictions_svd):.2f}\")\n"
      ],
      "metadata": {
        "colab": {
          "base_uri": "https://localhost:8080/"
        },
        "id": "PUVSwCs6xWBC",
        "outputId": "872b2f09-3596-44e3-e883-039ec4ddf352"
      },
      "execution_count": 35,
      "outputs": [
        {
          "output_type": "stream",
          "name": "stdout",
          "text": [
            "Mean predicted rating for item 1: 4.00\n",
            "Mean predicted rating for item 2: 4.00\n"
          ]
        }
      ]
    }
  ],
  "metadata": {
    "colab": {
      "provenance": []
    },
    "kernelspec": {
      "display_name": "Python 3",
      "name": "python3"
    },
    "language_info": {
      "name": "python"
    }
  },
  "nbformat": 4,
  "nbformat_minor": 0
}