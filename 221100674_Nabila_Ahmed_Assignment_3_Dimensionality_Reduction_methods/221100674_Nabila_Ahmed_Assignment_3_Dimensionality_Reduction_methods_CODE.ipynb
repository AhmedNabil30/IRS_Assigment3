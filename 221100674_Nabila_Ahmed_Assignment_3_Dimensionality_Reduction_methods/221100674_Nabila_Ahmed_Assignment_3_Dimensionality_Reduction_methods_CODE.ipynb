{
  "nbformat": 4,
  "nbformat_minor": 0,
  "metadata": {
    "colab": {
      "provenance": []
    },
    "kernelspec": {
      "name": "python3",
      "display_name": "Python 3"
    },
    "language_info": {
      "name": "python"
    }
  },
  "cells": [
    {
      "cell_type": "markdown",
      "source": [
        "# AIE425 Intelligent Recommender Systems, Fall Semester 24/25\n",
        "# Assignment #3: Dimensionality Reduction methods\n",
        "# 221100674, Nabila Ahmed Ali"
      ],
      "metadata": {
        "id": "U6we-dLuCknj"
      }
    },
    {
      "cell_type": "code",
      "execution_count": null,
      "metadata": {
        "colab": {
          "base_uri": "https://localhost:8080/"
        },
        "id": "QI1MevkSJnm5",
        "outputId": "f0bd515e-e234-4aa6-9a0a-5aa0b0826ea6"
      },
      "outputs": [
        {
          "output_type": "stream",
          "name": "stdout",
          "text": [
            "Dataset path exists: /content/TMDB user movie ratings.csv\n"
          ]
        }
      ],
      "source": [
        "import os\n",
        "\n",
        "dataset_path = r\"/content/TMDB user movie ratings.csv\"\n",
        "\n",
        "\n",
        "def validate_dataset_path(path):\n",
        "    if not os.path.exists(path):\n",
        "        raise FileNotFoundError(f\"The dataset file was not found at: {path}\")\n",
        "    print(f\"Dataset path exists: {path}\")\n",
        "validate_dataset_path(dataset_path)"
      ]
    },
    {
      "cell_type": "code",
      "source": [
        "\n",
        "def load_dataset(path):\n",
        "    data = pd.read_csv(path)\n",
        "    print(f\"Dataset loaded successfully with {data.shape[0]} rows and {data.shape[1]} columns.\")\n",
        "    return data\n",
        "\n",
        "\n",
        "dataset = load_dataset(dataset_path)\n",
        "\n",
        "\n",
        "print(\"Preview of the loaded dataset:\")\n",
        "print(dataset.head())"
      ],
      "metadata": {
        "colab": {
          "base_uri": "https://localhost:8080/"
        },
        "id": "NleYXG9VTVjs",
        "outputId": "e6935c36-1b3c-41d6-f9de-b3e9f1bffb07"
      },
      "execution_count": null,
      "outputs": [
        {
          "output_type": "stream",
          "name": "stdout",
          "text": [
            "Dataset loaded successfully with 884 rows and 4 columns.\n",
            "Preview of the loaded dataset:\n",
            "   user_id  media_id  rating                   title\n",
            "0        1     27205     8.3               Inception\n",
            "1        1    157336     8.1            Interstellar\n",
            "2        1       155     8.5         The Dark Knight\n",
            "3        1    299536     8.3  Avengers: Infinity War\n",
            "4        1       550     7.9              Fight Club\n"
          ]
        }
      ]
    },
    {
      "cell_type": "code",
      "source": [
        "\n",
        "if 'rating' in dataset.columns:\n",
        "    def adjust_rating_scale(data, column, new_min=1, new_max=5):\n",
        "\n",
        "        col = data[column]\n",
        "\n",
        "        scaled_col = (col - col.min()) / (col.max() - col.min())\n",
        "        data[column] = (scaled_col * (new_max - new_min) + new_min).round(2)\n",
        "        print(f\"Ratings scaled to range {new_min}-{new_max}.\")\n",
        "        return data\n",
        "\n",
        "\n",
        "    dataset = adjust_rating_scale(dataset, column='rating', new_min=1, new_max=5)\n",
        "\n",
        "\n",
        "    print(\"Adjusted dataset preview:\")\n",
        "    print(dataset.head())\n",
        "else:\n",
        "    print(\"'rating' column not found in dataset.\")\n"
      ],
      "metadata": {
        "colab": {
          "base_uri": "https://localhost:8080/"
        },
        "id": "lAFvsKE0KfH3",
        "outputId": "8be5c6ed-7ead-4093-80d7-f97edce7df02"
      },
      "execution_count": null,
      "outputs": [
        {
          "output_type": "stream",
          "name": "stdout",
          "text": [
            "Ratings scaled to range 1-5.\n",
            "Adjusted dataset preview:\n",
            "   user_id  media_id  rating                   title\n",
            "0        1     27205    2.83               Inception\n",
            "1        1    157336    2.50            Interstellar\n",
            "2        1       155    3.17         The Dark Knight\n",
            "3        1    299536    2.83  Avengers: Infinity War\n",
            "4        1       550    2.17              Fight Club\n"
          ]
        }
      ]
    },
    {
      "cell_type": "code",
      "source": [
        "import pandas as pd\n",
        "\n",
        "\n",
        "data = pd.read_csv('/content/TMDB user movie ratings.csv')\n",
        "\n",
        "\n",
        "Tnu = data['user_id'].nunique()\n",
        "Tni = data['media_id'].nunique()\n",
        "\n",
        "print(\"Total number of users (Tnu):\", Tnu)\n",
        "print(\"Total number of items (Tni):\", Tni)\n"
      ],
      "metadata": {
        "colab": {
          "base_uri": "https://localhost:8080/"
        },
        "id": "niCeOYKPLNMR",
        "outputId": "3ad9c949-1e80-4b5f-e0e3-edef43f93963"
      },
      "execution_count": null,
      "outputs": [
        {
          "output_type": "stream",
          "name": "stdout",
          "text": [
            "Total number of users (Tnu): 60\n",
            "Total number of items (Tni): 86\n"
          ]
        }
      ]
    },
    {
      "cell_type": "markdown",
      "source": [
        "Count Ratings for Every Product"
      ],
      "metadata": {
        "id": "pwxd6Xm0Mz3W"
      }
    },
    {
      "cell_type": "code",
      "source": [
        "\n",
        "ratings_count = data.groupby('media_id')['rating'].count()\n",
        "print(\"\\nRatings Count for TOP 5 Products :\")\n",
        "print(ratings_count.head())"
      ],
      "metadata": {
        "colab": {
          "base_uri": "https://localhost:8080/"
        },
        "id": "Rk-4CWpYM3bL",
        "outputId": "a08edd44-9cb6-4441-c95e-af705a5883e5"
      },
      "execution_count": null,
      "outputs": [
        {
          "output_type": "stream",
          "name": "stdout",
          "text": [
            "\n",
            "Ratings Count for TOP 5 Products :\n",
            "media_id\n",
            "13     14\n",
            "28     10\n",
            "73     10\n",
            "101     6\n",
            "105     9\n",
            "Name: rating, dtype: int64\n"
          ]
        }
      ]
    },
    {
      "cell_type": "markdown",
      "source": [
        "# Distribution of Ratings and Sparsity"
      ],
      "metadata": {
        "id": "yMh9ErieSeoS"
      }
    },
    {
      "cell_type": "code",
      "source": [
        "import pandas as pd\n",
        "import numpy as np\n",
        "import seaborn as sns\n",
        "import matplotlib.pyplot as plt\n",
        "\n",
        "\n",
        "file_path = \"/content/TMDB user movie ratings.csv\"\n",
        "df = pd.read_csv(file_path)\n",
        "\n",
        "\n",
        "print(\"Dataset loaded successfully!\")\n",
        "print(df.head())\n",
        "\n",
        "plt.figure(figsize=(8, 6))\n",
        "sns.histplot(df['rating'], bins=10, color='green')\n",
        "plt.title(\"Distribution of Ratings\")\n",
        "plt.xlabel(\"Ratings\")\n",
        "plt.ylabel(\"Frequency\")\n",
        "plt.grid()\n",
        "plt.show()\n",
        "\n",
        "print(\"\\n=== Sparsity and Bias ===\")\n",
        "\n",
        "ratings_matrix = df.pivot(index='user_id', columns='media_id', values='rating')\n",
        "\n",
        "num_total_entries = ratings_matrix.shape[0] * ratings_matrix.shape[1]\n",
        "num_non_zero_entries = np.count_nonzero(~ratings_matrix.isnull())\n",
        "sparsity_ratio = 1 - (num_non_zero_entries / num_total_entries)\n",
        "\n",
        "print(f\"Total entries in the ratings matrix: {num_total_entries}\")\n",
        "print(f\"Non-zero ratings: {num_non_zero_entries}\")\n",
        "print(f\"Matrix sparsity: {sparsity_ratio:.4f}\")\n"
      ],
      "metadata": {
        "colab": {
          "base_uri": "https://localhost:8080/",
          "height": 772
        },
        "id": "FSYCi_yNOx1N",
        "outputId": "60fd1b72-31fb-4d8c-b477-42345f05dd5c"
      },
      "execution_count": null,
      "outputs": [
        {
          "output_type": "stream",
          "name": "stdout",
          "text": [
            "Dataset loaded successfully!\n",
            "   user_id  media_id  rating                   title\n",
            "0        1     27205     8.3               Inception\n",
            "1        1    157336     8.1            Interstellar\n",
            "2        1       155     8.5         The Dark Knight\n",
            "3        1    299536     8.3  Avengers: Infinity War\n",
            "4        1       550     7.9              Fight Club\n"
          ]
        },
        {
          "output_type": "display_data",
          "data": {
            "text/plain": [
              "<Figure size 800x600 with 1 Axes>"
            ],
            "image/png": "[encoded data removed]"
          },
          "metadata": {}
        },
        {
          "output_type": "stream",
          "name": "stdout",
          "text": [
            "\n",
            "=== Sparsity and Bias ===\n",
            "Total entries in the ratings matrix: 5160\n",
            "Non-zero ratings: 884\n",
            "Matrix sparsity: 0.8287\n"
          ]
        }
      ]
    },
    {
      "cell_type": "markdown",
      "source": [
        "# Two Lowest-Rated Items"
      ],
      "metadata": {
        "id": "LptlTDdyS5Ds"
      }
    },
    {
      "cell_type": "code",
      "source": [
        "\n",
        "print(\"\\n Two Lowest-Rated Items are:\")\n",
        "item_avg_ratings = data.groupby('media_id')['rating'].mean()\n",
        "lowest_rated_items = item_avg_ratings.nsmallest(2).index.tolist()\n",
        "I1, I2 = lowest_rated_items[0], lowest_rated_items[1]\n",
        "print(f\"Lowest-Rated Items: I1 = {I1}, I2 = {I2}\")"
      ],
      "metadata": {
        "colab": {
          "base_uri": "https://localhost:8080/"
        },
        "id": "fCSjQvBtSzOw",
        "outputId": "bf30573b-8cc2-407e-bfd7-869a875b79db"
      },
      "execution_count": null,
      "outputs": [
        {
          "output_type": "stream",
          "name": "stdout",
          "text": [
            "\n",
            " Two Lowest-Rated Items are:\n",
            "Lowest-Rated Items: I1 = 8587, I2 = 42269\n"
          ]
        }
      ]
    },
    {
      "cell_type": "markdown",
      "source": [
        "# Saving the Results"
      ],
      "metadata": {
        "id": "rCF710jsW0hI"
      }
    },
    {
      "cell_type": "code",
      "source": [
        "\n",
        "print(\"\\nSaving the Results\")\n",
        "results = {\n",
        "    'Total Users (Tnu)': Tnu,\n",
        "    'Total Items (Tni)': Tni,\n",
        "    'Lowest Rated Items': [I1, I2]\n",
        "}\n",
        "\n",
        "\n",
        "for key, value in results.items():\n",
        "    print(f\"{key}: {value}\")\n"
      ],
      "metadata": {
        "colab": {
          "base_uri": "https://localhost:8080/"
        },
        "id": "3w_eFlmCVNBc",
        "outputId": "416a8725-2fc8-44c6-e790-ed6fc8bf934c"
      },
      "execution_count": null,
      "outputs": [
        {
          "output_type": "stream",
          "name": "stdout",
          "text": [
            "\n",
            "Saving the Results\n",
            "Total Users (Tnu): 60\n",
            "Total Items (Tni): 86\n",
            "Lowest Rated Items: [8587, 42269]\n"
          ]
        }
      ]
    },
    {
      "cell_type": "markdown",
      "source": [
        "# Part 1: PCA Method with Mean-Filling"
      ],
      "metadata": {
        "id": "SxFym7gVW8-g"
      }
    },
    {
      "cell_type": "code",
      "source": [
        "\n",
        "print(\"\\n Average Ratings for Target Items: \")\n",
        "target_items = [8587, 42269]\n",
        "average_ratings = data[data['media_id'].isin(target_items)].groupby('media_id')['rating'].mean()\n",
        "for item, avg in average_ratings.items():\n",
        "    print(f\"Item {item}: Average Rating = {avg:.2f}\")"
      ],
      "metadata": {
        "colab": {
          "base_uri": "https://localhost:8080/"
        },
        "id": "rXSwHu3CW6o3",
        "outputId": "1a0a17f5-0a29-4e88-8edc-d9ac163b8cad"
      },
      "execution_count": null,
      "outputs": [
        {
          "output_type": "stream",
          "name": "stdout",
          "text": [
            "\n",
            " Average Ratings for Target Items: \n",
            "Item 8587: Average Rating = 7.78\n",
            "Item 42269: Average Rating = 7.90\n"
          ]
        }
      ]
    },
    {
      "cell_type": "markdown",
      "source": [
        "# Replace Missing Ratings with Mean-Filling"
      ],
      "metadata": {
        "id": "AsbqlWY1XkDE"
      }
    },
    {
      "cell_type": "code",
      "source": [
        "\n",
        "print(\"\\n=== Matrix with Mean-Filled and Scaled Values ===\")\n",
        "user_item_matrix = data.pivot(index='user_id', columns='media_id', values='rating')\n",
        "\n",
        "\n",
        "mean_filled_matrix = user_item_matrix.apply(lambda col: col.fillna(col.mean()), axis=0)\n",
        "\n",
        "\n",
        "def scale_to_1_5(matrix):\n",
        "    \"\"\"\n",
        "    Scale all values in the matrix to the range of 1 to 5.\n",
        "    \"\"\"\n",
        "    col_min = matrix.min(axis=0)\n",
        "    col_max = matrix.max(axis=0)\n",
        "    scaled_matrix = (matrix - col_min) / (col_max - col_min) * 4 + 1\n",
        "    return scaled_matrix\n",
        "\n",
        "scaled_matrix = scale_to_1_5(mean_filled_matrix)\n",
        "\n",
        "\n",
        "sample_matrix = scaled_matrix.head()\n",
        "print(sample_matrix.to_string())\n"
      ],
      "metadata": {
        "colab": {
          "base_uri": "https://localhost:8080/"
        },
        "id": "LvpvoGYXXguv",
        "outputId": "98fb07f5-dce0-44a3-bccb-af28ed320ce8"
      },
      "execution_count": null,
      "outputs": [
        {
          "output_type": "stream",
          "name": "stdout",
          "text": [
            "\n",
            "=== Matrix with Mean-Filled and Scaled Values ===\n",
            "media_id   13        28        73        101       105      120       121       122       128       129      155       207       238       240       274       278       311       335      346       389       423       424       429       497       510       539       550       567       598       599      637       670      680       769      807      901       914       975       1585      1891      3082      3782      4935      8587      10376    10494     11216     12477     12493     14537     18491     19404     25237     27205     40096     42269     77338    92321    110420    157336   244786    255709    265177   283566   299534    299536    324857    372058   378064    447362    490132    496243    504253   508965    527641    569094    572154    630566    637920    644479    696374    724089    761053    995133   1084736   1184918\n",
            "user_id                                                                                                                                                                                                                                                                                                                                                                                                                                                                                                                                                                                                                                                                                                                                                                                                                                                                             \n",
            "1         4.666667  3.231579  2.936842  3.355556  2.659259      2.4  2.333333  2.822222  2.666667  2.839572      3.0  3.296296  3.238095  2.885714  2.846154  4.777778  2.748148  3.049383     2.76  3.215686  2.555556  3.105263  2.971429  2.982456  2.959596  2.912281  1.842105  3.333333  2.819444  3.371429      3.0  3.487395      1.2  2.668449    3.075      4.1  3.083333  3.224599  3.592593  2.860963  2.647059  3.148148  3.481283  2.259259  2.799043  2.80805  3.259259  3.463158  2.977778  2.962963  2.789474  2.638889  2.587045  2.777778  3.166667  2.230769  2.927273  3.25641      3.0  2.555556      NaN  2.954545  2.497326      3.0      2.0  3.105263  3.020202  3.428571      3.0  3.357143  3.095238  3.538462  3.083333      2.8  2.777778  2.983193  2.485714  3.085714  2.653846  3.338462  2.368984  3.111111  3.153846  3.666667  3.54321  2.654321\n",
            "2         2.000000  3.231579  2.936842  3.355556  2.659259      4.2  2.333333  2.822222  2.666667  2.839572      2.6  3.296296  3.238095  2.885714  2.846154  3.000000  2.748148  3.049383     2.76  3.215686  2.555556  3.105263  2.971429  2.982456  2.959596  2.912281  2.684211  3.333333  2.819444  3.371429      3.0  3.487395      2.4  2.668449    3.075      4.1  3.083333  3.224599  3.592593  2.860963  2.647059  3.148148  3.481283  2.259259  2.799043  2.80805  3.259259  3.463158  2.977778  2.962963  2.789474  2.638889  2.587045  4.111111  3.166667  2.230769  2.927273  3.25641      3.0  2.555556      NaN  2.954545  2.497326      3.0      3.4  3.736842  3.020202  3.428571      3.0  3.357143  3.095238  3.538462  3.083333      2.8  2.777778  2.983193  2.485714  3.085714  2.653846  3.338462  2.368984  3.111111  3.153846  3.666667  3.54321  2.654321\n",
            "3         1.333333  3.231579  2.936842  3.355556  2.659259      2.2  2.333333  2.822222  2.666667  2.839572      2.2  3.296296  3.238095  2.885714  2.846154  5.000000  2.748148  3.049383     2.76  3.215686  2.555556  3.105263  2.971429  2.982456  2.959596  2.912281  4.789474  3.333333  2.819444  3.371429      3.0  3.487395      1.8  2.668449    3.075      4.1  3.083333  3.224599  3.592593  2.860963  2.647059  3.148148  3.481283  2.259259  2.799043  2.80805  3.259259  3.463158  2.977778  2.962963  2.789474  2.638889  2.587045  4.111111  3.166667  2.230769  2.927273  3.25641      3.0  2.777778      NaN  2.954545  2.497326      3.0      2.6  3.736842  3.020202  3.428571      3.0  3.357143  3.095238  3.538462  3.083333      2.8  2.777778  2.983193  2.485714  3.085714  2.653846  3.338462  2.368984  3.111111  3.153846  3.666667  3.54321  2.654321\n",
            "4         5.000000  3.231579  2.936842  3.355556  2.659259      4.0  2.333333  2.822222  2.666667  2.839572      1.8  3.296296  3.238095  2.885714  2.846154  3.222222  2.748148  3.049383     2.76  3.215686  2.555556  3.105263  2.971429  2.982456  2.959596  2.912281  5.000000  3.333333  2.819444  3.371429      3.0  3.487395      2.0  2.668449    3.075      4.1  3.083333  3.224599  3.592593  2.860963  2.647059  3.148148  3.481283  2.259259  2.799043  2.80805  3.259259  3.463158  2.977778  2.962963  2.789474  2.638889  2.587045  3.000000  3.166667  2.230769  2.927273  3.25641      3.0  3.000000      NaN  2.954545  2.497326      3.0      5.0  3.947368  3.020202  3.428571      3.0  3.357143  3.095238  3.538462  3.083333      2.8  2.777778  2.983193  2.485714  3.085714  2.653846  3.338462  2.368984  3.111111  3.153846  3.666667  3.54321  2.654321\n",
            "5         4.666667  3.231579  2.936842  3.355556  2.659259      1.8  2.333333  2.822222  2.666667  2.839572      5.0  3.296296  3.238095  2.885714  2.846154  2.333333  2.748148  3.049383     2.76  3.215686  2.555556  3.105263  2.971429  2.982456  2.959596  2.912281  2.473684  3.333333  2.819444  3.371429      3.0  3.487395      4.6  2.668449    3.075      4.1  3.083333  3.224599  3.592593  2.860963  2.647059  3.148148  3.481283  2.259259  2.799043  2.80805  3.259259  3.463158  2.977778  2.962963  2.789474  2.638889  2.587045  2.333333  3.166667  2.230769  2.927273  3.25641      3.0  3.666667      NaN  2.954545  2.497326      3.0      2.2  3.736842  3.020202  3.428571      3.0  3.357143  3.095238  3.538462  3.083333      2.8  2.777778  2.983193  2.485714  3.085714  2.653846  3.338462  2.368984  3.111111  3.153846  3.666667  3.54321  2.654321\n"
          ]
        }
      ]
    },
    {
      "cell_type": "markdown",
      "source": [
        "# Generate Covariance Matrix"
      ],
      "metadata": {
        "id": "uCYeVRcOXr7K"
      }
    },
    {
      "cell_type": "code",
      "source": [
        "\n",
        "print(\"\\n Covariance Matrix:\")\n",
        "cov_matrix = mean_filled_matrix.cov()\n",
        "\n",
        "\n",
        "print(\"Covariance Matrix :\")\n",
        "print(cov_matrix.iloc[:5, :5].to_string())"
      ],
      "metadata": {
        "colab": {
          "base_uri": "https://localhost:8080/"
        },
        "id": "OZ1mgcMVXneh",
        "outputId": "21eec3b5-0200-4e93-f5ad-ef08173a0acb"
      },
      "execution_count": null,
      "outputs": [
        {
          "output_type": "stream",
          "name": "stdout",
          "text": [
            "\n",
            "=== Covariance Matrix ===\n",
            "Covariance Matrix (Sample):\n",
            "media_id           13            28            73            101           105\n",
            "media_id                                                                      \n",
            "13        3.811138e-02  2.674105e-31  3.355932e-03  5.348210e-32  1.431262e-03\n",
            "28        2.674105e-31  8.549153e-02  2.180339e-02  0.000000e+00  2.674105e-31\n",
            "73        3.355932e-03  2.180339e-02  8.705085e-02  5.348210e-32 -2.561205e-04\n",
            "101       5.348210e-32  0.000000e+00  5.348210e-32  2.420904e-02  5.028249e-03\n",
            "105       1.431262e-03  2.674105e-31 -2.561205e-04  5.028249e-03  3.348399e-02\n"
          ]
        }
      ]
    },
    {
      "cell_type": "markdown",
      "source": [
        "# Top 5 and Top 10 Peers Using Covariance Matrix"
      ],
      "metadata": {
        "id": "odHlA256YZck"
      }
    },
    {
      "cell_type": "code",
      "source": [
        "def find_top_peers(cov_matrix, target_items, top_n=5):\n",
        "\n",
        "    top_peers = {}\n",
        "\n",
        "    for item in target_items:\n",
        "\n",
        "        sorted_peers = cov_matrix[item].sort_values(ascending=False).drop(item)\n",
        "        top_peers[item] = sorted_peers.head(top_n).index.tolist()\n",
        "\n",
        "    return top_peers\n",
        "\n",
        "print(\"\\n=== Top Peers for Each Target Item ===\")\n",
        "top_5_peers = find_top_peers(cov_matrix, target_items, top_n=5)\n",
        "top_10_peers = find_top_peers(cov_matrix, target_items, top_n=10)\n",
        "\n",
        "for item in target_items:\n",
        "    print(f\"\\nItem {item} - Top 5 Peers: {top_5_peers[item]}\")\n",
        "    print(f\"Item {item} - Top 10 Peers: {top_10_peers[item]}\")\n"
      ],
      "metadata": {
        "colab": {
          "base_uri": "https://localhost:8080/"
        },
        "id": "y6tPw_yTX1m6",
        "outputId": "089ca474-2321-43f0-8e70-f97817962d03"
      },
      "execution_count": null,
      "outputs": [
        {
          "output_type": "stream",
          "name": "stdout",
          "text": [
            "\n",
            "=== Top Peers for Each Target Item ===\n",
            "\n",
            "Item 8587 - Top 5 Peers: [122, 598, 637920, 567, 299536]\n",
            "Item 8587 - Top 10 Peers: [122, 598, 637920, 567, 299536, 14537, 128, 73, 807, 240]\n",
            "\n",
            "Item 42269 - Top 5 Peers: [696374, 4935, 129, 10494, 670]\n",
            "Item 42269 - Top 10 Peers: [696374, 4935, 129, 10494, 670, 28, 598, 110420, 278, 299536]\n"
          ]
        }
      ]
    },
    {
      "cell_type": "markdown",
      "source": [
        "# Reduced Dimensional Space Using Top Peers"
      ],
      "metadata": {
        "id": "vZikZaWzYgcp"
      }
    },
    {
      "cell_type": "code",
      "source": [
        "def compute_reduced_dimensional_space(mean_filled_matrix, top_peers, target_items):\n",
        "\n",
        "    reduced_spaces = {}\n",
        "\n",
        "    for item in target_items:\n",
        "\n",
        "        reduced_space = mean_filled_matrix[top_peers[item]].mean(axis=1)\n",
        "\n",
        "        min_val = reduced_space.min()\n",
        "        max_val = reduced_space.max()\n",
        "        scaled_space = (reduced_space - min_val) / (max_val - min_val) * 4 + 1\n",
        "\n",
        "        reduced_spaces[item] = scaled_space\n",
        "\n",
        "    return reduced_spaces\n",
        "\n",
        "print(\"\\n Reduced Dimensional Space :\")\n",
        "reduced_spaces = compute_reduced_dimensional_space(mean_filled_matrix, top_10_peers, target_items)\n",
        "\n",
        "for item, space in reduced_spaces.items():\n",
        "    print(f\"\\nItem {item} - Reduced Dimensional Space:\")\n",
        "    print(space.head().to_string())\n"
      ],
      "metadata": {
        "colab": {
          "base_uri": "https://localhost:8080/"
        },
        "id": "z74ZX0n4YWsl",
        "outputId": "1c6d001b-442d-40a0-93e0-741cd54e3d42"
      },
      "execution_count": null,
      "outputs": [
        {
          "output_type": "stream",
          "name": "stdout",
          "text": [
            "\n",
            " Reduced Dimensional Space :\n",
            "\n",
            "Item 8587 - Reduced Dimensional Space:\n",
            "user_id\n",
            "1    1.904975\n",
            "2    2.072563\n",
            "3    2.072563\n",
            "4    2.128426\n",
            "5    2.072563\n",
            "\n",
            "Item 42269 - Reduced Dimensional Space:\n",
            "user_id\n",
            "1    3.311740\n",
            "2    2.964203\n",
            "3    3.589769\n",
            "4    3.103218\n",
            "5    2.755681\n"
          ]
        }
      ]
    },
    {
      "cell_type": "markdown",
      "source": [
        "# Compute Rating Predictions for Missing Values"
      ],
      "metadata": {
        "id": "7KxFRs4GZQQ4"
      }
    },
    {
      "cell_type": "code",
      "source": [
        "\n",
        "print(\"\\n Predicted Ratings for Missing Values :\")\n",
        "predicted_ratings = {}\n",
        "for item in target_items:\n",
        "    missing_users = user_item_matrix[item][user_item_matrix[item].isna()].index\n",
        "    predicted_ratings[item] = reduced_spaces[item].loc[missing_users]\n",
        "\n",
        "for item, preds in predicted_ratings.items():\n",
        "    print(f\"\\nItem {item} - Predicted Ratings :\")\n",
        "    print(preds.head().to_string())"
      ],
      "metadata": {
        "colab": {
          "base_uri": "https://localhost:8080/"
        },
        "id": "uoVKwuWFZKMb",
        "outputId": "c80b67b7-deb5-4b52-958c-162f675e45d3"
      },
      "execution_count": null,
      "outputs": [
        {
          "output_type": "stream",
          "name": "stdout",
          "text": [
            "\n",
            " Predicted Ratings for Missing Values :\n",
            "\n",
            "Item 8587 - Predicted Ratings :\n",
            "user_id\n",
            "1    1.904975\n",
            "2    2.072563\n",
            "3    2.072563\n",
            "4    2.128426\n",
            "5    2.072563\n",
            "\n",
            "Item 42269 - Predicted Ratings :\n",
            "user_id\n",
            "1    3.311740\n",
            "2    2.964203\n",
            "3    3.589769\n",
            "4    3.103218\n",
            "5    2.755681\n"
          ]
        }
      ]
    },
    {
      "cell_type": "markdown",
      "source": [
        "# Comparing Results of Rating Predictions"
      ],
      "metadata": {
        "id": "FlLtYL5EZpg8"
      }
    },
    {
      "cell_type": "code",
      "source": [
        "\n",
        "print(\"\\n Comparison of Predicted Ratings :\")\n",
        "for item in target_items:\n",
        "    if not predicted_ratings[item].empty:\n",
        "        print(f\"Item {item} - Mean of Predicted Ratings: {predicted_ratings[item].mean():.2f}\")\n",
        "    else:\n",
        "        print(f\"Item {item} - No Missing Ratings Found.\")"
      ],
      "metadata": {
        "colab": {
          "base_uri": "https://localhost:8080/"
        },
        "id": "xX6LtrbZZcqa",
        "outputId": "eba04746-1217-46f6-fa6d-30ea5eda01e3"
      },
      "execution_count": null,
      "outputs": [
        {
          "output_type": "stream",
          "name": "stdout",
          "text": [
            "\n",
            " Comparison of Predicted Ratings :\n",
            "Item 8587 - Mean of Predicted Ratings: 1.88\n",
            "Item 42269 - Mean of Predicted Ratings: 2.76\n"
          ]
        }
      ]
    },
    {
      "cell_type": "markdown",
      "source": [
        "# Part 2: PCA Method with Maximum Likelihood Estimation (MLE)"
      ],
      "metadata": {
        "id": "D0u7F95aZ3qG"
      }
    },
    {
      "cell_type": "markdown",
      "source": [
        "# Variance Across Peers"
      ],
      "metadata": {
        "id": "gnTH-LNUaGsk"
      }
    },
    {
      "cell_type": "code",
      "source": [
        "def analyze_variance_among_peers(mean_filled_matrix, top_peers, target_items):\n",
        "\n",
        "    variance_among_peers = {}\n",
        "\n",
        "    for item in target_items:\n",
        "\n",
        "        peer_ratings = mean_filled_matrix[top_peers[item]]\n",
        "\n",
        "\n",
        "        variance_among_peers[item] = peer_ratings.var(axis=1).mean()\n",
        "\n",
        "    return variance_among_peers\n",
        "\n",
        "\n",
        "print(\"\\n Variance of Ratings Among Top 10 Peers :\")\n",
        "variance_among_peers = analyze_variance_among_peers(mean_filled_matrix, top_10_peers, target_items)\n",
        "\n",
        "\n",
        "for item, variance in variance_among_peers.items():\n",
        "    print(f\"Item {item}: Variance Among Top 10 Peers = {variance:.4f}\")\n"
      ],
      "metadata": {
        "colab": {
          "base_uri": "https://localhost:8080/"
        },
        "id": "fKrgMoMuZyUE",
        "outputId": "c19b8fae-6542-455a-c20d-6e0413aaa4c7"
      },
      "execution_count": null,
      "outputs": [
        {
          "output_type": "stream",
          "name": "stdout",
          "text": [
            "\n",
            " Variance of Ratings Among Top 10 Peers :\n",
            "Item 8587: Variance Among Top 10 Peers = 0.0800\n",
            "Item 42269: Variance Among Top 10 Peers = 0.0911\n"
          ]
        }
      ]
    },
    {
      "cell_type": "markdown",
      "source": [
        "# Sparsity of Target Items"
      ],
      "metadata": {
        "id": "TX_bON_aabeF"
      }
    },
    {
      "cell_type": "code",
      "source": [
        "def calculate_sparsity_of_target_items(user_item_matrix, target_items):\n",
        "\n",
        "    sparsity_results = {}\n",
        "\n",
        "\n",
        "    sparsity_target_items = user_item_matrix[target_items].isna().mean() * 100\n",
        "    for item, sparsity in sparsity_target_items.items():\n",
        "        sparsity_results[item] = sparsity\n",
        "\n",
        "    return sparsity_results\n",
        "\n",
        "\n",
        "print(\"\\n Sparsity of Target Items :\")\n",
        "sparsity_target_items = calculate_sparsity_of_target_items(user_item_matrix, target_items)\n",
        "\n",
        "\n",
        "for item, sparsity in sparsity_target_items.items():\n",
        "    print(f\"Item {item}: Sparsity = {sparsity:.2f}%\")\n"
      ],
      "metadata": {
        "colab": {
          "base_uri": "https://localhost:8080/"
        },
        "id": "H6foKJ43adKO",
        "outputId": "562590b6-bac6-4a67-ca50-0a302d784755"
      },
      "execution_count": null,
      "outputs": [
        {
          "output_type": "stream",
          "name": "stdout",
          "text": [
            "\n",
            " Sparsity of Target Items :\n",
            "Item 8587: Sparsity = 90.00%\n",
            "Item 42269: Sparsity = 91.67%\n"
          ]
        }
      ]
    },
    {
      "cell_type": "markdown",
      "source": [
        "# PCA with Mean-Filling"
      ],
      "metadata": {
        "id": "2671WgZ-a30v"
      }
    },
    {
      "cell_type": "code",
      "source": [
        "from sklearn.decomposition import PCA\n",
        "import numpy as np\n",
        "\n",
        "def pca_with_mean_filling(data, target_items, ratings_matrix, n_components=5):\n",
        "\n",
        "    results = {}\n",
        "\n",
        "\n",
        "    print(\"\\nStep 1: Calculating the average rating for target items...\")\n",
        "    average_ratings = data.groupby('media_id')['rating'].mean()\n",
        "    target_averages = {item: average_ratings[item] for item in target_items}\n",
        "    print(f\"Target Item Averages Calculated: {target_averages}\")\n",
        "\n",
        "    print(\"\\nStep 2: Applying mean-filling for missing ratings...\")\n",
        "    ratings_matrix_filled = ratings_matrix.copy()\n",
        "    ratings_matrix_filled = ratings_matrix_filled.fillna(ratings_matrix.mean(axis=0))\n",
        "    print(\"Mean-filling completed.\")\n",
        "    print(f\"Mean-filled Ratings Matrix (Preview):\\n{ratings_matrix_filled.iloc[:5, :5]}\")\n",
        "\n",
        "    print(\"\\nStep 3: Generating covariance matrix...\")\n",
        "    covariance_matrix = np.cov(ratings_matrix_filled, rowvar=False)\n",
        "    print(\"Covariance matrix generated.\")\n",
        "    print(f\"Covariance Matrix Shape: {covariance_matrix.shape}\")\n",
        "\n",
        "\n",
        "    print(\"\\nStep 4: Performing dimensionality reduction using PCA...\")\n",
        "    pca = PCA(n_components=n_components)\n",
        "    reduced_dimensional_space = pca.fit_transform(ratings_matrix_filled)\n",
        "    print(\"Dimensionality reduction completed.\")\n",
        "    print(f\"Reduced Dimensional Space Shape: {reduced_dimensional_space.shape}\")\n",
        "\n",
        "\n",
        "    print(\"\\nStep 5: Predicting ratings for target items using top peers...\")\n",
        "    predicted_ratings = {}\n",
        "    for item in target_items:\n",
        "\n",
        "        item_index = target_items.index(item)\n",
        "        similarities = reduced_dimensional_space[:, item_index]\n",
        "\n",
        "\n",
        "        peers = np.argsort(-similarities)[:5]  # Top 5 peers\n",
        "        predicted_ratings[item] = reduced_dimensional_space[peers, item_index].mean()\n",
        "        print(f\"  - Target Item {item}:\")\n",
        "        print(f\"    Top 5 Peers: {peers}\")\n",
        "        print(f\"    Predicted Rating: {predicted_ratings[item]:.4f}\")\n",
        "\n",
        "    results['predicted_ratings'] = predicted_ratings\n",
        "    results['reduced_dimensional_space'] = reduced_dimensional_space\n",
        "\n",
        "    return results\n",
        "\n",
        "\n",
        "print(\"\\n=== PCA with Mean-Filling ===\")\n",
        "target_items = [I1, I2]\n",
        "results = pca_with_mean_filling(data, target_items, ratings_matrix, n_components=5)\n",
        "\n",
        "\n",
        "print(\"\\n=== PCA with Mean-Filling Results ===\")\n",
        "for item, rating in results['predicted_ratings'].items():\n",
        "    print(f\"Target Item {item}: Predicted Rating = {rating:.4f}\")\n"
      ],
      "metadata": {
        "colab": {
          "base_uri": "https://localhost:8080/"
        },
        "id": "mDpuNiaLa10e",
        "outputId": "2d729894-05bd-4f11-8846-bf2c55488d5c"
      },
      "execution_count": null,
      "outputs": [
        {
          "output_type": "stream",
          "name": "stdout",
          "text": [
            "\n",
            "=== PCA with Mean-Filling ===\n",
            "\n",
            "Step 1: Calculating the average rating for target items...\n",
            "Target Item Averages Calculated: {8587: 7.783333333333334, 42269: 7.9}\n",
            "\n",
            "Step 2: Applying mean-filling for missing ratings...\n",
            "Mean-filling completed.\n",
            "Mean-filled Ratings Matrix (Preview):\n",
            "media_id  13    28    73        101       105\n",
            "user_id                                      \n",
            "1         8.9  8.46  8.32  8.283333  8.422222\n",
            "2         8.1  8.46  8.32  8.283333  8.422222\n",
            "3         7.9  8.46  8.32  8.283333  8.422222\n",
            "4         9.0  8.46  8.32  8.283333  8.422222\n",
            "5         8.9  8.46  8.32  8.283333  8.422222\n",
            "\n",
            "Step 3: Generating covariance matrix...\n",
            "Covariance matrix generated.\n",
            "Covariance Matrix Shape: (86, 86)\n",
            "\n",
            "Step 4: Performing dimensionality reduction using PCA...\n",
            "Dimensionality reduction completed.\n",
            "Reduced Dimensional Space Shape: (60, 5)\n",
            "\n",
            "Step 5: Predicting ratings for target items using top peers...\n",
            "  - Target Item 8587:\n",
            "    Top 5 Peers: [30 39 42 47 15]\n",
            "    Predicted Rating: 1.2155\n",
            "  - Target Item 42269:\n",
            "    Top 5 Peers: [12 56 49 48 39]\n",
            "    Predicted Rating: 0.9749\n",
            "\n",
            "=== PCA with Mean-Filling Results ===\n",
            "Target Item 8587: Predicted Rating = 1.2155\n",
            "Target Item 42269: Predicted Rating = 0.9749\n"
          ]
        }
      ]
    },
    {
      "cell_type": "markdown",
      "source": [
        "# Comparison of Results for Top 10 Peers (PCA MLE)"
      ],
      "metadata": {
        "id": "2XefC9A4hzVm"
      }
    },
    {
      "cell_type": "code",
      "source": [
        "import numpy as np\n",
        "from sklearn.metrics.pairwise import cosine_similarity\n",
        "\n",
        "def analyze_top_10_peers_with_pca(ratings_matrix, target_items):\n",
        "\n",
        "    results = {}\n",
        "\n",
        "\n",
        "    print(\"\\nStep 1: Filling missing values with 0...\")\n",
        "    ratings_matrix_filled = ratings_matrix.fillna(0)\n",
        "\n",
        "\n",
        "    print(\"\\nStep 2: Computing cosine similarity for users...\")\n",
        "    user_similarity = cosine_similarity(ratings_matrix_filled)\n",
        "    np.fill_diagonal(user_similarity, 0)\n",
        "\n",
        "\n",
        "    target_item_indices = [ratings_matrix.columns.get_loc(item) for item in target_items]\n",
        "\n",
        "\n",
        "    print(\"\\nStep 3: Identifying top 10 peers for each target item...\")\n",
        "    top_10_peers = {}\n",
        "    for target_item_idx in target_item_indices:\n",
        "\n",
        "        top_10_peers[target_item_idx] = np.argsort(user_similarity[:, target_item_idx])[-10:]\n",
        "\n",
        "    print(\"Top 10 peers for each target item identified:\")\n",
        "    for target_item, peers in zip(target_items, top_10_peers.values()):\n",
        "        print(f\"  Target Item {target_item}: {peers}\")\n",
        "\n",
        "\n",
        "    print(\"\\nStep 4: Calculating reduced dimensional space using top 10 peers...\")\n",
        "    reduced_dimensional_space_top_10 = {}\n",
        "    for target_item_idx in target_item_indices:\n",
        "        peers = top_10_peers[target_item_idx]\n",
        "        reduced_dimensional_space_top_10[target_item_idx] = ratings_matrix_filled.iloc[peers].mean(axis=0)\n",
        "\n",
        "    print(\"Reduced dimensional space for top 10 peers calculated.\")\n",
        "\n",
        "    print(\"\\nStep 5: Predicting ratings using top 10 peers...\")\n",
        "    predicted_ratings_top_10 = {}\n",
        "    for target_item_idx in target_item_indices:\n",
        "        peers = top_10_peers[target_item_idx]\n",
        "        predicted_ratings_top_10[target_item_idx] = reduced_dimensional_space_top_10[target_item_idx].mean()\n",
        "\n",
        "    print(\"Predicted ratings for top 10 peers calculated:\")\n",
        "    for target_item, predicted_rating in zip(target_items, predicted_ratings_top_10.values()):\n",
        "        print(f\"  Predicted rating for Target Item {target_item}: {predicted_rating:.2f}\")\n",
        "\n",
        "\n",
        "    results['predicted_ratings'] = predicted_ratings_top_10\n",
        "    results['reduced_dimensional_space'] = reduced_dimensional_space_top_10\n",
        "    results['top_10_peers'] = top_10_peers\n",
        "\n",
        "    return results\n",
        "\n",
        "\n",
        "print(\"\\n PCA MLE: Top 10 Peers Analysis :\")\n",
        "results = analyze_top_10_peers_with_pca(ratings_matrix, target_items)\n",
        "\n",
        "\n",
        "print(\"\\n Results for Top 10 Peers :\")\n",
        "for target_item, predicted_rating in zip(target_items, results['predicted_ratings'].values()):\n",
        "    print(f\"Predicted rating for Target Item {target_item}: {predicted_rating:.2f}\")\n"
      ],
      "metadata": {
        "colab": {
          "base_uri": "https://localhost:8080/"
        },
        "id": "2jsQa5SVhubD",
        "outputId": "af1ba738-6b0e-45ea-d608-46f9d3a63abd"
      },
      "execution_count": null,
      "outputs": [
        {
          "output_type": "stream",
          "name": "stdout",
          "text": [
            "\n",
            " PCA MLE: Top 10 Peers Analysis :\n",
            "\n",
            "Step 1: Filling missing values with 0...\n",
            "\n",
            "Step 2: Computing cosine similarity for users...\n",
            "\n",
            "Step 3: Identifying top 10 peers for each target item...\n",
            "Top 10 peers for each target item identified:\n",
            "  Target Item 8587: [18 17 47 50 10 57 39 40 46 41]\n",
            "  Target Item 42269: [44 50 12 40 18 54 32 14 56 57]\n",
            "\n",
            "Step 4: Calculating reduced dimensional space using top 10 peers...\n",
            "Reduced dimensional space for top 10 peers calculated.\n",
            "\n",
            "Step 5: Predicting ratings using top 10 peers...\n",
            "Predicted ratings for top 10 peers calculated:\n",
            "  Predicted rating for Target Item 8587: 1.66\n",
            "  Predicted rating for Target Item 42269: 1.72\n",
            "\n",
            " Results for Top 10 Peers :\n",
            "Predicted rating for Target Item 8587: 1.66\n",
            "Predicted rating for Target Item 42269: 1.72\n"
          ]
        }
      ]
    },
    {
      "cell_type": "markdown",
      "source": [
        "# Covariance Matrix with Maximum Likelihood Estimation (MLE)"
      ],
      "metadata": {
        "id": "QZEgNp8vkVIg"
      }
    },
    {
      "cell_type": "code",
      "source": [
        "\n",
        "print(\"\\n=== Covariance Matrix with Maximum Likelihood Estimation (MLE) ===\")\n",
        "cov_matrix_mle = mean_filled_matrix.cov()\n",
        "print(\"Covariance Matrix (Sample):\")\n",
        "print(cov_matrix_mle.iloc[:5, :5].to_string())"
      ],
      "metadata": {
        "colab": {
          "base_uri": "https://localhost:8080/"
        },
        "id": "swL2u4jfkIOQ",
        "outputId": "64c62819-7612-47f4-d7ef-6100c43c300b"
      },
      "execution_count": null,
      "outputs": [
        {
          "output_type": "stream",
          "name": "stdout",
          "text": [
            "\n",
            "=== Covariance Matrix with Maximum Likelihood Estimation (MLE) ===\n",
            "Covariance Matrix (Sample):\n",
            "media_id           13            28            73            101           105\n",
            "media_id                                                                      \n",
            "13        3.811138e-02  2.674105e-31  3.355932e-03  5.348210e-32  1.431262e-03\n",
            "28        2.674105e-31  8.549153e-02  2.180339e-02  0.000000e+00  2.674105e-31\n",
            "73        3.355932e-03  2.180339e-02  8.705085e-02  5.348210e-32 -2.561205e-04\n",
            "101       5.348210e-32  0.000000e+00  5.348210e-32  2.420904e-02  5.028249e-03\n",
            "105       1.431262e-03  2.674105e-31 -2.561205e-04  5.028249e-03  3.348399e-02\n"
          ]
        }
      ]
    },
    {
      "cell_type": "markdown",
      "source": [
        "# Top 5 and Top 10 Peers Using MLE"
      ],
      "metadata": {
        "id": "sC7O9LRhkZdT"
      }
    },
    {
      "cell_type": "code",
      "source": [
        "def determine_top_peers_mle(cov_matrix, target_items, top_n=10):\n",
        "\n",
        "    top_peers = {\n",
        "        \"top_5\": {},\n",
        "        \"top_n\": {}\n",
        "    }\n",
        "\n",
        "    for item in target_items:\n",
        "\n",
        "        sorted_peers = cov_matrix[item].sort_values(ascending=False).drop(item)\n",
        "        top_peers[\"top_5\"][item] = sorted_peers.head(5).index.tolist()\n",
        "        top_peers[\"top_n\"][item] = sorted_peers.head(top_n).index.tolist()\n",
        "\n",
        "    return top_peers\n",
        "\n",
        "\n",
        "print(\"\\n=== Top Peers for Each Target Item Using MLE ===\")\n",
        "top_peers_mle = determine_top_peers_mle(cov_matrix_mle, target_items, top_n=10)\n",
        "\n",
        "\n",
        "for item in target_items:\n",
        "    print(f\"\\nItem {item} - Top 5 Peers Using MLE: {top_peers_mle['top_5'][item]}\")\n",
        "    print(f\"Item {item} - Top 10 Peers Using MLE: {top_peers_mle['top_n'][item]}\")\n"
      ],
      "metadata": {
        "colab": {
          "base_uri": "https://localhost:8080/"
        },
        "id": "vcrPySlfkdFX",
        "outputId": "7461fe9e-ac47-4a6d-9a6a-62caa5143342"
      },
      "execution_count": null,
      "outputs": [
        {
          "output_type": "stream",
          "name": "stdout",
          "text": [
            "\n",
            "=== Top Peers for Each Target Item Using MLE ===\n",
            "\n",
            "Item 8587 - Top 5 Peers Using MLE: [122, 598, 637920, 567, 299536]\n",
            "Item 8587 - Top 10 Peers Using MLE: [122, 598, 637920, 567, 299536, 14537, 128, 73, 807, 240]\n",
            "\n",
            "Item 42269 - Top 5 Peers Using MLE: [696374, 4935, 129, 10494, 670]\n",
            "Item 42269 - Top 10 Peers Using MLE: [696374, 4935, 129, 10494, 670, 28, 598, 110420, 278, 299536]\n"
          ]
        }
      ]
    },
    {
      "cell_type": "markdown",
      "source": [
        "# Reduced Dimensional Space Using Top Peers"
      ],
      "metadata": {
        "id": "qVJSdHlhmiF-"
      }
    },
    {
      "cell_type": "code",
      "source": [
        "def determine_top_peers_mle(cov_matrix, target_items, top_n=10):\n",
        "\n",
        "    top_peers_mle = {}\n",
        "    for item in target_items:\n",
        "\n",
        "        sorted_peers = cov_matrix[item].sort_values(ascending=False).drop(item)\n",
        "        top_peers_mle[item] = sorted_peers.head(top_n).index.tolist()\n",
        "    return top_peers_mle\n",
        "\n",
        "print(\"\\n Top 10 Peers Using (MLE):\")\n",
        "top_10_peers_mle = determine_top_peers_mle(cov_matrix_mle, target_items, top_n=10)\n",
        "\n",
        "def scale_to_1_5(series):\n",
        "\n",
        "    min_val = series.min()\n",
        "    max_val = series.max()\n",
        "    return ((series - min_val) / (max_val - min_val)) * 4 + 1\n",
        "\n",
        "def compute_reduced_space_with_mle(mean_filled_matrix, top_peers_mle, target_items):\n",
        "\n",
        "    reduced_spaces = {}\n",
        "    for item in target_items:\n",
        "\n",
        "        reduced_space = mean_filled_matrix[top_peers_mle[item]].mean(axis=1)\n",
        "\n",
        "        reduced_spaces[item] = scale_to_1_5(reduced_space)\n",
        "    return reduced_spaces\n",
        "\n",
        "\n",
        "print(\"\\nReduced Dimensional Space Using Top Peers (MLE):\")\n",
        "reduced_spaces_mle = compute_reduced_space_with_mle(mean_filled_matrix, top_10_peers_mle, target_items)\n",
        "\n",
        "\n",
        "for item, space in reduced_spaces_mle.items():\n",
        "    print(f\"\\nItem {item} - Reduced Dimensional Space Using MLE  :\")\n",
        "    print(space.head().to_string())\n",
        "\n"
      ],
      "metadata": {
        "colab": {
          "base_uri": "https://localhost:8080/"
        },
        "id": "on5f8wtgmlBb",
        "outputId": "72246889-8f67-4254-c47f-4a91947aa63e"
      },
      "execution_count": null,
      "outputs": [
        {
          "output_type": "stream",
          "name": "stdout",
          "text": [
            "\n",
            " Top 10 Peers Using (MLE):\n",
            "\n",
            "Reduced Dimensional Space Using Top Peers (MLE):\n",
            "\n",
            "Item 8587 - Reduced Dimensional Space Using MLE  :\n",
            "user_id\n",
            "1    1.904975\n",
            "2    2.072563\n",
            "3    2.072563\n",
            "4    2.128426\n",
            "5    2.072563\n",
            "\n",
            "Item 42269 - Reduced Dimensional Space Using MLE  :\n",
            "user_id\n",
            "1    3.311740\n",
            "2    2.964203\n",
            "3    3.589769\n",
            "4    3.103218\n",
            "5    2.755681\n"
          ]
        }
      ]
    },
    {
      "cell_type": "markdown",
      "source": [
        "# Rating Predictions for Missing Values Using MLE"
      ],
      "metadata": {
        "id": "gyndMtx0poll"
      }
    },
    {
      "cell_type": "code",
      "source": [
        "def predict_missing_ratings_mle(user_item_matrix, reduced_spaces_mle, target_items):\n",
        "\n",
        "    predicted_ratings = {}\n",
        "\n",
        "    for item in target_items:\n",
        "\n",
        "        missing_users = user_item_matrix[item][user_item_matrix[item].isna()].index\n",
        "\n",
        "\n",
        "        predicted_ratings[item] = reduced_spaces_mle[item].loc[missing_users]\n",
        "\n",
        "    return predicted_ratings\n",
        "\n",
        "\n",
        "print(\"\\n=== Predicted Ratings for Missing Values Using MLE ===\")\n",
        "predicted_ratings_mle = predict_missing_ratings_mle(user_item_matrix, reduced_spaces_mle, target_items)\n",
        "\n",
        "\n",
        "for item, preds in predicted_ratings_mle.items():\n",
        "    print(f\"\\nItem {item} - Predicted Ratings Using MLE (Sample):\")\n",
        "    print(preds.head().to_string())\n"
      ],
      "metadata": {
        "colab": {
          "base_uri": "https://localhost:8080/"
        },
        "id": "33_s5Eu9oJVg",
        "outputId": "934fcb89-0357-40bf-c2c8-c9710a2b4913"
      },
      "execution_count": null,
      "outputs": [
        {
          "output_type": "stream",
          "name": "stdout",
          "text": [
            "\n",
            "=== Predicted Ratings for Missing Values Using MLE ===\n",
            "\n",
            "Item 8587 - Predicted Ratings Using MLE (Sample):\n",
            "user_id\n",
            "1    1.904975\n",
            "2    2.072563\n",
            "3    2.072563\n",
            "4    2.128426\n",
            "5    2.072563\n",
            "\n",
            "Item 42269 - Predicted Ratings Using MLE (Sample):\n",
            "user_id\n",
            "1    3.311740\n",
            "2    2.964203\n",
            "3    3.589769\n",
            "4    3.103218\n",
            "5    2.755681\n"
          ]
        }
      ]
    },
    {
      "cell_type": "markdown",
      "source": [
        "# Compare Results of MLE Predictions with Part 1"
      ],
      "metadata": {
        "id": "tb-ELGJTqZG5"
      }
    },
    {
      "cell_type": "code",
      "source": [
        "def compare_mle_predictions_with_part1(predicted_ratings_mle, target_items):\n",
        "\n",
        "    comparison_results = {}\n",
        "\n",
        "    print(\"\\n Comparison of MLE Predictions with Part 1 :\")\n",
        "    for item in target_items:\n",
        "        if not predicted_ratings_mle[item].empty:\n",
        "            mle_mean = predicted_ratings_mle[item].mean()\n",
        "            comparison_results[item] = mle_mean\n",
        "            print(f\"Item {item} - Mean Predicted Rating (MLE): {mle_mean:.2f}\")\n",
        "        else:\n",
        "            comparison_results[item] = None\n",
        "            print(f\"Item {item} - No Missing Ratings Found for MLE.\")\n",
        "\n",
        "    return comparison_results\n",
        "\n",
        "comparison_results = compare_mle_predictions_with_part1(predicted_ratings_mle, target_items)\n",
        "\n",
        "print(\"\\n Final Comparison Results :\")\n",
        "for item, mle_mean in comparison_results.items():\n",
        "    if mle_mean is not None:\n",
        "        print(f\"Item {item} - Mean Predicted Rating (MLE): {mle_mean:.2f}\")\n",
        "    else:\n",
        "        print(f\"Item {item} - No Missing Ratings Found for MLE.\")\n"
      ],
      "metadata": {
        "colab": {
          "base_uri": "https://localhost:8080/"
        },
        "id": "NBYiVwneqNlq",
        "outputId": "3c64051b-6cdd-4661-b97b-980722328d03"
      },
      "execution_count": null,
      "outputs": [
        {
          "output_type": "stream",
          "name": "stdout",
          "text": [
            "\n",
            " Comparison of MLE Predictions with Part 1 :\n",
            "Item 8587 - Mean Predicted Rating (MLE): 1.88\n",
            "Item 42269 - Mean Predicted Rating (MLE): 2.76\n",
            "\n",
            " Final Comparison Results :\n",
            "Item 8587 - Mean Predicted Rating (MLE): 1.88\n",
            "Item 42269 - Mean Predicted Rating (MLE): 2.76\n"
          ]
        }
      ]
    }
  ]
}